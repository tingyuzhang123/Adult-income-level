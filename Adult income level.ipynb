{
 "cells": [
  {
   "cell_type": "code",
   "execution_count": 1,
   "metadata": {},
   "outputs": [],
   "source": [
    "import findspark\n",
    "findspark.init('/home/ubuntu/spark-2.1.1-bin-hadoop2.7')\n",
    "import pyspark\n",
    "from pyspark.sql import *\n",
    "spark = SparkSession.builder.appName('logistic_regression_adv').getOrCreate()\n",
    "from pyspark.sql import SparkSession\n",
    "spark = SparkSession.builder.appName('basics').getOrCreate()\n",
    "from pyspark.ml.classification import LogisticRegression\n",
    "from pyspark.ml import Pipeline\n",
    "from pyspark.ml.regression import DecisionTreeRegressor\n",
    "from pyspark.ml.feature import VectorIndexer\n",
    "from pyspark.ml.evaluation import RegressionEvaluator\n",
    "from pyspark.ml.linalg import Vector,Vectors\n",
    "from pyspark.sql import Row\n",
    "from pyspark.ml import Pipeline\n",
    "from pyspark.ml.feature import IndexToString,StringIndexer,VectorIndexer\n",
    "import pandas as pd"
   ]
  },
  {
   "cell_type": "code",
   "execution_count": 32,
   "metadata": {},
   "outputs": [
    {
     "data": {
      "text/plain": [
       "[Row(age=90, workclass='Private', fnlwgt=77053, education='HS-grad', educationnum=9, maritalstatus='Widowed', occupation=None, relationship='Not-in-family', race='White', sex='Female', capitalgain=0, capitalloss=4356, hoursperweek=40, nativecountry='United-States', income='<=50K')]"
      ]
     },
     "execution_count": 32,
     "metadata": {},
     "output_type": "execute_result"
    }
   ],
   "source": [
    "df = spark.read.csv('adult income.csv',header=True,inferSchema=True)\n",
    "df.take(1)"
   ]
  },
  {
   "cell_type": "code",
   "execution_count": 4,
   "metadata": {},
   "outputs": [
    {
     "name": "stdout",
     "output_type": "stream",
     "text": [
      "+---+----------------+------+------------+------------+-------------+-----------------+--------------+-----+------+-----------+-----------+------------+-------------+------+\n",
      "|age|       workclass|fnlwgt|   education|educationnum|maritalstatus|       occupation|  relationship| race|   sex|capitalgain|capitalloss|hoursperweek|nativecountry|income|\n",
      "+---+----------------+------+------------+------------+-------------+-----------------+--------------+-----+------+-----------+-----------+------------+-------------+------+\n",
      "| 90|         Private| 77053|     HS-grad|           9|      Widowed|             null| Not-in-family|White|Female|          0|       4356|          40|United-States| <=50K|\n",
      "| 82|         Private|132870|     HS-grad|           9|      Widowed|  Exec-managerial| Not-in-family|White|Female|          0|       4356|          18|United-States| <=50K|\n",
      "| 66|         Private|186061|Some-college|          10|      Widowed|             null|     Unmarried|Black|Female|          0|       4356|          40|United-States| <=50K|\n",
      "| 54|         Private|140359|     7th-8th|           4|     Divorced|Machine-op-inspct|     Unmarried|White|Female|          0|       3900|          40|United-States| <=50K|\n",
      "| 41|         Private|264663|Some-college|          10|    Separated|   Prof-specialty|     Own-child|White|Female|          0|       3900|          40|United-States| <=50K|\n",
      "| 34|         Private|216864|     HS-grad|           9|     Divorced|    Other-service|     Unmarried|White|Female|          0|       3770|          45|United-States| <=50K|\n",
      "| 38|         Private|150601|        10th|           6|    Separated|     Adm-clerical|     Unmarried|White|  Male|          0|       3770|          40|United-States| <=50K|\n",
      "| 74|       State-gov| 88638|   Doctorate|          16|Never-married|   Prof-specialty|Other-relative|White|Female|          0|       3683|          20|United-States|  >50K|\n",
      "| 68|     Federal-gov|422013|     HS-grad|           9|     Divorced|   Prof-specialty| Not-in-family|White|Female|          0|       3683|          40|United-States| <=50K|\n",
      "| 41|         Private| 70037|Some-college|          10|Never-married|     Craft-repair|     Unmarried|White|  Male|          0|       3004|          60|         null|  >50K|\n",
      "| 45|         Private|172274|   Doctorate|          16|     Divorced|   Prof-specialty|     Unmarried|Black|Female|          0|       3004|          35|United-States|  >50K|\n",
      "| 38|Self-emp-not-inc|164526| Prof-school|          15|Never-married|   Prof-specialty| Not-in-family|White|  Male|          0|       2824|          45|United-States|  >50K|\n",
      "| 52|         Private|129177|   Bachelors|          13|      Widowed|    Other-service| Not-in-family|White|Female|          0|       2824|          20|United-States|  >50K|\n",
      "| 32|         Private|136204|     Masters|          14|    Separated|  Exec-managerial| Not-in-family|White|  Male|          0|       2824|          55|United-States|  >50K|\n",
      "| 51|            null|172175|   Doctorate|          16|Never-married|             null| Not-in-family|White|  Male|          0|       2824|          40|United-States|  >50K|\n",
      "| 46|         Private| 45363| Prof-school|          15|     Divorced|   Prof-specialty| Not-in-family|White|  Male|          0|       2824|          40|United-States|  >50K|\n",
      "| 45|         Private|172822|        11th|           7|     Divorced| Transport-moving| Not-in-family|White|  Male|          0|       2824|          76|United-States|  >50K|\n",
      "| 57|         Private|317847|     Masters|          14|     Divorced|  Exec-managerial| Not-in-family|White|  Male|          0|       2824|          50|United-States|  >50K|\n",
      "| 22|         Private|119592|  Assoc-acdm|          12|Never-married|Handlers-cleaners| Not-in-family|Black|  Male|          0|       2824|          40|         null|  >50K|\n",
      "| 34|         Private|203034|   Bachelors|          13|    Separated|            Sales| Not-in-family|White|  Male|          0|       2824|          50|United-States|  >50K|\n",
      "+---+----------------+------+------------+------------+-------------+-----------------+--------------+-----+------+-----------+-----------+------------+-------------+------+\n",
      "only showing top 20 rows\n",
      "\n"
     ]
    }
   ],
   "source": [
    "df.show()"
   ]
  },
  {
   "cell_type": "code",
   "execution_count": 5,
   "metadata": {},
   "outputs": [
    {
     "name": "stdout",
     "output_type": "stream",
     "text": [
      "root\n",
      " |-- age: integer (nullable = true)\n",
      " |-- workclass: string (nullable = true)\n",
      " |-- fnlwgt: integer (nullable = true)\n",
      " |-- education: string (nullable = true)\n",
      " |-- educationnum: integer (nullable = true)\n",
      " |-- maritalstatus: string (nullable = true)\n",
      " |-- occupation: string (nullable = true)\n",
      " |-- relationship: string (nullable = true)\n",
      " |-- race: string (nullable = true)\n",
      " |-- sex: string (nullable = true)\n",
      " |-- capitalgain: integer (nullable = true)\n",
      " |-- capitalloss: integer (nullable = true)\n",
      " |-- hoursperweek: integer (nullable = true)\n",
      " |-- nativecountry: string (nullable = true)\n",
      " |-- income: string (nullable = true)\n",
      "\n",
      "['age', 'workclass', 'fnlwgt', 'education', 'educationnum', 'maritalstatus', 'occupation', 'relationship', 'race', 'sex', 'capitalgain', 'capitalloss', 'hoursperweek', 'nativecountry', 'income']\n"
     ]
    },
    {
     "data": {
      "text/html": [
       "<div>\n",
       "<style scoped>\n",
       "    .dataframe tbody tr th:only-of-type {\n",
       "        vertical-align: middle;\n",
       "    }\n",
       "\n",
       "    .dataframe tbody tr th {\n",
       "        vertical-align: top;\n",
       "    }\n",
       "\n",
       "    .dataframe thead th {\n",
       "        text-align: right;\n",
       "    }\n",
       "</style>\n",
       "<table border=\"1\" class=\"dataframe\">\n",
       "  <thead>\n",
       "    <tr style=\"text-align: right;\">\n",
       "      <th></th>\n",
       "      <th>age</th>\n",
       "      <th>workclass</th>\n",
       "      <th>fnlwgt</th>\n",
       "      <th>education</th>\n",
       "      <th>educationnum</th>\n",
       "      <th>maritalstatus</th>\n",
       "      <th>occupation</th>\n",
       "      <th>relationship</th>\n",
       "      <th>race</th>\n",
       "      <th>sex</th>\n",
       "      <th>capitalgain</th>\n",
       "      <th>capitalloss</th>\n",
       "      <th>hoursperweek</th>\n",
       "      <th>nativecountry</th>\n",
       "      <th>income</th>\n",
       "    </tr>\n",
       "  </thead>\n",
       "  <tbody>\n",
       "    <tr>\n",
       "      <th>0</th>\n",
       "      <td>90</td>\n",
       "      <td>Private</td>\n",
       "      <td>77053</td>\n",
       "      <td>HS-grad</td>\n",
       "      <td>9</td>\n",
       "      <td>Widowed</td>\n",
       "      <td>None</td>\n",
       "      <td>Not-in-family</td>\n",
       "      <td>White</td>\n",
       "      <td>Female</td>\n",
       "      <td>0</td>\n",
       "      <td>4356</td>\n",
       "      <td>40</td>\n",
       "      <td>United-States</td>\n",
       "      <td>&lt;=50K</td>\n",
       "    </tr>\n",
       "    <tr>\n",
       "      <th>1</th>\n",
       "      <td>82</td>\n",
       "      <td>Private</td>\n",
       "      <td>132870</td>\n",
       "      <td>HS-grad</td>\n",
       "      <td>9</td>\n",
       "      <td>Widowed</td>\n",
       "      <td>Exec-managerial</td>\n",
       "      <td>Not-in-family</td>\n",
       "      <td>White</td>\n",
       "      <td>Female</td>\n",
       "      <td>0</td>\n",
       "      <td>4356</td>\n",
       "      <td>18</td>\n",
       "      <td>United-States</td>\n",
       "      <td>&lt;=50K</td>\n",
       "    </tr>\n",
       "    <tr>\n",
       "      <th>2</th>\n",
       "      <td>66</td>\n",
       "      <td>Private</td>\n",
       "      <td>186061</td>\n",
       "      <td>Some-college</td>\n",
       "      <td>10</td>\n",
       "      <td>Widowed</td>\n",
       "      <td>None</td>\n",
       "      <td>Unmarried</td>\n",
       "      <td>Black</td>\n",
       "      <td>Female</td>\n",
       "      <td>0</td>\n",
       "      <td>4356</td>\n",
       "      <td>40</td>\n",
       "      <td>United-States</td>\n",
       "      <td>&lt;=50K</td>\n",
       "    </tr>\n",
       "    <tr>\n",
       "      <th>3</th>\n",
       "      <td>54</td>\n",
       "      <td>Private</td>\n",
       "      <td>140359</td>\n",
       "      <td>7th-8th</td>\n",
       "      <td>4</td>\n",
       "      <td>Divorced</td>\n",
       "      <td>Machine-op-inspct</td>\n",
       "      <td>Unmarried</td>\n",
       "      <td>White</td>\n",
       "      <td>Female</td>\n",
       "      <td>0</td>\n",
       "      <td>3900</td>\n",
       "      <td>40</td>\n",
       "      <td>United-States</td>\n",
       "      <td>&lt;=50K</td>\n",
       "    </tr>\n",
       "    <tr>\n",
       "      <th>4</th>\n",
       "      <td>41</td>\n",
       "      <td>Private</td>\n",
       "      <td>264663</td>\n",
       "      <td>Some-college</td>\n",
       "      <td>10</td>\n",
       "      <td>Separated</td>\n",
       "      <td>Prof-specialty</td>\n",
       "      <td>Own-child</td>\n",
       "      <td>White</td>\n",
       "      <td>Female</td>\n",
       "      <td>0</td>\n",
       "      <td>3900</td>\n",
       "      <td>40</td>\n",
       "      <td>United-States</td>\n",
       "      <td>&lt;=50K</td>\n",
       "    </tr>\n",
       "  </tbody>\n",
       "</table>\n",
       "</div>"
      ],
      "text/plain": [
       "   age workclass  fnlwgt     education  educationnum maritalstatus  \\\n",
       "0   90   Private   77053       HS-grad             9       Widowed   \n",
       "1   82   Private  132870       HS-grad             9       Widowed   \n",
       "2   66   Private  186061  Some-college            10       Widowed   \n",
       "3   54   Private  140359       7th-8th             4      Divorced   \n",
       "4   41   Private  264663  Some-college            10     Separated   \n",
       "\n",
       "          occupation   relationship   race     sex  capitalgain  capitalloss  \\\n",
       "0               None  Not-in-family  White  Female            0         4356   \n",
       "1    Exec-managerial  Not-in-family  White  Female            0         4356   \n",
       "2               None      Unmarried  Black  Female            0         4356   \n",
       "3  Machine-op-inspct      Unmarried  White  Female            0         3900   \n",
       "4     Prof-specialty      Own-child  White  Female            0         3900   \n",
       "\n",
       "   hoursperweek  nativecountry income  \n",
       "0            40  United-States  <=50K  \n",
       "1            18  United-States  <=50K  \n",
       "2            40  United-States  <=50K  \n",
       "3            40  United-States  <=50K  \n",
       "4            40  United-States  <=50K  "
      ]
     },
     "execution_count": 5,
     "metadata": {},
     "output_type": "execute_result"
    }
   ],
   "source": [
    "df.printSchema()\n",
    "print(df.columns)\n",
    "pd.DataFrame(df.take(5), columns=df.columns)"
   ]
  },
  {
   "cell_type": "code",
   "execution_count": 6,
   "metadata": {},
   "outputs": [
    {
     "data": {
      "text/html": [
       "<div>\n",
       "<style scoped>\n",
       "    .dataframe tbody tr th:only-of-type {\n",
       "        vertical-align: middle;\n",
       "    }\n",
       "\n",
       "    .dataframe tbody tr th {\n",
       "        vertical-align: top;\n",
       "    }\n",
       "\n",
       "    .dataframe thead th {\n",
       "        text-align: right;\n",
       "    }\n",
       "</style>\n",
       "<table border=\"1\" class=\"dataframe\">\n",
       "  <thead>\n",
       "    <tr style=\"text-align: right;\">\n",
       "      <th></th>\n",
       "      <th>0</th>\n",
       "      <th>1</th>\n",
       "      <th>2</th>\n",
       "      <th>3</th>\n",
       "      <th>4</th>\n",
       "    </tr>\n",
       "  </thead>\n",
       "  <tbody>\n",
       "    <tr>\n",
       "      <th>summary</th>\n",
       "      <td>count</td>\n",
       "      <td>mean</td>\n",
       "      <td>stddev</td>\n",
       "      <td>min</td>\n",
       "      <td>max</td>\n",
       "    </tr>\n",
       "    <tr>\n",
       "      <th>age</th>\n",
       "      <td>32561</td>\n",
       "      <td>38.58164675532078</td>\n",
       "      <td>13.640432553581295</td>\n",
       "      <td>17</td>\n",
       "      <td>90</td>\n",
       "    </tr>\n",
       "    <tr>\n",
       "      <th>workclass</th>\n",
       "      <td>30727</td>\n",
       "      <td>None</td>\n",
       "      <td>None</td>\n",
       "      <td>Federal-gov</td>\n",
       "      <td>Without-pay</td>\n",
       "    </tr>\n",
       "    <tr>\n",
       "      <th>fnlwgt</th>\n",
       "      <td>32561</td>\n",
       "      <td>189778.36651208502</td>\n",
       "      <td>105549.97769702264</td>\n",
       "      <td>12285</td>\n",
       "      <td>1484705</td>\n",
       "    </tr>\n",
       "    <tr>\n",
       "      <th>education</th>\n",
       "      <td>32561</td>\n",
       "      <td>None</td>\n",
       "      <td>None</td>\n",
       "      <td>10th</td>\n",
       "      <td>Some-college</td>\n",
       "    </tr>\n",
       "    <tr>\n",
       "      <th>educationnum</th>\n",
       "      <td>32561</td>\n",
       "      <td>10.0806793403151</td>\n",
       "      <td>2.572720332067391</td>\n",
       "      <td>1</td>\n",
       "      <td>16</td>\n",
       "    </tr>\n",
       "    <tr>\n",
       "      <th>maritalstatus</th>\n",
       "      <td>32561</td>\n",
       "      <td>None</td>\n",
       "      <td>None</td>\n",
       "      <td>Divorced</td>\n",
       "      <td>Widowed</td>\n",
       "    </tr>\n",
       "    <tr>\n",
       "      <th>occupation</th>\n",
       "      <td>30718</td>\n",
       "      <td>None</td>\n",
       "      <td>None</td>\n",
       "      <td>Adm-clerical</td>\n",
       "      <td>Transport-moving</td>\n",
       "    </tr>\n",
       "    <tr>\n",
       "      <th>relationship</th>\n",
       "      <td>32561</td>\n",
       "      <td>None</td>\n",
       "      <td>None</td>\n",
       "      <td>Husband</td>\n",
       "      <td>Wife</td>\n",
       "    </tr>\n",
       "    <tr>\n",
       "      <th>race</th>\n",
       "      <td>32561</td>\n",
       "      <td>None</td>\n",
       "      <td>None</td>\n",
       "      <td>Amer-Indian-Eskimo</td>\n",
       "      <td>White</td>\n",
       "    </tr>\n",
       "    <tr>\n",
       "      <th>sex</th>\n",
       "      <td>32561</td>\n",
       "      <td>None</td>\n",
       "      <td>None</td>\n",
       "      <td>Female</td>\n",
       "      <td>Male</td>\n",
       "    </tr>\n",
       "    <tr>\n",
       "      <th>capitalgain</th>\n",
       "      <td>32561</td>\n",
       "      <td>1077.6488437087312</td>\n",
       "      <td>7385.292084840311</td>\n",
       "      <td>0</td>\n",
       "      <td>99999</td>\n",
       "    </tr>\n",
       "    <tr>\n",
       "      <th>capitalloss</th>\n",
       "      <td>32561</td>\n",
       "      <td>87.303829734959</td>\n",
       "      <td>402.9602186489979</td>\n",
       "      <td>0</td>\n",
       "      <td>4356</td>\n",
       "    </tr>\n",
       "    <tr>\n",
       "      <th>hoursperweek</th>\n",
       "      <td>32561</td>\n",
       "      <td>40.437455852092995</td>\n",
       "      <td>12.347428681731857</td>\n",
       "      <td>1</td>\n",
       "      <td>99</td>\n",
       "    </tr>\n",
       "    <tr>\n",
       "      <th>nativecountry</th>\n",
       "      <td>31978</td>\n",
       "      <td>None</td>\n",
       "      <td>None</td>\n",
       "      <td>Cambodia</td>\n",
       "      <td>Yugoslavia</td>\n",
       "    </tr>\n",
       "    <tr>\n",
       "      <th>income</th>\n",
       "      <td>32561</td>\n",
       "      <td>None</td>\n",
       "      <td>None</td>\n",
       "      <td>&lt;=50K</td>\n",
       "      <td>&gt;50K</td>\n",
       "    </tr>\n",
       "  </tbody>\n",
       "</table>\n",
       "</div>"
      ],
      "text/plain": [
       "                   0                   1                   2  \\\n",
       "summary        count                mean              stddev   \n",
       "age            32561   38.58164675532078  13.640432553581295   \n",
       "workclass      30727                None                None   \n",
       "fnlwgt         32561  189778.36651208502  105549.97769702264   \n",
       "education      32561                None                None   \n",
       "educationnum   32561    10.0806793403151   2.572720332067391   \n",
       "maritalstatus  32561                None                None   \n",
       "occupation     30718                None                None   \n",
       "relationship   32561                None                None   \n",
       "race           32561                None                None   \n",
       "sex            32561                None                None   \n",
       "capitalgain    32561  1077.6488437087312   7385.292084840311   \n",
       "capitalloss    32561     87.303829734959   402.9602186489979   \n",
       "hoursperweek   32561  40.437455852092995  12.347428681731857   \n",
       "nativecountry  31978                None                None   \n",
       "income         32561                None                None   \n",
       "\n",
       "                                3                 4  \n",
       "summary                       min               max  \n",
       "age                            17                90  \n",
       "workclass             Federal-gov       Without-pay  \n",
       "fnlwgt                      12285           1484705  \n",
       "education                    10th      Some-college  \n",
       "educationnum                    1                16  \n",
       "maritalstatus            Divorced           Widowed  \n",
       "occupation           Adm-clerical  Transport-moving  \n",
       "relationship              Husband              Wife  \n",
       "race           Amer-Indian-Eskimo             White  \n",
       "sex                        Female              Male  \n",
       "capitalgain                     0             99999  \n",
       "capitalloss                     0              4356  \n",
       "hoursperweek                    1                99  \n",
       "nativecountry            Cambodia        Yugoslavia  \n",
       "income                      <=50K              >50K  "
      ]
     },
     "execution_count": 6,
     "metadata": {},
     "output_type": "execute_result"
    }
   ],
   "source": [
    "import pandas as pd\n",
    "df.describe().toPandas().transpose()"
   ]
  },
  {
   "cell_type": "code",
   "execution_count": 7,
   "metadata": {},
   "outputs": [
    {
     "name": "stdout",
     "output_type": "stream",
     "text": [
      "[Row(age=90, workclass='Private', fnlwgt=77053, education='HS-grad', educationnum=9, maritalstatus='Widowed', occupation=None, relationship='Not-in-family', race='White', sex='Female', capitalgain=0, capitalloss=4356, hoursperweek=40, nativecountry='United-States', income='<=50K')]\n"
     ]
    }
   ],
   "source": [
    "print(df.head(1))"
   ]
  },
  {
   "cell_type": "code",
   "execution_count": 8,
   "metadata": {},
   "outputs": [
    {
     "name": "stdout",
     "output_type": "stream",
     "text": [
      "+-------+------------------+------------------+\n",
      "|summary|            fnlwgt|               age|\n",
      "+-------+------------------+------------------+\n",
      "|  count|             32561|             32561|\n",
      "|   mean|189778.36651208502| 38.58164675532078|\n",
      "| stddev|105549.97769702264|13.640432553581295|\n",
      "|    min|             12285|                17|\n",
      "|    max|           1484705|                90|\n",
      "+-------+------------------+------------------+\n",
      "\n"
     ]
    }
   ],
   "source": [
    "df.select('fnlwgt','age').describe().show()"
   ]
  },
  {
   "cell_type": "code",
   "execution_count": 9,
   "metadata": {},
   "outputs": [
    {
     "name": "stdout",
     "output_type": "stream",
     "text": [
      "+------------+---+\n",
      "|   education|age|\n",
      "+------------+---+\n",
      "|     HS-grad| 90|\n",
      "|     HS-grad| 82|\n",
      "|Some-college| 66|\n",
      "|     7th-8th| 54|\n",
      "|Some-college| 41|\n",
      "|     HS-grad| 34|\n",
      "|        10th| 38|\n",
      "|   Doctorate| 74|\n",
      "|     HS-grad| 68|\n",
      "|Some-college| 41|\n",
      "|   Doctorate| 45|\n",
      "| Prof-school| 38|\n",
      "|   Bachelors| 52|\n",
      "|     Masters| 32|\n",
      "|   Doctorate| 51|\n",
      "| Prof-school| 46|\n",
      "|        11th| 45|\n",
      "|     Masters| 57|\n",
      "|  Assoc-acdm| 22|\n",
      "|   Bachelors| 34|\n",
      "+------------+---+\n",
      "only showing top 20 rows\n",
      "\n"
     ]
    }
   ],
   "source": [
    "bal_col = df.select('education','age',)\n",
    "bal_col.show()"
   ]
  },
  {
   "cell_type": "code",
   "execution_count": 10,
   "metadata": {},
   "outputs": [
    {
     "name": "stdout",
     "output_type": "stream",
     "text": [
      "+------+---+\n",
      "|income|age|\n",
      "+------+---+\n",
      "| <=50K| 90|\n",
      "| <=50K| 82|\n",
      "| <=50K| 66|\n",
      "| <=50K| 54|\n",
      "| <=50K| 41|\n",
      "| <=50K| 34|\n",
      "| <=50K| 38|\n",
      "|  >50K| 74|\n",
      "| <=50K| 68|\n",
      "|  >50K| 41|\n",
      "|  >50K| 45|\n",
      "|  >50K| 38|\n",
      "|  >50K| 52|\n",
      "|  >50K| 32|\n",
      "|  >50K| 51|\n",
      "|  >50K| 46|\n",
      "|  >50K| 45|\n",
      "|  >50K| 57|\n",
      "|  >50K| 34|\n",
      "|  >50K| 37|\n",
      "+------+---+\n",
      "only showing top 20 rows\n",
      "\n"
     ]
    }
   ],
   "source": [
    "df.filter(\"age > 25\").select('income','age').show()"
   ]
  },
  {
   "cell_type": "code",
   "execution_count": 11,
   "metadata": {},
   "outputs": [],
   "source": [
    "from  pyspark.sql.functions import format_number, col"
   ]
  },
  {
   "cell_type": "code",
   "execution_count": 12,
   "metadata": {},
   "outputs": [
    {
     "name": "stdout",
     "output_type": "stream",
     "text": [
      "+------------+------+\n",
      "|   education|income|\n",
      "+------------+------+\n",
      "|     HS-grad| <=50K|\n",
      "|     HS-grad| <=50K|\n",
      "|Some-college| <=50K|\n",
      "|     7th-8th| <=50K|\n",
      "|Some-college| <=50K|\n",
      "|     HS-grad| <=50K|\n",
      "|        10th| <=50K|\n",
      "|   Doctorate|  >50K|\n",
      "|     HS-grad| <=50K|\n",
      "|Some-college|  >50K|\n",
      "|   Doctorate|  >50K|\n",
      "| Prof-school|  >50K|\n",
      "|   Bachelors|  >50K|\n",
      "|     Masters|  >50K|\n",
      "|   Doctorate|  >50K|\n",
      "| Prof-school|  >50K|\n",
      "|        11th|  >50K|\n",
      "|     Masters|  >50K|\n",
      "|  Assoc-acdm|  >50K|\n",
      "|   Bachelors|  >50K|\n",
      "+------------+------+\n",
      "only showing top 20 rows\n",
      "\n"
     ]
    }
   ],
   "source": [
    "cols1 = ['education', 'income']\n",
    "df.select(cols1).show()"
   ]
  },
  {
   "cell_type": "code",
   "execution_count": 13,
   "metadata": {},
   "outputs": [
    {
     "name": "stdout",
     "output_type": "stream",
     "text": [
      "+---+----------------+------+------------+------------+-------------+-----------------+--------------+-----+------+-----------+-----------+------------+-------------+------+\n",
      "|age|       workclass|fnlwgt|   education|educationnum|maritalstatus|       occupation|  relationship| race|   sex|capitalgain|capitalloss|hoursperweek|nativecountry|income|\n",
      "+---+----------------+------+------------+------------+-------------+-----------------+--------------+-----+------+-----------+-----------+------------+-------------+------+\n",
      "| 90|         Private| 77053|     HS-grad|           9|      Widowed|             null| Not-in-family|White|Female|          0|       4356|          40|United-States| <=50K|\n",
      "| 82|         Private|132870|     HS-grad|           9|      Widowed|  Exec-managerial| Not-in-family|White|Female|          0|       4356|          18|United-States| <=50K|\n",
      "| 66|         Private|186061|Some-college|          10|      Widowed|             null|     Unmarried|Black|Female|          0|       4356|          40|United-States| <=50K|\n",
      "| 54|         Private|140359|     7th-8th|           4|     Divorced|Machine-op-inspct|     Unmarried|White|Female|          0|       3900|          40|United-States| <=50K|\n",
      "| 41|         Private|264663|Some-college|          10|    Separated|   Prof-specialty|     Own-child|White|Female|          0|       3900|          40|United-States| <=50K|\n",
      "| 34|         Private|216864|     HS-grad|           9|     Divorced|    Other-service|     Unmarried|White|Female|          0|       3770|          45|United-States| <=50K|\n",
      "| 74|       State-gov| 88638|   Doctorate|          16|Never-married|   Prof-specialty|Other-relative|White|Female|          0|       3683|          20|United-States|  >50K|\n",
      "| 68|     Federal-gov|422013|     HS-grad|           9|     Divorced|   Prof-specialty| Not-in-family|White|Female|          0|       3683|          40|United-States| <=50K|\n",
      "| 45|         Private|172274|   Doctorate|          16|     Divorced|   Prof-specialty|     Unmarried|Black|Female|          0|       3004|          35|United-States|  >50K|\n",
      "| 52|         Private|129177|   Bachelors|          13|      Widowed|    Other-service| Not-in-family|White|Female|          0|       2824|          20|United-States|  >50K|\n",
      "| 29|         Private| 77009|        11th|           7|    Separated|            Sales| Not-in-family|White|Female|          0|       2754|          42|United-States| <=50K|\n",
      "| 61|         Private| 29059|     HS-grad|           9|     Divorced|            Sales|     Unmarried|White|Female|          0|       2754|          25|United-States| <=50K|\n",
      "| 59|    Self-emp-inc|107287|        10th|           6|      Widowed|  Exec-managerial|     Unmarried|White|Female|          0|       2559|          50|United-States|  >50K|\n",
      "| 63|     Federal-gov| 39181|   Doctorate|          16|     Divorced|  Exec-managerial| Not-in-family|White|Female|          0|       2559|          60|United-States|  >50K|\n",
      "| 51|         Private|197163| Prof-school|          15|Never-married|   Prof-specialty| Not-in-family|White|Female|          0|       2559|          50|United-States|  >50K|\n",
      "| 37|Self-emp-not-inc|137527|   Doctorate|          16|Never-married|   Prof-specialty| Not-in-family|White|Female|          0|       2559|          60|United-States|  >50K|\n",
      "| 54|         Private|161691|     Masters|          14|     Divorced|   Prof-specialty| Not-in-family|White|Female|          0|       2559|          40|United-States|  >50K|\n",
      "| 43|         Private|115806|     Masters|          14|     Divorced|  Exec-managerial|     Unmarried|White|Female|          0|       2547|          40|United-States|  >50K|\n",
      "| 51|         Private|115066|Some-college|          10|     Divorced|     Adm-clerical|     Unmarried|White|Female|          0|       2547|          40|United-States|  >50K|\n",
      "| 43|         Private|289669|     Masters|          14|     Divorced|   Prof-specialty|     Unmarried|White|Female|          0|       2547|          40|United-States|  >50K|\n",
      "+---+----------------+------+------------+------------+-------------+-----------------+--------------+-----+------+-----------+-----------+------------+-------------+------+\n",
      "only showing top 20 rows\n",
      "\n"
     ]
    }
   ],
   "source": [
    "df.filter(df.sex == 'Female').show()"
   ]
  },
  {
   "cell_type": "code",
   "execution_count": 14,
   "metadata": {},
   "outputs": [
    {
     "name": "stdout",
     "output_type": "stream",
     "text": [
      "== Physical Plan ==\n",
      "*FileScan csv [age#0,workclass#1,fnlwgt#2,education#3,educationnum#4,maritalstatus#5,occupation#6,relationship#7,race#8,sex#9,capitalgain#10,capitalloss#11,hoursperweek#12,nativecountry#13,income#14] Batched: false, Format: CSV, Location: InMemoryFileIndex[file:/home/ubuntu/Adult-income-level/adult income.csv], PartitionFilters: [], PushedFilters: [], ReadSchema: struct<age:int,workclass:string,fnlwgt:int,education:string,educationnum:int,maritalstatus:string...\n"
     ]
    }
   ],
   "source": [
    "df.explain()"
   ]
  },
  {
   "cell_type": "code",
   "execution_count": 15,
   "metadata": {},
   "outputs": [
    {
     "name": "stdout",
     "output_type": "stream",
     "text": [
      "Total data points: 32561\n"
     ]
    }
   ],
   "source": [
    "print(\"Total data points:\", df.count())"
   ]
  },
  {
   "cell_type": "code",
   "execution_count": 3,
   "metadata": {},
   "outputs": [
    {
     "name": "stdout",
     "output_type": "stream",
     "text": [
      "+---+----------------+------+------------+------------+-------------+-----------------+--------------+-----+------+-----------+-----------+------------+-------------+------+\n",
      "|age|       workclass|fnlwgt|   education|educationnum|maritalstatus|       occupation|  relationship| race|   sex|capitalgain|capitalloss|hoursperweek|nativecountry|income|\n",
      "+---+----------------+------+------------+------------+-------------+-----------------+--------------+-----+------+-----------+-----------+------------+-------------+------+\n",
      "| 90|         Private| 77053|     HS-grad|           9|      Widowed|             null| Not-in-family|White|Female|          0|       4356|          40|United-States| <=50K|\n",
      "| 82|         Private|132870|     HS-grad|           9|      Widowed|  Exec-managerial| Not-in-family|White|Female|          0|       4356|          18|United-States| <=50K|\n",
      "| 66|         Private|186061|Some-college|          10|      Widowed|             null|     Unmarried|Black|Female|          0|       4356|          40|United-States| <=50K|\n",
      "| 54|         Private|140359|     7th-8th|           4|     Divorced|Machine-op-inspct|     Unmarried|White|Female|          0|       3900|          40|United-States| <=50K|\n",
      "| 41|         Private|264663|Some-college|          10|    Separated|   Prof-specialty|     Own-child|White|Female|          0|       3900|          40|United-States| <=50K|\n",
      "| 34|         Private|216864|     HS-grad|           9|     Divorced|    Other-service|     Unmarried|White|Female|          0|       3770|          45|United-States| <=50K|\n",
      "| 38|         Private|150601|        10th|           6|    Separated|     Adm-clerical|     Unmarried|White|  Male|          0|       3770|          40|United-States| <=50K|\n",
      "| 74|       State-gov| 88638|   Doctorate|          16|Never-married|   Prof-specialty|Other-relative|White|Female|          0|       3683|          20|United-States|  >50K|\n",
      "| 68|     Federal-gov|422013|     HS-grad|           9|     Divorced|   Prof-specialty| Not-in-family|White|Female|          0|       3683|          40|United-States| <=50K|\n",
      "| 45|         Private|172274|   Doctorate|          16|     Divorced|   Prof-specialty|     Unmarried|Black|Female|          0|       3004|          35|United-States|  >50K|\n",
      "| 38|Self-emp-not-inc|164526| Prof-school|          15|Never-married|   Prof-specialty| Not-in-family|White|  Male|          0|       2824|          45|United-States|  >50K|\n",
      "| 52|         Private|129177|   Bachelors|          13|      Widowed|    Other-service| Not-in-family|White|Female|          0|       2824|          20|United-States|  >50K|\n",
      "| 32|         Private|136204|     Masters|          14|    Separated|  Exec-managerial| Not-in-family|White|  Male|          0|       2824|          55|United-States|  >50K|\n",
      "| 51|            null|172175|   Doctorate|          16|Never-married|             null| Not-in-family|White|  Male|          0|       2824|          40|United-States|  >50K|\n",
      "| 46|         Private| 45363| Prof-school|          15|     Divorced|   Prof-specialty| Not-in-family|White|  Male|          0|       2824|          40|United-States|  >50K|\n",
      "| 45|         Private|172822|        11th|           7|     Divorced| Transport-moving| Not-in-family|White|  Male|          0|       2824|          76|United-States|  >50K|\n",
      "| 57|         Private|317847|     Masters|          14|     Divorced|  Exec-managerial| Not-in-family|White|  Male|          0|       2824|          50|United-States|  >50K|\n",
      "| 34|         Private|203034|   Bachelors|          13|    Separated|            Sales| Not-in-family|White|  Male|          0|       2824|          50|United-States|  >50K|\n",
      "| 37|         Private|188774|   Bachelors|          13|Never-married|  Exec-managerial| Not-in-family|White|  Male|          0|       2824|          40|United-States|  >50K|\n",
      "| 29|         Private| 77009|        11th|           7|    Separated|            Sales| Not-in-family|White|Female|          0|       2754|          42|United-States| <=50K|\n",
      "+---+----------------+------+------------+------------+-------------+-----------------+--------------+-----+------+-----------+-----------+------------+-------------+------+\n",
      "only showing top 20 rows\n",
      "\n",
      "Total data points: 31978\n"
     ]
    }
   ],
   "source": [
    "missing_field_df = df.na.drop(subset=\"nativecountry\")\n",
    "missing_field_df.show()\n",
    "print(\"Total data points:\", missing_field_df.count())"
   ]
  },
  {
   "cell_type": "code",
   "execution_count": 4,
   "metadata": {},
   "outputs": [
    {
     "name": "stdout",
     "output_type": "stream",
     "text": [
      "+---+----------------+------+------------+------------+-------------+-----------------+--------------+-----+------+-----------+-----------+------------+-------------+------+\n",
      "|age|       workclass|fnlwgt|   education|educationnum|maritalstatus|       occupation|  relationship| race|   sex|capitalgain|capitalloss|hoursperweek|nativecountry|income|\n",
      "+---+----------------+------+------------+------------+-------------+-----------------+--------------+-----+------+-----------+-----------+------------+-------------+------+\n",
      "| 90|         Private| 77053|     HS-grad|           9|      Widowed|             null| Not-in-family|White|Female|          0|       4356|          40|United-States| <=50K|\n",
      "| 82|         Private|132870|     HS-grad|           9|      Widowed|  Exec-managerial| Not-in-family|White|Female|          0|       4356|          18|United-States| <=50K|\n",
      "| 66|         Private|186061|Some-college|          10|      Widowed|             null|     Unmarried|Black|Female|          0|       4356|          40|United-States| <=50K|\n",
      "| 54|         Private|140359|     7th-8th|           4|     Divorced|Machine-op-inspct|     Unmarried|White|Female|          0|       3900|          40|United-States| <=50K|\n",
      "| 41|         Private|264663|Some-college|          10|    Separated|   Prof-specialty|     Own-child|White|Female|          0|       3900|          40|United-States| <=50K|\n",
      "| 34|         Private|216864|     HS-grad|           9|     Divorced|    Other-service|     Unmarried|White|Female|          0|       3770|          45|United-States| <=50K|\n",
      "| 38|         Private|150601|        10th|           6|    Separated|     Adm-clerical|     Unmarried|White|  Male|          0|       3770|          40|United-States| <=50K|\n",
      "| 74|       State-gov| 88638|   Doctorate|          16|Never-married|   Prof-specialty|Other-relative|White|Female|          0|       3683|          20|United-States|  >50K|\n",
      "| 68|     Federal-gov|422013|     HS-grad|           9|     Divorced|   Prof-specialty| Not-in-family|White|Female|          0|       3683|          40|United-States| <=50K|\n",
      "| 45|         Private|172274|   Doctorate|          16|     Divorced|   Prof-specialty|     Unmarried|Black|Female|          0|       3004|          35|United-States|  >50K|\n",
      "| 38|Self-emp-not-inc|164526| Prof-school|          15|Never-married|   Prof-specialty| Not-in-family|White|  Male|          0|       2824|          45|United-States|  >50K|\n",
      "| 52|         Private|129177|   Bachelors|          13|      Widowed|    Other-service| Not-in-family|White|Female|          0|       2824|          20|United-States|  >50K|\n",
      "| 32|         Private|136204|     Masters|          14|    Separated|  Exec-managerial| Not-in-family|White|  Male|          0|       2824|          55|United-States|  >50K|\n",
      "| 46|         Private| 45363| Prof-school|          15|     Divorced|   Prof-specialty| Not-in-family|White|  Male|          0|       2824|          40|United-States|  >50K|\n",
      "| 45|         Private|172822|        11th|           7|     Divorced| Transport-moving| Not-in-family|White|  Male|          0|       2824|          76|United-States|  >50K|\n",
      "| 57|         Private|317847|     Masters|          14|     Divorced|  Exec-managerial| Not-in-family|White|  Male|          0|       2824|          50|United-States|  >50K|\n",
      "| 34|         Private|203034|   Bachelors|          13|    Separated|            Sales| Not-in-family|White|  Male|          0|       2824|          50|United-States|  >50K|\n",
      "| 37|         Private|188774|   Bachelors|          13|Never-married|  Exec-managerial| Not-in-family|White|  Male|          0|       2824|          40|United-States|  >50K|\n",
      "| 29|         Private| 77009|        11th|           7|    Separated|            Sales| Not-in-family|White|Female|          0|       2754|          42|United-States| <=50K|\n",
      "| 61|         Private| 29059|     HS-grad|           9|     Divorced|            Sales|     Unmarried|White|Female|          0|       2754|          25|United-States| <=50K|\n",
      "+---+----------------+------+------------+------------+-------------+-----------------+--------------+-----+------+-----------+-----------+------------+-------------+------+\n",
      "only showing top 20 rows\n",
      "\n",
      "Total data points: 30171\n"
     ]
    }
   ],
   "source": [
    "clean_df = missing_field_df.na.drop(subset=\"workclass\")\n",
    "clean_df.show()\n",
    "print(\"Total data points:\", clean_df.count())"
   ]
  },
  {
   "cell_type": "code",
   "execution_count": 5,
   "metadata": {},
   "outputs": [
    {
     "name": "stdout",
     "output_type": "stream",
     "text": [
      "+---+----------------+------+------------+------------+------------------+-----------------+--------------+-----+------+-----------+-----------+------------+-------------+------+\n",
      "|age|       workclass|fnlwgt|   education|educationnum|     maritalstatus|       occupation|  relationship| race|   sex|capitalgain|capitalloss|hoursperweek|nativecountry|income|\n",
      "+---+----------------+------+------------+------------+------------------+-----------------+--------------+-----+------+-----------+-----------+------------+-------------+------+\n",
      "| 82|         Private|132870|     HS-grad|           9|           Widowed|  Exec-managerial| Not-in-family|White|Female|          0|       4356|          18|United-States| <=50K|\n",
      "| 54|         Private|140359|     7th-8th|           4|          Divorced|Machine-op-inspct|     Unmarried|White|Female|          0|       3900|          40|United-States| <=50K|\n",
      "| 41|         Private|264663|Some-college|          10|         Separated|   Prof-specialty|     Own-child|White|Female|          0|       3900|          40|United-States| <=50K|\n",
      "| 34|         Private|216864|     HS-grad|           9|          Divorced|    Other-service|     Unmarried|White|Female|          0|       3770|          45|United-States| <=50K|\n",
      "| 38|         Private|150601|        10th|           6|         Separated|     Adm-clerical|     Unmarried|White|  Male|          0|       3770|          40|United-States| <=50K|\n",
      "| 74|       State-gov| 88638|   Doctorate|          16|     Never-married|   Prof-specialty|Other-relative|White|Female|          0|       3683|          20|United-States|  >50K|\n",
      "| 68|     Federal-gov|422013|     HS-grad|           9|          Divorced|   Prof-specialty| Not-in-family|White|Female|          0|       3683|          40|United-States| <=50K|\n",
      "| 45|         Private|172274|   Doctorate|          16|          Divorced|   Prof-specialty|     Unmarried|Black|Female|          0|       3004|          35|United-States|  >50K|\n",
      "| 38|Self-emp-not-inc|164526| Prof-school|          15|     Never-married|   Prof-specialty| Not-in-family|White|  Male|          0|       2824|          45|United-States|  >50K|\n",
      "| 52|         Private|129177|   Bachelors|          13|           Widowed|    Other-service| Not-in-family|White|Female|          0|       2824|          20|United-States|  >50K|\n",
      "| 32|         Private|136204|     Masters|          14|         Separated|  Exec-managerial| Not-in-family|White|  Male|          0|       2824|          55|United-States|  >50K|\n",
      "| 46|         Private| 45363| Prof-school|          15|          Divorced|   Prof-specialty| Not-in-family|White|  Male|          0|       2824|          40|United-States|  >50K|\n",
      "| 45|         Private|172822|        11th|           7|          Divorced| Transport-moving| Not-in-family|White|  Male|          0|       2824|          76|United-States|  >50K|\n",
      "| 57|         Private|317847|     Masters|          14|          Divorced|  Exec-managerial| Not-in-family|White|  Male|          0|       2824|          50|United-States|  >50K|\n",
      "| 34|         Private|203034|   Bachelors|          13|         Separated|            Sales| Not-in-family|White|  Male|          0|       2824|          50|United-States|  >50K|\n",
      "| 37|         Private|188774|   Bachelors|          13|     Never-married|  Exec-managerial| Not-in-family|White|  Male|          0|       2824|          40|United-States|  >50K|\n",
      "| 29|         Private| 77009|        11th|           7|         Separated|            Sales| Not-in-family|White|Female|          0|       2754|          42|United-States| <=50K|\n",
      "| 61|         Private| 29059|     HS-grad|           9|          Divorced|            Sales|     Unmarried|White|Female|          0|       2754|          25|United-States| <=50K|\n",
      "| 51|         Private|153870|Some-college|          10|Married-civ-spouse| Transport-moving|       Husband|White|  Male|          0|       2603|          40|United-States| <=50K|\n",
      "| 21|         Private| 34310|   Assoc-voc|          11|Married-civ-spouse|     Craft-repair|       Husband|White|  Male|          0|       2603|          40|United-States| <=50K|\n",
      "+---+----------------+------+------------+------------+------------------+-----------------+--------------+-----+------+-----------+-----------+------------+-------------+------+\n",
      "only showing top 20 rows\n",
      "\n",
      "Total data points: 30162\n"
     ]
    }
   ],
   "source": [
    "df = clean_df.na.drop(subset=\"occupation\")\n",
    "df.show()\n",
    "print(\"Total data points:\", df.count())"
   ]
  },
  {
   "cell_type": "code",
   "execution_count": 6,
   "metadata": {},
   "outputs": [
    {
     "name": "stdout",
     "output_type": "stream",
     "text": [
      "Total data points: 30162\n"
     ]
    }
   ],
   "source": [
    "print(\"Total data points:\", df.count())"
   ]
  },
  {
   "cell_type": "code",
   "execution_count": 33,
   "metadata": {},
   "outputs": [
    {
     "name": "stderr",
     "output_type": "stream",
     "text": [
      "/home/ubuntu/.local/lib/python3.5/site-packages/ipykernel_launcher.py:4: FutureWarning: pandas.scatter_matrix is deprecated, use pandas.plotting.scatter_matrix instead\n",
      "  after removing the cwd from sys.path.\n"
     ]
    },
    {
     "data": {
      "image/png": "[encoded data removed]",
      "text/plain": [
       "<Figure size 720x720 with 36 Axes>"
      ]
     },
     "metadata": {},
     "output_type": "display_data"
    }
   ],
   "source": [
    "import pandas as pd\n",
    "numeric_features = [t[0] for t in df.dtypes if t[1] == 'int' or t[1] == 'double']\n",
    "sampled_data = df.select(numeric_features).sample(False, 0.8).toPandas()\n",
    "axs = pd.scatter_matrix(sampled_data, figsize=(10, 10))\n",
    "n = len(sampled_data.columns)\n",
    "for i in range(n):\n",
    "    v = axs[i, 0]\n",
    "    v.yaxis.label.set_rotation(0)\n",
    "    v.yaxis.label.set_ha('right')\n",
    "    v.set_yticks(())\n",
    "    h = axs[n-1, i]\n",
    "    h.xaxis.label.set_rotation(90)\n",
    "    h.set_xticks(())\n"
   ]
  },
  {
   "cell_type": "code",
   "execution_count": 80,
   "metadata": {},
   "outputs": [
    {
     "data": {
      "text/plain": [
       "([<matplotlib.axis.XTick at 0x7efcb36eb588>,\n",
       "  <matplotlib.axis.XTick at 0x7efcb36f4ef0>],\n",
       " <a list of 2 Text xticklabel objects>)"
      ]
     },
     "execution_count": 80,
     "metadata": {},
     "output_type": "execute_result"
    },
    {
     "data": {
      "image/png": "[encoded data removed]",
      "text/plain": [
       "<Figure size 432x288 with 1 Axes>"
      ]
     },
     "metadata": {},
     "output_type": "display_data"
    }
   ],
   "source": [
    "from matplotlib import pyplot as plt\n",
    "import numpy as np\n",
    "\n",
    "%matplotlib inline\n",
    " \n",
    "responses = df.groupBy('income').count().collect()\n",
    "categories = [i[0] for i in responses]\n",
    "counts = [i[1] for i in responses]\n",
    " \n",
    "ind = np.array(range(len(categories)))\n",
    "width = 0.35\n",
    "plt.bar(ind, counts, width=width, color='r')\n",
    " \n",
    "plt.ylabel('counts')\n",
    "plt.title('Response distribution')\n",
    "plt.xticks(ind + width/2., categories)"
   ]
  },
  {
   "cell_type": "code",
   "execution_count": 82,
   "metadata": {},
   "outputs": [
    {
     "data": {
      "text/plain": [
       "([<matplotlib.axis.XTick at 0x7efcb37834a8>,\n",
       "  <matplotlib.axis.XTick at 0x7efcb3787da0>],\n",
       " <a list of 2 Text xticklabel objects>)"
      ]
     },
     "execution_count": 82,
     "metadata": {},
     "output_type": "execute_result"
    },
    {
     "data": {
      "image/png": "[encoded data removed]",
      "text/plain": [
       "<Figure size 432x288 with 1 Axes>"
      ]
     },
     "metadata": {},
     "output_type": "display_data"
    }
   ],
   "source": [
    "from matplotlib import pyplot as plt\n",
    "import numpy as np\n",
    "\n",
    "%matplotlib inline\n",
    " \n",
    "responses = df.groupBy('sex').count().collect()\n",
    "categories = [i[0] for i in responses]\n",
    "counts = [i[1] for i in responses]\n",
    " \n",
    "ind = np.array(range(len(categories)))\n",
    "width = 0.35\n",
    "plt.bar(ind, counts, width=width, color='r')\n",
    " \n",
    "plt.ylabel('counts')\n",
    "plt.title('Response distribution')\n",
    "plt.xticks(ind + width/2., categories)"
   ]
  },
  {
   "cell_type": "code",
   "execution_count": 37,
   "metadata": {},
   "outputs": [
    {
     "name": "stdout",
     "output_type": "stream",
     "text": [
      "+-------+------------------+------------------+-----------------+\n",
      "|summary|               age|      educationnum|     hoursperweek|\n",
      "+-------+------------------+------------------+-----------------+\n",
      "|  count|             30162|             30162|            30162|\n",
      "|   mean|38.437901995888865| 10.12131158411246|40.93123798156621|\n",
      "| stddev|13.134664776856031|2.5499949188567363|11.97998422927492|\n",
      "|    min|                17|                 1|                1|\n",
      "|    max|                90|                16|               99|\n",
      "+-------+------------------+------------------+-----------------+\n",
      "\n"
     ]
    }
   ],
   "source": [
    "df.select('age', 'educationnum', 'hoursperweek').describe().show()"
   ]
  },
  {
   "cell_type": "code",
   "execution_count": 38,
   "metadata": {},
   "outputs": [
    {
     "name": "stdout",
     "output_type": "stream",
     "text": [
      "+------+---+\n",
      "|income|age|\n",
      "+------+---+\n",
      "| <=50K| 54|\n",
      "| <=50K| 41|\n",
      "| <=50K| 34|\n",
      "| <=50K| 38|\n",
      "| <=50K| 68|\n",
      "|  >50K| 45|\n",
      "|  >50K| 38|\n",
      "|  >50K| 32|\n",
      "|  >50K| 46|\n",
      "|  >50K| 45|\n",
      "|  >50K| 57|\n",
      "|  >50K| 34|\n",
      "|  >50K| 37|\n",
      "| <=50K| 29|\n",
      "| <=50K| 51|\n",
      "| <=50K| 21|\n",
      "| <=50K| 33|\n",
      "| <=50K| 49|\n",
      "|  >50K| 37|\n",
      "|  >50K| 38|\n",
      "+------+---+\n",
      "only showing top 20 rows\n",
      "\n"
     ]
    }
   ],
   "source": [
    "\n",
    "df.filter(\"hoursperweek > 25\").select('income','age').show()"
   ]
  },
  {
   "cell_type": "code",
   "execution_count": 39,
   "metadata": {},
   "outputs": [
    {
     "name": "stdout",
     "output_type": "stream",
     "text": [
      "+------+-----------------+------------------+------------------+------------------+------------------+-----------------+\n",
      "|income|         avg(age)|       avg(fnlwgt)| avg(educationnum)|  avg(capitalgain)|  avg(capitalloss)|avg(hoursperweek)|\n",
      "+------+-----------------+------------------+------------------+------------------+------------------+-----------------+\n",
      "| <=50K|36.60806038668668|190338.64672905448| 9.629116270857244| 148.8938377328507| 53.44800035313852|39.34859186015715|\n",
      "|  >50K|43.95911028236548|188149.96217368142|11.606419818859882|3937.6798082045816|193.75066595631327|45.70657964837507|\n",
      "+------+-----------------+------------------+------------------+------------------+------------------+-----------------+\n",
      "\n"
     ]
    }
   ],
   "source": [
    "df.groupBy('income').mean().show()"
   ]
  },
  {
   "cell_type": "code",
   "execution_count": 40,
   "metadata": {},
   "outputs": [
    {
     "name": "stdout",
     "output_type": "stream",
     "text": [
      "Sorted by Age\n",
      "+------+-----------------+------------------+------------------+------------------+------------------+-----------------+\n",
      "|income|         avg(age)|       avg(fnlwgt)| avg(educationnum)|  avg(capitalgain)|  avg(capitalloss)|avg(hoursperweek)|\n",
      "+------+-----------------+------------------+------------------+------------------+------------------+-----------------+\n",
      "| <=50K|36.60806038668668|190338.64672905448| 9.629116270857244| 148.8938377328507| 53.44800035313852|39.34859186015715|\n",
      "|  >50K|43.95911028236548|188149.96217368142|11.606419818859882|3937.6798082045816|193.75066595631327|45.70657964837507|\n",
      "+------+-----------------+------------------+------------------+------------------+------------------+-----------------+\n",
      "\n",
      "Sorted by educationnum\n",
      "+------+-----------------+------------------+------------------+------------------+------------------+-----------------+\n",
      "|income|         avg(age)|       avg(fnlwgt)| avg(educationnum)|  avg(capitalgain)|  avg(capitalloss)|avg(hoursperweek)|\n",
      "+------+-----------------+------------------+------------------+------------------+------------------+-----------------+\n",
      "| <=50K|36.60806038668668|190338.64672905448| 9.629116270857244| 148.8938377328507| 53.44800035313852|39.34859186015715|\n",
      "|  >50K|43.95911028236548|188149.96217368142|11.606419818859882|3937.6798082045816|193.75066595631327|45.70657964837507|\n",
      "+------+-----------------+------------------+------------------+------------------+------------------+-----------------+\n",
      "\n"
     ]
    }
   ],
   "source": [
    "\n",
    "group_income_df = df.groupBy('income').mean()\n",
    "print(\"Sorted by Age\")\n",
    "group_income_df.orderBy('avg(age)').show()\n",
    "\n",
    "# Let's see what this looks like in one line.\n",
    "print(\"Sorted by educationnum\")\n",
    "df.groupBy('income').mean().orderBy('avg(educationnum)').show()"
   ]
  },
  {
   "cell_type": "code",
   "execution_count": 41,
   "metadata": {},
   "outputs": [
    {
     "name": "stdout",
     "output_type": "stream",
     "text": [
      "+------+--------------------------+-----------------------------------+-----------------------------------+\n",
      "|income|format_number(avg(age), 2)|format_number(avg(educationnum), 2)|format_number(avg(hoursperweek), 2)|\n",
      "+------+--------------------------+-----------------------------------+-----------------------------------+\n",
      "| <=50K|                     36.61|                               9.63|                              39.35|\n",
      "|  >50K|                     43.96|                              11.61|                              45.71|\n",
      "+------+--------------------------+-----------------------------------+-----------------------------------+\n",
      "\n",
      "+------------+-----------+-----------------+----------------------+\n",
      "|income level|Average Age|Average education|Average hours-per-week|\n",
      "+------------+-----------+-----------------+----------------------+\n",
      "|       <=50K|      36.61|             9.63|                 39.35|\n",
      "|        >50K|      43.96|            11.61|                 45.71|\n",
      "+------------+-----------+-----------------+----------------------+\n",
      "\n"
     ]
    }
   ],
   "source": [
    "from pyspark.sql.functions import format_number, col\n",
    "\n",
    "group_income_df = df.groupBy('income').mean()\n",
    "\n",
    "group_income_df = group_income_df.select('income',\n",
    "                                   format_number('avg(age)',2),\n",
    "                                   format_number('avg(educationnum)',2),\n",
    "                                   format_number('avg(hoursperweek)',2))\n",
    "group_income_df.show()\n",
    "\n",
    "# But now the column names look quite unprofessional. We can assign an alias to rename each of them.\n",
    "group_income_df = group_income_df.select(col('income').alias('income level'),\n",
    "                                   col('format_number(avg(age), 2)').alias('Average Age'),\n",
    "                                   col('format_number(avg(educationnum), 2)').alias('Average education'),\n",
    "                                   col('format_number(avg(hoursperweek), 2)').alias('Average hours-per-week'))\n",
    "group_income_df.show()\n",
    "\n"
   ]
  },
  {
   "cell_type": "code",
   "execution_count": 42,
   "metadata": {},
   "outputs": [
    {
     "data": {
      "text/html": [
       "<div>\n",
       "<style scoped>\n",
       "    .dataframe tbody tr th:only-of-type {\n",
       "        vertical-align: middle;\n",
       "    }\n",
       "\n",
       "    .dataframe tbody tr th {\n",
       "        vertical-align: top;\n",
       "    }\n",
       "\n",
       "    .dataframe thead th {\n",
       "        text-align: right;\n",
       "    }\n",
       "</style>\n",
       "<table border=\"1\" class=\"dataframe\">\n",
       "  <thead>\n",
       "    <tr style=\"text-align: right;\">\n",
       "      <th></th>\n",
       "      <th>0</th>\n",
       "      <th>1</th>\n",
       "      <th>2</th>\n",
       "      <th>3</th>\n",
       "      <th>4</th>\n",
       "    </tr>\n",
       "  </thead>\n",
       "  <tbody>\n",
       "    <tr>\n",
       "      <th>age</th>\n",
       "      <td>82</td>\n",
       "      <td>54</td>\n",
       "      <td>41</td>\n",
       "      <td>34</td>\n",
       "      <td>38</td>\n",
       "    </tr>\n",
       "    <tr>\n",
       "      <th>workclass</th>\n",
       "      <td>Private</td>\n",
       "      <td>Private</td>\n",
       "      <td>Private</td>\n",
       "      <td>Private</td>\n",
       "      <td>Private</td>\n",
       "    </tr>\n",
       "    <tr>\n",
       "      <th>fnlwgt</th>\n",
       "      <td>132870</td>\n",
       "      <td>140359</td>\n",
       "      <td>264663</td>\n",
       "      <td>216864</td>\n",
       "      <td>150601</td>\n",
       "    </tr>\n",
       "    <tr>\n",
       "      <th>education</th>\n",
       "      <td>HS-grad</td>\n",
       "      <td>7th-8th</td>\n",
       "      <td>Some-college</td>\n",
       "      <td>HS-grad</td>\n",
       "      <td>10th</td>\n",
       "    </tr>\n",
       "    <tr>\n",
       "      <th>educationnum</th>\n",
       "      <td>9</td>\n",
       "      <td>4</td>\n",
       "      <td>10</td>\n",
       "      <td>9</td>\n",
       "      <td>6</td>\n",
       "    </tr>\n",
       "    <tr>\n",
       "      <th>maritalstatus</th>\n",
       "      <td>Widowed</td>\n",
       "      <td>Divorced</td>\n",
       "      <td>Separated</td>\n",
       "      <td>Divorced</td>\n",
       "      <td>Separated</td>\n",
       "    </tr>\n",
       "    <tr>\n",
       "      <th>occupation</th>\n",
       "      <td>Exec-managerial</td>\n",
       "      <td>Machine-op-inspct</td>\n",
       "      <td>Prof-specialty</td>\n",
       "      <td>Other-service</td>\n",
       "      <td>Adm-clerical</td>\n",
       "    </tr>\n",
       "    <tr>\n",
       "      <th>relationship</th>\n",
       "      <td>Not-in-family</td>\n",
       "      <td>Unmarried</td>\n",
       "      <td>Own-child</td>\n",
       "      <td>Unmarried</td>\n",
       "      <td>Unmarried</td>\n",
       "    </tr>\n",
       "    <tr>\n",
       "      <th>race</th>\n",
       "      <td>White</td>\n",
       "      <td>White</td>\n",
       "      <td>White</td>\n",
       "      <td>White</td>\n",
       "      <td>White</td>\n",
       "    </tr>\n",
       "    <tr>\n",
       "      <th>sex</th>\n",
       "      <td>Female</td>\n",
       "      <td>Female</td>\n",
       "      <td>Female</td>\n",
       "      <td>Female</td>\n",
       "      <td>Male</td>\n",
       "    </tr>\n",
       "    <tr>\n",
       "      <th>capitalgain</th>\n",
       "      <td>0</td>\n",
       "      <td>0</td>\n",
       "      <td>0</td>\n",
       "      <td>0</td>\n",
       "      <td>0</td>\n",
       "    </tr>\n",
       "    <tr>\n",
       "      <th>capitalloss</th>\n",
       "      <td>4356</td>\n",
       "      <td>3900</td>\n",
       "      <td>3900</td>\n",
       "      <td>3770</td>\n",
       "      <td>3770</td>\n",
       "    </tr>\n",
       "    <tr>\n",
       "      <th>hoursperweek</th>\n",
       "      <td>18</td>\n",
       "      <td>40</td>\n",
       "      <td>40</td>\n",
       "      <td>45</td>\n",
       "      <td>40</td>\n",
       "    </tr>\n",
       "    <tr>\n",
       "      <th>nativecountry</th>\n",
       "      <td>United-States</td>\n",
       "      <td>United-States</td>\n",
       "      <td>United-States</td>\n",
       "      <td>United-States</td>\n",
       "      <td>United-States</td>\n",
       "    </tr>\n",
       "    <tr>\n",
       "      <th>income</th>\n",
       "      <td>&lt;=50K</td>\n",
       "      <td>&lt;=50K</td>\n",
       "      <td>&lt;=50K</td>\n",
       "      <td>&lt;=50K</td>\n",
       "      <td>&lt;=50K</td>\n",
       "    </tr>\n",
       "  </tbody>\n",
       "</table>\n",
       "</div>"
      ],
      "text/plain": [
       "                             0                  1               2  \\\n",
       "age                         82                 54              41   \n",
       "workclass              Private            Private         Private   \n",
       "fnlwgt                  132870             140359          264663   \n",
       "education              HS-grad            7th-8th    Some-college   \n",
       "educationnum                 9                  4              10   \n",
       "maritalstatus          Widowed           Divorced       Separated   \n",
       "occupation     Exec-managerial  Machine-op-inspct  Prof-specialty   \n",
       "relationship     Not-in-family          Unmarried       Own-child   \n",
       "race                     White              White           White   \n",
       "sex                     Female             Female          Female   \n",
       "capitalgain                  0                  0               0   \n",
       "capitalloss               4356               3900            3900   \n",
       "hoursperweek                18                 40              40   \n",
       "nativecountry    United-States      United-States   United-States   \n",
       "income                   <=50K              <=50K           <=50K   \n",
       "\n",
       "                           3              4  \n",
       "age                       34             38  \n",
       "workclass            Private        Private  \n",
       "fnlwgt                216864         150601  \n",
       "education            HS-grad           10th  \n",
       "educationnum               9              6  \n",
       "maritalstatus       Divorced      Separated  \n",
       "occupation     Other-service   Adm-clerical  \n",
       "relationship       Unmarried      Unmarried  \n",
       "race                   White          White  \n",
       "sex                   Female           Male  \n",
       "capitalgain                0              0  \n",
       "capitalloss             3770           3770  \n",
       "hoursperweek              45             40  \n",
       "nativecountry  United-States  United-States  \n",
       "income                 <=50K          <=50K  "
      ]
     },
     "execution_count": 42,
     "metadata": {},
     "output_type": "execute_result"
    }
   ],
   "source": [
    "# To visualise the first five columns, simply add transpose. \n",
    "pd.DataFrame(df.take(5), columns=df.columns).transpose()"
   ]
  },
  {
   "cell_type": "code",
   "execution_count": 43,
   "metadata": {},
   "outputs": [
    {
     "data": {
      "text/html": [
       "<div>\n",
       "<style scoped>\n",
       "    .dataframe tbody tr th:only-of-type {\n",
       "        vertical-align: middle;\n",
       "    }\n",
       "\n",
       "    .dataframe tbody tr th {\n",
       "        vertical-align: top;\n",
       "    }\n",
       "\n",
       "    .dataframe thead th {\n",
       "        text-align: right;\n",
       "    }\n",
       "</style>\n",
       "<table border=\"1\" class=\"dataframe\">\n",
       "  <thead>\n",
       "    <tr style=\"text-align: right;\">\n",
       "      <th></th>\n",
       "      <th>income</th>\n",
       "      <th>count</th>\n",
       "    </tr>\n",
       "  </thead>\n",
       "  <tbody>\n",
       "    <tr>\n",
       "      <th>0</th>\n",
       "      <td>&lt;=50K</td>\n",
       "      <td>22654</td>\n",
       "    </tr>\n",
       "    <tr>\n",
       "      <th>1</th>\n",
       "      <td>&gt;50K</td>\n",
       "      <td>7508</td>\n",
       "    </tr>\n",
       "  </tbody>\n",
       "</table>\n",
       "</div>"
      ],
      "text/plain": [
       "  income  count\n",
       "0  <=50K  22654\n",
       "1   >50K   7508"
      ]
     },
     "execution_count": 43,
     "metadata": {},
     "output_type": "execute_result"
    }
   ],
   "source": [
    "df.groupby('income').count().toPandas()"
   ]
  },
  {
   "cell_type": "code",
   "execution_count": 44,
   "metadata": {},
   "outputs": [],
   "source": [
    "numeric_features = [t[0] for t in df.dtypes if t[1] == 'int']"
   ]
  },
  {
   "cell_type": "code",
   "execution_count": 45,
   "metadata": {},
   "outputs": [
    {
     "data": {
      "text/html": [
       "<div>\n",
       "<style scoped>\n",
       "    .dataframe tbody tr th:only-of-type {\n",
       "        vertical-align: middle;\n",
       "    }\n",
       "\n",
       "    .dataframe tbody tr th {\n",
       "        vertical-align: top;\n",
       "    }\n",
       "\n",
       "    .dataframe thead th {\n",
       "        text-align: right;\n",
       "    }\n",
       "</style>\n",
       "<table border=\"1\" class=\"dataframe\">\n",
       "  <thead>\n",
       "    <tr style=\"text-align: right;\">\n",
       "      <th></th>\n",
       "      <th>0</th>\n",
       "      <th>1</th>\n",
       "      <th>2</th>\n",
       "      <th>3</th>\n",
       "      <th>4</th>\n",
       "    </tr>\n",
       "  </thead>\n",
       "  <tbody>\n",
       "    <tr>\n",
       "      <th>summary</th>\n",
       "      <td>count</td>\n",
       "      <td>mean</td>\n",
       "      <td>stddev</td>\n",
       "      <td>min</td>\n",
       "      <td>max</td>\n",
       "    </tr>\n",
       "    <tr>\n",
       "      <th>age</th>\n",
       "      <td>30162</td>\n",
       "      <td>38.437901995888865</td>\n",
       "      <td>13.134664776856031</td>\n",
       "      <td>17</td>\n",
       "      <td>90</td>\n",
       "    </tr>\n",
       "    <tr>\n",
       "      <th>fnlwgt</th>\n",
       "      <td>30162</td>\n",
       "      <td>189793.83393011073</td>\n",
       "      <td>105652.9715285195</td>\n",
       "      <td>13769</td>\n",
       "      <td>1484705</td>\n",
       "    </tr>\n",
       "    <tr>\n",
       "      <th>educationnum</th>\n",
       "      <td>30162</td>\n",
       "      <td>10.12131158411246</td>\n",
       "      <td>2.5499949188567363</td>\n",
       "      <td>1</td>\n",
       "      <td>16</td>\n",
       "    </tr>\n",
       "    <tr>\n",
       "      <th>capitalgain</th>\n",
       "      <td>30162</td>\n",
       "      <td>1092.0078575691268</td>\n",
       "      <td>7406.346496683517</td>\n",
       "      <td>0</td>\n",
       "      <td>99999</td>\n",
       "    </tr>\n",
       "    <tr>\n",
       "      <th>capitalloss</th>\n",
       "      <td>30162</td>\n",
       "      <td>88.37248856176646</td>\n",
       "      <td>404.2983704863763</td>\n",
       "      <td>0</td>\n",
       "      <td>4356</td>\n",
       "    </tr>\n",
       "    <tr>\n",
       "      <th>hoursperweek</th>\n",
       "      <td>30162</td>\n",
       "      <td>40.93123798156621</td>\n",
       "      <td>11.97998422927492</td>\n",
       "      <td>1</td>\n",
       "      <td>99</td>\n",
       "    </tr>\n",
       "  </tbody>\n",
       "</table>\n",
       "</div>"
      ],
      "text/plain": [
       "                  0                   1                   2      3        4\n",
       "summary       count                mean              stddev    min      max\n",
       "age           30162  38.437901995888865  13.134664776856031     17       90\n",
       "fnlwgt        30162  189793.83393011073   105652.9715285195  13769  1484705\n",
       "educationnum  30162   10.12131158411246  2.5499949188567363      1       16\n",
       "capitalgain   30162  1092.0078575691268   7406.346496683517      0    99999\n",
       "capitalloss   30162   88.37248856176646   404.2983704863763      0     4356\n",
       "hoursperweek  30162   40.93123798156621   11.97998422927492      1       99"
      ]
     },
     "execution_count": 45,
     "metadata": {},
     "output_type": "execute_result"
    }
   ],
   "source": [
    "df.select(numeric_features).describe().toPandas().transpose()"
   ]
  },
  {
   "cell_type": "code",
   "execution_count": 7,
   "metadata": {
    "scrolled": true
   },
   "outputs": [
    {
     "data": {
      "text/html": [
       "<div>\n",
       "<style scoped>\n",
       "    .dataframe tbody tr th:only-of-type {\n",
       "        vertical-align: middle;\n",
       "    }\n",
       "\n",
       "    .dataframe tbody tr th {\n",
       "        vertical-align: top;\n",
       "    }\n",
       "\n",
       "    .dataframe thead th {\n",
       "        text-align: right;\n",
       "    }\n",
       "</style>\n",
       "<table border=\"1\" class=\"dataframe\">\n",
       "  <thead>\n",
       "    <tr style=\"text-align: right;\">\n",
       "      <th></th>\n",
       "      <th>age</th>\n",
       "      <th>workclass</th>\n",
       "      <th>fnlwgt</th>\n",
       "      <th>education</th>\n",
       "      <th>educationnum</th>\n",
       "      <th>maritalstatus</th>\n",
       "      <th>occupation</th>\n",
       "      <th>relationship</th>\n",
       "      <th>race</th>\n",
       "      <th>sex</th>\n",
       "      <th>capitalgain</th>\n",
       "      <th>capitalloss</th>\n",
       "      <th>hoursperweek</th>\n",
       "      <th>nativecountry</th>\n",
       "      <th>income</th>\n",
       "    </tr>\n",
       "  </thead>\n",
       "  <tbody>\n",
       "    <tr>\n",
       "      <th>0</th>\n",
       "      <td>82</td>\n",
       "      <td>Private</td>\n",
       "      <td>132870</td>\n",
       "      <td>HS-grad</td>\n",
       "      <td>9</td>\n",
       "      <td>Widowed</td>\n",
       "      <td>Exec-managerial</td>\n",
       "      <td>Not-in-family</td>\n",
       "      <td>White</td>\n",
       "      <td>Female</td>\n",
       "      <td>0</td>\n",
       "      <td>4356</td>\n",
       "      <td>18</td>\n",
       "      <td>United-States</td>\n",
       "      <td>&lt;=50K</td>\n",
       "    </tr>\n",
       "    <tr>\n",
       "      <th>1</th>\n",
       "      <td>54</td>\n",
       "      <td>Private</td>\n",
       "      <td>140359</td>\n",
       "      <td>7th-8th</td>\n",
       "      <td>4</td>\n",
       "      <td>Divorced</td>\n",
       "      <td>Machine-op-inspct</td>\n",
       "      <td>Unmarried</td>\n",
       "      <td>White</td>\n",
       "      <td>Female</td>\n",
       "      <td>0</td>\n",
       "      <td>3900</td>\n",
       "      <td>40</td>\n",
       "      <td>United-States</td>\n",
       "      <td>&lt;=50K</td>\n",
       "    </tr>\n",
       "    <tr>\n",
       "      <th>2</th>\n",
       "      <td>41</td>\n",
       "      <td>Private</td>\n",
       "      <td>264663</td>\n",
       "      <td>Some-college</td>\n",
       "      <td>10</td>\n",
       "      <td>Separated</td>\n",
       "      <td>Prof-specialty</td>\n",
       "      <td>Own-child</td>\n",
       "      <td>White</td>\n",
       "      <td>Female</td>\n",
       "      <td>0</td>\n",
       "      <td>3900</td>\n",
       "      <td>40</td>\n",
       "      <td>United-States</td>\n",
       "      <td>&lt;=50K</td>\n",
       "    </tr>\n",
       "    <tr>\n",
       "      <th>3</th>\n",
       "      <td>34</td>\n",
       "      <td>Private</td>\n",
       "      <td>216864</td>\n",
       "      <td>HS-grad</td>\n",
       "      <td>9</td>\n",
       "      <td>Divorced</td>\n",
       "      <td>Other-service</td>\n",
       "      <td>Unmarried</td>\n",
       "      <td>White</td>\n",
       "      <td>Female</td>\n",
       "      <td>0</td>\n",
       "      <td>3770</td>\n",
       "      <td>45</td>\n",
       "      <td>United-States</td>\n",
       "      <td>&lt;=50K</td>\n",
       "    </tr>\n",
       "    <tr>\n",
       "      <th>4</th>\n",
       "      <td>38</td>\n",
       "      <td>Private</td>\n",
       "      <td>150601</td>\n",
       "      <td>10th</td>\n",
       "      <td>6</td>\n",
       "      <td>Separated</td>\n",
       "      <td>Adm-clerical</td>\n",
       "      <td>Unmarried</td>\n",
       "      <td>White</td>\n",
       "      <td>Male</td>\n",
       "      <td>0</td>\n",
       "      <td>3770</td>\n",
       "      <td>40</td>\n",
       "      <td>United-States</td>\n",
       "      <td>&lt;=50K</td>\n",
       "    </tr>\n",
       "    <tr>\n",
       "      <th>5</th>\n",
       "      <td>74</td>\n",
       "      <td>State-gov</td>\n",
       "      <td>88638</td>\n",
       "      <td>Doctorate</td>\n",
       "      <td>16</td>\n",
       "      <td>Never-married</td>\n",
       "      <td>Prof-specialty</td>\n",
       "      <td>Other-relative</td>\n",
       "      <td>White</td>\n",
       "      <td>Female</td>\n",
       "      <td>0</td>\n",
       "      <td>3683</td>\n",
       "      <td>20</td>\n",
       "      <td>United-States</td>\n",
       "      <td>&gt;50K</td>\n",
       "    </tr>\n",
       "    <tr>\n",
       "      <th>6</th>\n",
       "      <td>68</td>\n",
       "      <td>Federal-gov</td>\n",
       "      <td>422013</td>\n",
       "      <td>HS-grad</td>\n",
       "      <td>9</td>\n",
       "      <td>Divorced</td>\n",
       "      <td>Prof-specialty</td>\n",
       "      <td>Not-in-family</td>\n",
       "      <td>White</td>\n",
       "      <td>Female</td>\n",
       "      <td>0</td>\n",
       "      <td>3683</td>\n",
       "      <td>40</td>\n",
       "      <td>United-States</td>\n",
       "      <td>&lt;=50K</td>\n",
       "    </tr>\n",
       "    <tr>\n",
       "      <th>7</th>\n",
       "      <td>45</td>\n",
       "      <td>Private</td>\n",
       "      <td>172274</td>\n",
       "      <td>Doctorate</td>\n",
       "      <td>16</td>\n",
       "      <td>Divorced</td>\n",
       "      <td>Prof-specialty</td>\n",
       "      <td>Unmarried</td>\n",
       "      <td>Black</td>\n",
       "      <td>Female</td>\n",
       "      <td>0</td>\n",
       "      <td>3004</td>\n",
       "      <td>35</td>\n",
       "      <td>United-States</td>\n",
       "      <td>&gt;50K</td>\n",
       "    </tr>\n",
       "    <tr>\n",
       "      <th>8</th>\n",
       "      <td>38</td>\n",
       "      <td>Self-emp-not-inc</td>\n",
       "      <td>164526</td>\n",
       "      <td>Prof-school</td>\n",
       "      <td>15</td>\n",
       "      <td>Never-married</td>\n",
       "      <td>Prof-specialty</td>\n",
       "      <td>Not-in-family</td>\n",
       "      <td>White</td>\n",
       "      <td>Male</td>\n",
       "      <td>0</td>\n",
       "      <td>2824</td>\n",
       "      <td>45</td>\n",
       "      <td>United-States</td>\n",
       "      <td>&gt;50K</td>\n",
       "    </tr>\n",
       "  </tbody>\n",
       "</table>\n",
       "</div>"
      ],
      "text/plain": [
       "   age         workclass  fnlwgt     education  educationnum  maritalstatus  \\\n",
       "0   82           Private  132870       HS-grad             9        Widowed   \n",
       "1   54           Private  140359       7th-8th             4       Divorced   \n",
       "2   41           Private  264663  Some-college            10      Separated   \n",
       "3   34           Private  216864       HS-grad             9       Divorced   \n",
       "4   38           Private  150601          10th             6      Separated   \n",
       "5   74         State-gov   88638     Doctorate            16  Never-married   \n",
       "6   68       Federal-gov  422013       HS-grad             9       Divorced   \n",
       "7   45           Private  172274     Doctorate            16       Divorced   \n",
       "8   38  Self-emp-not-inc  164526   Prof-school            15  Never-married   \n",
       "\n",
       "          occupation    relationship   race     sex  capitalgain  capitalloss  \\\n",
       "0    Exec-managerial   Not-in-family  White  Female            0         4356   \n",
       "1  Machine-op-inspct       Unmarried  White  Female            0         3900   \n",
       "2     Prof-specialty       Own-child  White  Female            0         3900   \n",
       "3      Other-service       Unmarried  White  Female            0         3770   \n",
       "4       Adm-clerical       Unmarried  White    Male            0         3770   \n",
       "5     Prof-specialty  Other-relative  White  Female            0         3683   \n",
       "6     Prof-specialty   Not-in-family  White  Female            0         3683   \n",
       "7     Prof-specialty       Unmarried  Black  Female            0         3004   \n",
       "8     Prof-specialty   Not-in-family  White    Male            0         2824   \n",
       "\n",
       "   hoursperweek  nativecountry income  \n",
       "0            18  United-States  <=50K  \n",
       "1            40  United-States  <=50K  \n",
       "2            40  United-States  <=50K  \n",
       "3            45  United-States  <=50K  \n",
       "4            40  United-States  <=50K  \n",
       "5            20  United-States   >50K  \n",
       "6            40  United-States  <=50K  \n",
       "7            35  United-States   >50K  \n",
       "8            45  United-States   >50K  "
      ]
     },
     "execution_count": 7,
     "metadata": {},
     "output_type": "execute_result"
    }
   ],
   "source": [
    "from pyspark.ml.feature import (VectorAssembler,VectorIndexer,OneHotEncoder,StringIndexer)\n",
    "pd.DataFrame(df.take(9), columns=df.columns)"
   ]
  },
  {
   "cell_type": "code",
   "execution_count": 8,
   "metadata": {},
   "outputs": [],
   "source": [
    "sex_indexer = StringIndexer(inputCol='sex',outputCol='sexIndex')\n",
    "education_indexer = StringIndexer(inputCol='education',outputCol='educationIndex')\n",
    "workclass_indexer = StringIndexer(inputCol='workclass',outputCol='workclassIndex')\n",
    "occupation_indexer = StringIndexer(inputCol='occupation',outputCol='occupationIndex')\n",
    "maritalstatus_indexer = StringIndexer(inputCol='maritalstatus',outputCol='maritalstatusIndex')\n",
    "relationship_indexer = StringIndexer(inputCol='relationship',outputCol='relationshipIndex')\n",
    "race_indexer = StringIndexer(inputCol='race',outputCol='raceIndex')\n",
    "nativecountry_indexer = StringIndexer(inputCol='nativecountry',outputCol='nativecountryIndex')\n",
    "income_indexer = StringIndexer(inputCol='income',outputCol='label')"
   ]
  },
  {
   "cell_type": "code",
   "execution_count": 9,
   "metadata": {},
   "outputs": [
    {
     "data": {
      "text/plain": [
       "DataFrame[age: int, workclass: string, fnlwgt: int, education: string, educationnum: int, maritalstatus: string, occupation: string, relationship: string, race: string, sex: string, capitalgain: int, capitalloss: int, hoursperweek: int, nativecountry: string, income: string, occupationIndex: double]"
      ]
     },
     "execution_count": 9,
     "metadata": {},
     "output_type": "execute_result"
    }
   ],
   "source": [
    "occupation_indexer .fit(df).transform(df)"
   ]
  },
  {
   "cell_type": "code",
   "execution_count": 10,
   "metadata": {},
   "outputs": [],
   "source": [
    "maritalstatus_encoder = OneHotEncoder(inputCol='maritalstatusIndex',outputCol='maritalstatusVec')\n",
    "education_encoder = OneHotEncoder(inputCol='educationIndex',outputCol='educationVec')\n",
    "relationship_encoder = OneHotEncoder(inputCol='relationshipIndex',outputCol='relationshipVec')\n",
    "race_encoder = OneHotEncoder(inputCol='raceIndex',outputCol='raceVec')\n",
    "workclass_encoder = OneHotEncoder(inputCol='workclassIndex',outputCol='workclassVec')\n",
    "occupation_encoder = OneHotEncoder(inputCol='occupationIndex',outputCol='occupationVec')\n",
    "nativecountry_encoder = OneHotEncoder(inputCol='nativecountryIndex',outputCol='nativecountryVec')\n"
   ]
  },
  {
   "cell_type": "code",
   "execution_count": 11,
   "metadata": {},
   "outputs": [],
   "source": [
    "assembler = VectorAssembler(inputCols=['maritalstatusVec','educationVec',\n",
    "                                      'relationshipVec','raceVec','occupationVec','workclassVec','nativecountryVec',\n",
    "                                       'age'], outputCol=\"features\")"
   ]
  },
  {
   "cell_type": "code",
   "execution_count": 12,
   "metadata": {},
   "outputs": [],
   "source": [
    "from pyspark.ml import Pipeline\n",
    "\n",
    "# Then go through our steps. It's essentially sequential to the above.\n",
    "pipeline = Pipeline(stages=[sex_indexer, occupation_indexer,workclass_indexer,nativecountry_indexer,maritalstatus_indexer, education_indexer, \n",
    "                             relationship_indexer, race_indexer,\n",
    "                            income_indexer, occupation_encoder,workclass_encoder,nativecountry_encoder,maritalstatus_encoder, education_encoder,\n",
    "                             relationship_encoder,race_encoder,\n",
    "                            assembler])\n",
    "\n"
   ]
  },
  {
   "cell_type": "code",
   "execution_count": 13,
   "metadata": {},
   "outputs": [],
   "source": [
    "# Now that we've got a number of steps, let's apply it to the DataFrame.\n",
    "pipeline_model = pipeline.fit(df)\n",
    "\n",
    "\n"
   ]
  },
  {
   "cell_type": "code",
   "execution_count": 14,
   "metadata": {},
   "outputs": [],
   "source": [
    "pipe_df = pipeline_model.transform(df)\n",
    "\n",
    "# Remove all variables other than features and label. \n",
    "pipe_df = pipe_df.select('label', 'features')"
   ]
  },
  {
   "cell_type": "code",
   "execution_count": 15,
   "metadata": {},
   "outputs": [
    {
     "name": "stdout",
     "output_type": "stream",
     "text": [
      "Training Dataset Count: 21139\n",
      "Test Dataset Count: 9023\n"
     ]
    }
   ],
   "source": [
    "from pyspark.ml.classification import LogisticRegression\n",
    "\n",
    "# Split our data. Note that the new DataFrame is being used.\n",
    "train_data, test_data = pipe_df.randomSplit([0.7,0.3])\n",
    "print(\"Training Dataset Count: \" + str(train_data.count()))\n",
    "print(\"Test Dataset Count: \" + str(test_data.count()))\n",
    "\n",
    "# Instantiate the model.\n",
    "lr_model = LogisticRegression(featuresCol='features',labelCol='label')\n",
    "\n",
    "# Fit the model.\n",
    "lr_model = lr_model.fit(train_data)\n",
    "\n",
    "# And evaluate the model using the test data.\n",
    "results = lr_model.transform(test_data)"
   ]
  },
  {
   "cell_type": "code",
   "execution_count": 16,
   "metadata": {},
   "outputs": [
    {
     "data": {
      "text/plain": [
       "<Figure size 640x480 with 1 Axes>"
      ]
     },
     "metadata": {},
     "output_type": "display_data"
    }
   ],
   "source": [
    "import matplotlib.pyplot as plt\n",
    "import numpy as np\n",
    "\n",
    "# Visualising the coefficients. Sort from lowest to highest.\n",
    "beta = np.sort(lr_model.coefficients)\n",
    "\n",
    "# Plot the data.\n",
    "plt.plot(beta)\n",
    "\n",
    "# Add a label to the data.\n",
    "plt.ylabel('Beta Coefficients')\n",
    "\n",
    "# Show the graph. \n",
    "plt.show()\n"
   ]
  },
  {
   "cell_type": "code",
   "execution_count": 17,
   "metadata": {},
   "outputs": [
    {
     "data": {
      "image/png": "[encoded data removed]",
      "text/plain": [
       "<Figure size 432x288 with 1 Axes>"
      ]
     },
     "metadata": {},
     "output_type": "display_data"
    },
    {
     "name": "stdout",
     "output_type": "stream",
     "text": [
      "Area Under the Curve: 0.8762384427719248\n"
     ]
    }
   ],
   "source": [
    "# Let's get a summary of the data.\n",
    "training_summary = lr_model.summary\n",
    "\n",
    "# Convert the DataFrame to a Pandas DataFrame.\n",
    "ROC = training_summary.roc.toPandas()\n",
    "\n",
    "# Plot the true positive and false positive rates.\n",
    "plt.plot(ROC['FPR'],ROC['TPR'])\n",
    "\n",
    "# Define the labels.\n",
    "plt.ylabel('True Positive Rate')\n",
    "plt.xlabel('False Positive Rate')\n",
    "plt.title('ROC Curve')\n",
    "plt.show()\n",
    "\n",
    "# Print the AUC statistic. \n",
    "print('Area Under the Curve: ' + str(training_summary.areaUnderROC))"
   ]
  },
  {
   "cell_type": "code",
   "execution_count": 18,
   "metadata": {},
   "outputs": [
    {
     "data": {
      "image/png": "[encoded data removed]",
      "text/plain": [
       "<Figure size 432x288 with 1 Axes>"
      ]
     },
     "metadata": {},
     "output_type": "display_data"
    }
   ],
   "source": [
    "# Convert DataFrame to Pandas DataFrame.\n",
    "pr = training_summary.pr.toPandas()\n",
    "\n",
    "# Plot model recall and precision.\n",
    "plt.plot(pr['recall'],pr['precision'])\n",
    "\n",
    "# Define the labels and show the graph. \n",
    "plt.ylabel('Precision')\n",
    "plt.xlabel('Recall')\n",
    "plt.show()"
   ]
  },
  {
   "cell_type": "code",
   "execution_count": 31,
   "metadata": {},
   "outputs": [
    {
     "ename": "AttributeError",
     "evalue": "'BinaryLogisticRegressionTrainingSummary' object has no attribute 'featureImportances'",
     "output_type": "error",
     "traceback": [
      "\u001b[0;31m---------------------------------------------------------------------------\u001b[0m",
      "\u001b[0;31mAttributeError\u001b[0m                            Traceback (most recent call last)",
      "\u001b[0;32m<ipython-input-31-cb1451185692>\u001b[0m in \u001b[0;36m<module>\u001b[0;34m()\u001b[0m\n\u001b[0;32m----> 1\u001b[0;31m \u001b[0mlr_model\u001b[0m\u001b[0;34m.\u001b[0m\u001b[0msummary\u001b[0m\u001b[0;34m.\u001b[0m\u001b[0mfeatureImportances\u001b[0m\u001b[0;34m\u001b[0m\u001b[0m\n\u001b[0m",
      "\u001b[0;31mAttributeError\u001b[0m: 'BinaryLogisticRegressionTrainingSummary' object has no attribute 'featureImportances'"
     ]
    }
   ],
   "source": [
    "lr_model.summary.featureImportances"
   ]
  },
  {
   "cell_type": "code",
   "execution_count": 21,
   "metadata": {},
   "outputs": [
    {
     "name": "stdout",
     "output_type": "stream",
     "text": [
      "+--------------------+-----+-------------+----------+--------------------+\n",
      "|            features|label|rawPrediction|prediction|         probability|\n",
      "+--------------------+-----+-------------+----------+--------------------+\n",
      "|(90,[0,6,21,26,30...|  0.0|  [31.0,35.0]|       1.0|[0.46969696969696...|\n",
      "|(90,[0,6,21,26,30...|  0.0|  [31.0,35.0]|       1.0|[0.46969696969696...|\n",
      "|(90,[0,6,21,26,30...|  0.0|  [31.0,35.0]|       1.0|[0.46969696969696...|\n",
      "|(90,[0,6,21,26,30...|  0.0|[113.0,131.0]|       1.0|[0.46311475409836...|\n",
      "|(90,[0,6,21,26,30...|  0.0|[113.0,131.0]|       1.0|[0.46311475409836...|\n",
      "|(90,[0,6,21,26,30...|  0.0|[113.0,131.0]|       1.0|[0.46311475409836...|\n",
      "|(90,[0,6,21,26,30...|  0.0|[113.0,131.0]|       1.0|[0.46311475409836...|\n",
      "|(90,[0,6,21,26,30...|  0.0|[113.0,131.0]|       1.0|[0.46311475409836...|\n",
      "|(90,[0,6,21,26,30...|  0.0|[113.0,131.0]|       1.0|[0.46311475409836...|\n",
      "|(90,[0,6,21,26,30...|  0.0|[113.0,131.0]|       1.0|[0.46311475409836...|\n",
      "+--------------------+-----+-------------+----------+--------------------+\n",
      "only showing top 10 rows\n",
      "\n"
     ]
    }
   ],
   "source": [
    "from pyspark.ml.classification import DecisionTreeClassifier\n",
    "dt = DecisionTreeClassifier(featuresCol = 'features', labelCol = 'label', maxDepth = 7)\n",
    "dtModel = dt.fit(train_data)\n",
    "predictions = dtModel.transform(test_data)\n",
    "predictions.select('features', 'label', 'rawPrediction', 'prediction', 'probability').show(10)"
   ]
  },
  {
   "cell_type": "code",
   "execution_count": 22,
   "metadata": {},
   "outputs": [
    {
     "name": "stdout",
     "output_type": "stream",
     "text": [
      "Test Area Under ROC: 0.6927899431590767\n"
     ]
    },
    {
     "data": {
      "image/png": "[encoded data removed]",
      "text/plain": [
       "<Figure size 432x288 with 1 Axes>"
      ]
     },
     "metadata": {},
     "output_type": "display_data"
    },
    {
     "name": "stdout",
     "output_type": "stream",
     "text": [
      "Area Under the Curve: 0.6927899431590767\n"
     ]
    }
   ],
   "source": [
    "from pyspark.ml.evaluation import BinaryClassificationEvaluator\n",
    "evaluator = BinaryClassificationEvaluator()\n",
    "print(\"Test Area Under ROC: \" + str(evaluator.evaluate(predictions, {evaluator.metricName: \"areaUnderROC\"})))\n",
    "\n",
    "\n",
    "# Plot the true positive and false positive rates.\n",
    "plt.plot(ROC['FPR'],ROC['TPR'])\n",
    "\n",
    "# Define the labels.\n",
    "plt.ylabel('True Positive Rate')\n",
    "plt.xlabel('False Positive Rate')\n",
    "plt.title('ROC Curve')\n",
    "plt.show()\n",
    "\n",
    "# Print the AUC statistic. \n",
    "print('Area Under the Curve: ' + str(evaluator.evaluate(predictions, {evaluator.metricName: \"areaUnderROC\"})))"
   ]
  },
  {
   "cell_type": "code",
   "execution_count": 23,
   "metadata": {},
   "outputs": [
    {
     "data": {
      "text/plain": [
       "SparseVector(90, {0: 0.5357, 1: 0.003, 6: 0.0015, 8: 0.096, 9: 0.0407, 12: 0.0008, 15: 0.018, 18: 0.0185, 21: 0.0017, 22: 0.0007, 24: 0.0004, 25: 0.0021, 26: 0.0001, 27: 0.0002, 30: 0.0801, 32: 0.0749, 34: 0.0005, 35: 0.0148, 39: 0.001, 43: 0.0032, 44: 0.013, 45: 0.0005, 46: 0.0011, 47: 0.0013, 48: 0.0005, 49: 0.0014, 50: 0.0013, 51: 0.0005, 52: 0.0015, 55: 0.0005, 60: 0.0009, 67: 0.0005, 71: 0.0005, 89: 0.0827})"
      ]
     },
     "execution_count": 23,
     "metadata": {},
     "output_type": "execute_result"
    }
   ],
   "source": [
    "dtModel.featureImportances"
   ]
  },
  {
   "cell_type": "code",
   "execution_count": 52,
   "metadata": {},
   "outputs": [
    {
     "name": "stdout",
     "output_type": "stream",
     "text": [
      "+--------------------+-----+--------------------+----------+--------------------+\n",
      "|            features|label|       rawPrediction|prediction|         probability|\n",
      "+--------------------+-----+--------------------+----------+--------------------+\n",
      "|(90,[0,6,21,26,30...|  0.0|[61.5421138083234...|       0.0|[0.61542113808323...|\n",
      "|(90,[0,6,21,26,30...|  0.0|[50.2087861289482...|       0.0|[0.50208786128948...|\n",
      "|(90,[0,6,21,26,30...|  0.0|[50.6566632638532...|       0.0|[0.50656663263853...|\n",
      "|(90,[0,6,21,26,30...|  0.0|[49.1967730839164...|       1.0|[0.49196773083916...|\n",
      "|(90,[0,6,21,26,30...|  0.0|[49.1967730839164...|       1.0|[0.49196773083916...|\n",
      "|(90,[0,6,21,26,30...|  0.0|[46.3783033077660...|       1.0|[0.46378303307766...|\n",
      "|(90,[0,6,21,26,30...|  0.0|[44.6057603995920...|       1.0|[0.44605760399592...|\n",
      "|(90,[0,6,21,26,30...|  0.0|[44.3994858118276...|       1.0|[0.44399485811827...|\n",
      "|(90,[0,6,21,26,30...|  0.0|[44.1613905737323...|       1.0|[0.44161390573732...|\n",
      "|(90,[0,6,21,26,30...|  0.0|[44.1613905737323...|       1.0|[0.44161390573732...|\n",
      "+--------------------+-----+--------------------+----------+--------------------+\n",
      "only showing top 10 rows\n",
      "\n"
     ]
    }
   ],
   "source": [
    "from pyspark.ml.classification import RandomForestClassifier\n",
    "rf = RandomForestClassifier(featuresCol = 'features', labelCol = 'label',numTrees = 100,\n",
    "        featureSubsetStrategy='auto', impurity='gini', maxDepth=12,maxBins=32, seed=None)\n",
    "rfModel = rf.fit(train_data)\n",
    "predictions = rfModel.transform(test_data)\n",
    "predictions.select('features', 'label', 'rawPrediction', 'prediction', 'probability').show(10)"
   ]
  },
  {
   "cell_type": "code",
   "execution_count": 55,
   "metadata": {},
   "outputs": [
    {
     "name": "stdout",
     "output_type": "stream",
     "text": [
      "Test Area Under ROC: 0.8892704191267654\n"
     ]
    },
    {
     "data": {
      "image/png": "[encoded data removed]",
      "text/plain": [
       "<Figure size 432x288 with 1 Axes>"
      ]
     },
     "metadata": {},
     "output_type": "display_data"
    },
    {
     "name": "stdout",
     "output_type": "stream",
     "text": [
      "Area Under the Curve: 0.8892704191267654\n",
      "Accuracy = 0.88927\n"
     ]
    }
   ],
   "source": [
    "evaluator = BinaryClassificationEvaluator()\n",
    "print(\"Test Area Under ROC: \" + str(evaluator.evaluate(predictions, {evaluator.metricName: \"areaUnderROC\"})))\n",
    "\n",
    "# Plot the true positive and false positive rates.\n",
    "plt.plot(ROC['FPR'],ROC['TPR'])\n",
    "\n",
    "# Define the labels.\n",
    "plt.ylabel('True Positive Rate')\n",
    "plt.xlabel('False Positive Rate')\n",
    "plt.title('ROC Curve')\n",
    "plt.show()\n",
    "\n",
    "# Print the AUC statistic. \n",
    "print('Area Under the Curve: ' + str(evaluator.evaluate(predictions, {evaluator.metricName: \"areaUnderROC\"})))\n"
   ]
  },
  {
   "cell_type": "code",
   "execution_count": 54,
   "metadata": {},
   "outputs": [
    {
     "data": {
      "text/plain": [
       "SparseVector(90, {0: 0.1904, 1: 0.0639, 2: 0.0182, 3: 0.0023, 4: 0.0022, 5: 0.0007, 6: 0.0216, 7: 0.0059, 8: 0.0475, 9: 0.0384, 10: 0.0017, 11: 0.0045, 12: 0.0017, 13: 0.0024, 14: 0.0059, 15: 0.021, 16: 0.0035, 17: 0.0005, 18: 0.0152, 19: 0.0015, 20: 0.0003, 21: 0.142, 22: 0.0234, 23: 0.0304, 24: 0.0133, 25: 0.02, 26: 0.0042, 27: 0.0032, 28: 0.0017, 29: 0.0012, 30: 0.0476, 31: 0.0059, 32: 0.0553, 33: 0.0036, 34: 0.0048, 35: 0.0175, 36: 0.0045, 37: 0.0025, 38: 0.004, 39: 0.0064, 40: 0.0041, 41: 0.0011, 42: 0.0001, 43: 0.0069, 44: 0.0076, 45: 0.0027, 46: 0.0025, 47: 0.0104, 48: 0.0034, 49: 0.0037, 50: 0.0039, 51: 0.001, 52: 0.0009, 53: 0.0005, 54: 0.0006, 55: 0.001, 56: 0.0003, 57: 0.0006, 58: 0.0007, 59: 0.0003, 60: 0.0009, 61: 0.0007, 62: 0.0009, 63: 0.0001, 64: 0.0004, 65: 0.0001, 66: 0.0005, 67: 0.0005, 68: 0.0001, 69: 0.0001, 70: 0.0003, 71: 0.0005, 72: 0.0001, 73: 0.0001, 74: 0.0001, 75: 0.0005, 76: 0.0001, 77: 0.0006, 78: 0.0003, 79: 0.0002, 80: 0.0, 81: 0.0002, 82: 0.0001, 83: 0.0001, 84: 0.0003, 85: 0.0, 86: 0.0001, 87: 0.0, 88: 0.0, 89: 0.0991})"
      ]
     },
     "execution_count": 54,
     "metadata": {},
     "output_type": "execute_result"
    }
   ],
   "source": [
    "rfModel.featureImportances\n"
   ]
  },
  {
   "cell_type": "code",
   "execution_count": 50,
   "metadata": {},
   "outputs": [
    {
     "name": "stdout",
     "output_type": "stream",
     "text": [
      "Root Mean Squared Error (RMSE) on test data = 0.352767\n"
     ]
    }
   ],
   "source": [
    "from pyspark.ml.regression import DecisionTreeRegressor\n",
    "dt = DecisionTreeRegressor(featuresCol ='features', labelCol = 'label')\n",
    "dt_model = dt.fit(train_data)\n",
    "dt_predictions = dt_model.transform(test_data)\n",
    "dt_evaluator = RegressionEvaluator(\n",
    "    labelCol=\"label\", predictionCol=\"prediction\", metricName=\"rmse\")\n",
    "rmse = dt_evaluator.evaluate(dt_predictions)\n",
    "print(\"Root Mean Squared Error (RMSE) on test data = %g\" % rmse)"
   ]
  },
  {
   "cell_type": "code",
   "execution_count": 51,
   "metadata": {},
   "outputs": [
    {
     "data": {
      "text/plain": [
       "SparseVector(90, {0: 0.6001, 6: 0.0008, 8: 0.0924, 9: 0.0322, 15: 0.02, 18: 0.0145, 21: 0.0004, 25: 0.0008, 30: 0.0888, 32: 0.076, 43: 0.0008, 44: 0.0044, 46: 0.0012, 51: 0.0006, 52: 0.0005, 89: 0.0665})"
      ]
     },
     "execution_count": 51,
     "metadata": {},
     "output_type": "execute_result"
    }
   ],
   "source": [
    "dt_model.featureImportances"
   ]
  },
  {
   "cell_type": "code",
   "execution_count": 36,
   "metadata": {},
   "outputs": [
    {
     "name": "stdout",
     "output_type": "stream",
     "text": [
      "Coefficients: [-0.050652938628156126,-0.1700302219905181,-0.15161636021980307,-0.14831854589869037,-0.16624723830622629,-0.12517377008755823,0.06992390271999614,0.11311849336972182,0.25216943540696224,0.3591824888671328,0.12613982980670954,0.05415551197221496,0.13943969575766943,0.03235710083120372,-0.039221361156421844,0.4823896940318528,-0.0069405157955589256,0.07670490324224138,0.48820128573315286,-0.011124546114620154,0.003692989138994161,0.18443224008127465,-0.01997501511808083,-0.01796898600097791,-0.028507730863662088,0.22024847715492352,0.033454222218962576,0.017236618241225632,0.008321177481248885,-0.008391524732156298,0.16032729272664248,0.09813936112703162,0.2387412553836527,0.09132241003149995,0.1428303883801621,0.06284767622485957,0.061289812688332966,0.08530995931163002,0.06355891451271668,0.025204416196190252,0.17333414453728865,0.182306355831412,0.07494577966068723,0.22084828790341607,0.16257941525432798,0.17194820692823776,0.156176255465434,0.31796343697780577,0.29467741362083305,-0.022423200043711275,-0.07109999738192414,0.009619346771042125,0.003948169239279455,-0.05401857760116403,-0.03341144688702256,-0.06035205251629339,-0.014767701485681186,-0.014039250607415742,0.0030893007803820894,-0.05373190195889762,-0.17784628275700318,-0.14929343167994658,0.03527608748994396,-0.13455045887919337,-0.06450516581720743,-0.027156710367297953,0.005356899669304528,-0.06246776277907045,-0.09783496223779846,-0.017927623422339275,-0.07565530410722295,-0.05288566382703697,-0.11115829949115241,-0.15279429046880372,-0.1254278294815044,-0.1289120562773443,-0.0645031468913341,-0.007263784626590949,0.08334173643314975,0.030765963090221567,-0.1170028016717429,0.09453395663031598,-0.07815965573005149,-0.10131353304553095,0.10766929614212481,-0.23096060011086259,-0.03450846170754374,-0.05423808284285798,-0.0956962860302896,0.002716162212972623]\n",
      "Intercept: -0.3041975764883404\n",
      "\n",
      "RMSE: 0.35284919016766814\n",
      "R2: 0.3276185265067143\n"
     ]
    }
   ],
   "source": [
    "# Importing the LR package.\n",
    "from pyspark.ml.regression import LinearRegression\n",
    "\n",
    "# Instantiate the instance.\n",
    "lr = LinearRegression(featuresCol='features', labelCol='label')\n",
    "\n",
    "# Fit the training data.\n",
    "lr_model = lr.fit(train_data)\n",
    "\n",
    "# Print the coefficients.\n",
    "print(\"Coefficients: \" + str(lr_model.coefficients))\n",
    "\n",
    "# Print the intercept.\n",
    "print(\"Intercept: \" + str(lr_model.intercept) + \"\\n\")\n",
    "\n",
    "# Summarise the model and print out some evaluation metrics.\n",
    "training_summary = lr_model.summary\n",
    "\n",
    "# Print RMSE. \n",
    "print(\"RMSE: \" + str(training_summary.rootMeanSquaredError))\n",
    "\n",
    "# Print R2.\n",
    "print(\"R2: \" + str(training_summary.r2))"
   ]
  },
  {
   "cell_type": "code",
   "execution_count": 37,
   "metadata": {},
   "outputs": [
    {
     "name": "stdout",
     "output_type": "stream",
     "text": [
      "+-------+-------------------+\n",
      "|summary|              label|\n",
      "+-------+-------------------+\n",
      "|  count|              21139|\n",
      "|   mean|0.24537584559345285|\n",
      "| stddev|  0.430319997074328|\n",
      "|    min|                0.0|\n",
      "|    max|                1.0|\n",
      "+-------+-------------------+\n",
      "\n"
     ]
    }
   ],
   "source": [
    "train_data.describe().show()"
   ]
  },
  {
   "cell_type": "code",
   "execution_count": 38,
   "metadata": {},
   "outputs": [
    {
     "name": "stdout",
     "output_type": "stream",
     "text": [
      "RMSE on test data: 0.35007035354537797\n",
      "R2 on test data: 0.3585940015974325\n"
     ]
    }
   ],
   "source": [
    "# Let's evaluate the model against the test data.\n",
    "test_results = lr_model.evaluate(test_data)\n",
    "\n",
    "# And print the RMSE/R2. As expected, our RMSE and R2 are slightly worse when applying the testing set.\n",
    "print(\"RMSE on test data: \" + str(test_results.rootMeanSquaredError))\n",
    "print(\"R2 on test data: \" + str(test_results.r2))"
   ]
  },
  {
   "cell_type": "code",
   "execution_count": 40,
   "metadata": {},
   "outputs": [
    {
     "name": "stdout",
     "output_type": "stream",
     "text": [
      "+-----+--------------------+--------------------+--------------------+----------+\n",
      "|label|            features|       rawPrediction|         probability|prediction|\n",
      "+-----+--------------------+--------------------+--------------------+----------+\n",
      "|  0.0|(90,[0,6,21,26,30...|[-37.366187569651...|[0.35733413109495...|       1.0|\n",
      "|  0.0|(90,[0,6,21,26,30...|[-38.235736203102...|[0.32800418584989...|       1.0|\n",
      "|  0.0|(90,[0,6,21,26,30...|[-38.409645929793...|[0.32228728037908...|       1.0|\n",
      "|  0.0|(90,[0,6,21,26,30...|[-38.583555656483...|[0.31662306878921...|       1.0|\n",
      "|  0.0|(90,[0,6,21,26,30...|[-38.583555656483...|[0.31662306878921...|       1.0|\n",
      "|  0.0|(90,[0,6,21,26,30...|[-39.105284836553...|[0.29995800945279...|       1.0|\n",
      "|  0.0|(90,[0,6,21,26,30...|[-39.279194563244...|[0.29451569277276...|       1.0|\n",
      "|  0.0|(90,[0,6,21,26,30...|[-41.018291830146...|[0.24340591666409...|       1.0|\n",
      "|  0.0|(90,[0,6,21,26,30...|[-41.713930736907...|[0.22472958276723...|       1.0|\n",
      "|  0.0|(90,[0,6,21,26,30...|[-41.713930736907...|[0.22472958276723...|       1.0|\n",
      "|  0.0|(90,[0,6,21,26,30...|[-42.583479370358...|[0.20284837108899...|       1.0|\n",
      "|  0.0|(90,[0,6,21,26,30...|[-43.800847457190...|[0.17494663776595...|       1.0|\n",
      "|  0.0|(90,[0,6,21,26,30...|[-41.001455646210...|[0.24557781216291...|       1.0|\n",
      "|  0.0|(90,[0,6,21,26,30...|[-46.502897299949...|[0.67329882854142...|       0.0|\n",
      "|  0.0|(90,[0,6,21,26,30...|[-42.930470816799...|[0.19450574886520...|       1.0|\n",
      "|  0.0|(90,[0,6,21,26,30...|[-47.401077140364...|[0.08262988876388...|       1.0|\n",
      "|  0.0|(90,[0,6,21,26,31...|[-35.656456025011...|[0.64865623611035...|       0.0|\n",
      "|  0.0|(90,[0,6,21,26,31...|[-35.830365751701...|[0.64269565107156...|       0.0|\n",
      "|  0.0|(90,[0,6,21,26,31...|[-36.004275478391...|[0.63669058201929...|       0.0|\n",
      "|  0.0|(90,[0,6,21,26,31...|[-36.004275478391...|[0.63669058201929...|       0.0|\n",
      "+-----+--------------------+--------------------+--------------------+----------+\n",
      "only showing top 20 rows\n",
      "\n",
      "Test set accuracy = 0.8165798514906351\n"
     ]
    }
   ],
   "source": [
    "from pyspark.ml.classification import NaiveBayes\n",
    "from pyspark.ml.evaluation import MulticlassClassificationEvaluator\n",
    "\n",
    "\n",
    "# create the trainer and set its parameters\n",
    "nb = NaiveBayes(smoothing=1.0, modelType=\"multinomial\")\n",
    "\n",
    "# train the model\n",
    "model = nb.fit(train_data)\n",
    "\n",
    "# select example rows to display.\n",
    "predictions = model.transform(test_data)\n",
    "predictions.show()\n",
    "\n",
    "# compute accuracy on the test set\n",
    "evaluator = MulticlassClassificationEvaluator(labelCol='label', predictionCol='prediction',\n",
    "                                              metricName='accuracy')\n",
    "accuracy = evaluator.evaluate(predictions)\n",
    "print(\"Test set accuracy = \" + str(accuracy))"
   ]
  },
  {
   "cell_type": "code",
   "execution_count": 41,
   "metadata": {},
   "outputs": [
    {
     "name": "stdout",
     "output_type": "stream",
     "text": [
      "Test Area Under ROC: 0.6965162836021249\n"
     ]
    },
    {
     "data": {
      "image/png": "[encoded data removed]",
      "text/plain": [
       "<Figure size 432x288 with 1 Axes>"
      ]
     },
     "metadata": {},
     "output_type": "display_data"
    },
    {
     "name": "stdout",
     "output_type": "stream",
     "text": [
      "Area Under the Curve: 0.6965162836021249\n"
     ]
    }
   ],
   "source": [
    "from pyspark.ml.evaluation import BinaryClassificationEvaluator\n",
    "evaluator = BinaryClassificationEvaluator()\n",
    "print(\"Test Area Under ROC: \" + str(evaluator.evaluate(predictions, {evaluator.metricName: \"areaUnderROC\"})))\n",
    "\n",
    "\n",
    "# Plot the true positive and false positive rates.\n",
    "plt.plot(ROC['FPR'],ROC['TPR'])\n",
    "\n",
    "# Define the labels.\n",
    "plt.ylabel('True Positive Rate')\n",
    "plt.xlabel('False Positive Rate')\n",
    "plt.title('ROC Curve')\n",
    "plt.show()\n",
    "\n",
    "# Print the AUC statistic. \n",
    "print('Area Under the Curve: ' + str(evaluator.evaluate(predictions, {evaluator.metricName: \"areaUnderROC\"})))"
   ]
  },
  {
   "cell_type": "code",
   "execution_count": null,
   "metadata": {},
   "outputs": [],
   "source": []
  }
 ],
 "metadata": {
  "kernelspec": {
   "display_name": "Python 3",
   "language": "python",
   "name": "python3"
  },
  "language_info": {
   "codemirror_mode": {
    "name": "ipython",
    "version": 3
   },
   "file_extension": ".py",
   "mimetype": "text/x-python",
   "name": "python",
   "nbconvert_exporter": "python",
   "pygments_lexer": "ipython3",
   "version": "3.5.2"
  }
 },
 "nbformat": 4,
 "nbformat_minor": 2
}
