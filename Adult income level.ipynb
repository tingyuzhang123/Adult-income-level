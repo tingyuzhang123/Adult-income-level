{
 "cells": [
  {
   "cell_type": "code",
   "execution_count": 40,
   "metadata": {},
   "outputs": [],
   "source": [
    "import findspark\n",
    "findspark.init('/home/ubuntu/spark-2.1.1-bin-hadoop2.7')\n",
    "import pyspark\n",
    "from pyspark.sql import *\n",
    "spark = SparkSession.builder.appName('logistic_regression_adv').getOrCreate()\n",
    "from pyspark.sql import SparkSession\n",
    "spark = SparkSession.builder.appName('basics').getOrCreate()\n",
    "from pyspark.ml.classification import LogisticRegression\n",
    "from pyspark.ml import Pipeline\n",
    "from pyspark.ml.regression import DecisionTreeRegressor\n",
    "from pyspark.ml.feature import VectorIndexer\n",
    "from pyspark.ml.evaluation import RegressionEvaluator\n",
    "from pyspark.ml.linalg import Vector,Vectors\n",
    "from pyspark.sql import Row\n",
    "from pyspark.ml import Pipeline\n",
    "from pyspark.ml.feature import IndexToString,StringIndexer,VectorIndexer\n",
    "import pandas as pd"
   ]
  },
  {
   "cell_type": "code",
   "execution_count": 2,
   "metadata": {},
   "outputs": [],
   "source": [
    "df = spark.read.csv('adult income.csv',header=True,inferSchema=True)"
   ]
  },
  {
   "cell_type": "code",
   "execution_count": 3,
   "metadata": {},
   "outputs": [
    {
     "name": "stdout",
     "output_type": "stream",
     "text": [
      "+---+----------------+------+------------+------------+-------------+-----------------+--------------+-----+------+-----------+-----------+------------+-------------+------+\n",
      "|age|       workclass|fnlwgt|   education|educationnum|maritalstatus|       occupation|  relationship| race|   sex|capitalgain|capitalloss|hoursperweek|nativecountry|income|\n",
      "+---+----------------+------+------------+------------+-------------+-----------------+--------------+-----+------+-----------+-----------+------------+-------------+------+\n",
      "| 90|         Private| 77053|     HS-grad|           9|      Widowed|             null| Not-in-family|White|Female|          0|       4356|          40|United-States| <=50K|\n",
      "| 82|         Private|132870|     HS-grad|           9|      Widowed|  Exec-managerial| Not-in-family|White|Female|          0|       4356|          18|United-States| <=50K|\n",
      "| 66|         Private|186061|Some-college|          10|      Widowed|             null|     Unmarried|Black|Female|          0|       4356|          40|United-States| <=50K|\n",
      "| 54|         Private|140359|     7th-8th|           4|     Divorced|Machine-op-inspct|     Unmarried|White|Female|          0|       3900|          40|United-States| <=50K|\n",
      "| 41|         Private|264663|Some-college|          10|    Separated|   Prof-specialty|     Own-child|White|Female|          0|       3900|          40|United-States| <=50K|\n",
      "| 34|         Private|216864|     HS-grad|           9|     Divorced|    Other-service|     Unmarried|White|Female|          0|       3770|          45|United-States| <=50K|\n",
      "| 38|         Private|150601|        10th|           6|    Separated|     Adm-clerical|     Unmarried|White|  Male|          0|       3770|          40|United-States| <=50K|\n",
      "| 74|       State-gov| 88638|   Doctorate|          16|Never-married|   Prof-specialty|Other-relative|White|Female|          0|       3683|          20|United-States|  >50K|\n",
      "| 68|     Federal-gov|422013|     HS-grad|           9|     Divorced|   Prof-specialty| Not-in-family|White|Female|          0|       3683|          40|United-States| <=50K|\n",
      "| 41|         Private| 70037|Some-college|          10|Never-married|     Craft-repair|     Unmarried|White|  Male|          0|       3004|          60|         null|  >50K|\n",
      "| 45|         Private|172274|   Doctorate|          16|     Divorced|   Prof-specialty|     Unmarried|Black|Female|          0|       3004|          35|United-States|  >50K|\n",
      "| 38|Self-emp-not-inc|164526| Prof-school|          15|Never-married|   Prof-specialty| Not-in-family|White|  Male|          0|       2824|          45|United-States|  >50K|\n",
      "| 52|         Private|129177|   Bachelors|          13|      Widowed|    Other-service| Not-in-family|White|Female|          0|       2824|          20|United-States|  >50K|\n",
      "| 32|         Private|136204|     Masters|          14|    Separated|  Exec-managerial| Not-in-family|White|  Male|          0|       2824|          55|United-States|  >50K|\n",
      "| 51|            null|172175|   Doctorate|          16|Never-married|             null| Not-in-family|White|  Male|          0|       2824|          40|United-States|  >50K|\n",
      "| 46|         Private| 45363| Prof-school|          15|     Divorced|   Prof-specialty| Not-in-family|White|  Male|          0|       2824|          40|United-States|  >50K|\n",
      "| 45|         Private|172822|        11th|           7|     Divorced| Transport-moving| Not-in-family|White|  Male|          0|       2824|          76|United-States|  >50K|\n",
      "| 57|         Private|317847|     Masters|          14|     Divorced|  Exec-managerial| Not-in-family|White|  Male|          0|       2824|          50|United-States|  >50K|\n",
      "| 22|         Private|119592|  Assoc-acdm|          12|Never-married|Handlers-cleaners| Not-in-family|Black|  Male|          0|       2824|          40|         null|  >50K|\n",
      "| 34|         Private|203034|   Bachelors|          13|    Separated|            Sales| Not-in-family|White|  Male|          0|       2824|          50|United-States|  >50K|\n",
      "+---+----------------+------+------------+------------+-------------+-----------------+--------------+-----+------+-----------+-----------+------------+-------------+------+\n",
      "only showing top 20 rows\n",
      "\n"
     ]
    }
   ],
   "source": [
    "df.show()"
   ]
  },
  {
   "cell_type": "code",
   "execution_count": 4,
   "metadata": {},
   "outputs": [
    {
     "name": "stdout",
     "output_type": "stream",
     "text": [
      "root\n",
      " |-- age: integer (nullable = true)\n",
      " |-- workclass: string (nullable = true)\n",
      " |-- fnlwgt: integer (nullable = true)\n",
      " |-- education: string (nullable = true)\n",
      " |-- educationnum: integer (nullable = true)\n",
      " |-- maritalstatus: string (nullable = true)\n",
      " |-- occupation: string (nullable = true)\n",
      " |-- relationship: string (nullable = true)\n",
      " |-- race: string (nullable = true)\n",
      " |-- sex: string (nullable = true)\n",
      " |-- capitalgain: integer (nullable = true)\n",
      " |-- capitalloss: integer (nullable = true)\n",
      " |-- hoursperweek: integer (nullable = true)\n",
      " |-- nativecountry: string (nullable = true)\n",
      " |-- income: string (nullable = true)\n",
      "\n",
      "['age', 'workclass', 'fnlwgt', 'education', 'educationnum', 'maritalstatus', 'occupation', 'relationship', 'race', 'sex', 'capitalgain', 'capitalloss', 'hoursperweek', 'nativecountry', 'income']\n"
     ]
    },
    {
     "data": {
      "text/html": [
       "<div>\n",
       "<style scoped>\n",
       "    .dataframe tbody tr th:only-of-type {\n",
       "        vertical-align: middle;\n",
       "    }\n",
       "\n",
       "    .dataframe tbody tr th {\n",
       "        vertical-align: top;\n",
       "    }\n",
       "\n",
       "    .dataframe thead th {\n",
       "        text-align: right;\n",
       "    }\n",
       "</style>\n",
       "<table border=\"1\" class=\"dataframe\">\n",
       "  <thead>\n",
       "    <tr style=\"text-align: right;\">\n",
       "      <th></th>\n",
       "      <th>age</th>\n",
       "      <th>workclass</th>\n",
       "      <th>fnlwgt</th>\n",
       "      <th>education</th>\n",
       "      <th>educationnum</th>\n",
       "      <th>maritalstatus</th>\n",
       "      <th>occupation</th>\n",
       "      <th>relationship</th>\n",
       "      <th>race</th>\n",
       "      <th>sex</th>\n",
       "      <th>capitalgain</th>\n",
       "      <th>capitalloss</th>\n",
       "      <th>hoursperweek</th>\n",
       "      <th>nativecountry</th>\n",
       "      <th>income</th>\n",
       "    </tr>\n",
       "  </thead>\n",
       "  <tbody>\n",
       "    <tr>\n",
       "      <th>0</th>\n",
       "      <td>90</td>\n",
       "      <td>Private</td>\n",
       "      <td>77053</td>\n",
       "      <td>HS-grad</td>\n",
       "      <td>9</td>\n",
       "      <td>Widowed</td>\n",
       "      <td>None</td>\n",
       "      <td>Not-in-family</td>\n",
       "      <td>White</td>\n",
       "      <td>Female</td>\n",
       "      <td>0</td>\n",
       "      <td>4356</td>\n",
       "      <td>40</td>\n",
       "      <td>United-States</td>\n",
       "      <td>&lt;=50K</td>\n",
       "    </tr>\n",
       "    <tr>\n",
       "      <th>1</th>\n",
       "      <td>82</td>\n",
       "      <td>Private</td>\n",
       "      <td>132870</td>\n",
       "      <td>HS-grad</td>\n",
       "      <td>9</td>\n",
       "      <td>Widowed</td>\n",
       "      <td>Exec-managerial</td>\n",
       "      <td>Not-in-family</td>\n",
       "      <td>White</td>\n",
       "      <td>Female</td>\n",
       "      <td>0</td>\n",
       "      <td>4356</td>\n",
       "      <td>18</td>\n",
       "      <td>United-States</td>\n",
       "      <td>&lt;=50K</td>\n",
       "    </tr>\n",
       "    <tr>\n",
       "      <th>2</th>\n",
       "      <td>66</td>\n",
       "      <td>Private</td>\n",
       "      <td>186061</td>\n",
       "      <td>Some-college</td>\n",
       "      <td>10</td>\n",
       "      <td>Widowed</td>\n",
       "      <td>None</td>\n",
       "      <td>Unmarried</td>\n",
       "      <td>Black</td>\n",
       "      <td>Female</td>\n",
       "      <td>0</td>\n",
       "      <td>4356</td>\n",
       "      <td>40</td>\n",
       "      <td>United-States</td>\n",
       "      <td>&lt;=50K</td>\n",
       "    </tr>\n",
       "    <tr>\n",
       "      <th>3</th>\n",
       "      <td>54</td>\n",
       "      <td>Private</td>\n",
       "      <td>140359</td>\n",
       "      <td>7th-8th</td>\n",
       "      <td>4</td>\n",
       "      <td>Divorced</td>\n",
       "      <td>Machine-op-inspct</td>\n",
       "      <td>Unmarried</td>\n",
       "      <td>White</td>\n",
       "      <td>Female</td>\n",
       "      <td>0</td>\n",
       "      <td>3900</td>\n",
       "      <td>40</td>\n",
       "      <td>United-States</td>\n",
       "      <td>&lt;=50K</td>\n",
       "    </tr>\n",
       "    <tr>\n",
       "      <th>4</th>\n",
       "      <td>41</td>\n",
       "      <td>Private</td>\n",
       "      <td>264663</td>\n",
       "      <td>Some-college</td>\n",
       "      <td>10</td>\n",
       "      <td>Separated</td>\n",
       "      <td>Prof-specialty</td>\n",
       "      <td>Own-child</td>\n",
       "      <td>White</td>\n",
       "      <td>Female</td>\n",
       "      <td>0</td>\n",
       "      <td>3900</td>\n",
       "      <td>40</td>\n",
       "      <td>United-States</td>\n",
       "      <td>&lt;=50K</td>\n",
       "    </tr>\n",
       "  </tbody>\n",
       "</table>\n",
       "</div>"
      ],
      "text/plain": [
       "   age workclass  fnlwgt     education  educationnum maritalstatus  \\\n",
       "0   90   Private   77053       HS-grad             9       Widowed   \n",
       "1   82   Private  132870       HS-grad             9       Widowed   \n",
       "2   66   Private  186061  Some-college            10       Widowed   \n",
       "3   54   Private  140359       7th-8th             4      Divorced   \n",
       "4   41   Private  264663  Some-college            10     Separated   \n",
       "\n",
       "          occupation   relationship   race     sex  capitalgain  capitalloss  \\\n",
       "0               None  Not-in-family  White  Female            0         4356   \n",
       "1    Exec-managerial  Not-in-family  White  Female            0         4356   \n",
       "2               None      Unmarried  Black  Female            0         4356   \n",
       "3  Machine-op-inspct      Unmarried  White  Female            0         3900   \n",
       "4     Prof-specialty      Own-child  White  Female            0         3900   \n",
       "\n",
       "   hoursperweek  nativecountry income  \n",
       "0            40  United-States  <=50K  \n",
       "1            18  United-States  <=50K  \n",
       "2            40  United-States  <=50K  \n",
       "3            40  United-States  <=50K  \n",
       "4            40  United-States  <=50K  "
      ]
     },
     "execution_count": 4,
     "metadata": {},
     "output_type": "execute_result"
    }
   ],
   "source": [
    "df.printSchema()\n",
    "print(df.columns)\n",
    "pd.DataFrame(df.take(5), columns=df.columns)"
   ]
  },
  {
   "cell_type": "code",
   "execution_count": 155,
   "metadata": {},
   "outputs": [
    {
     "data": {
      "text/html": [
       "<div>\n",
       "<style scoped>\n",
       "    .dataframe tbody tr th:only-of-type {\n",
       "        vertical-align: middle;\n",
       "    }\n",
       "\n",
       "    .dataframe tbody tr th {\n",
       "        vertical-align: top;\n",
       "    }\n",
       "\n",
       "    .dataframe thead th {\n",
       "        text-align: right;\n",
       "    }\n",
       "</style>\n",
       "<table border=\"1\" class=\"dataframe\">\n",
       "  <thead>\n",
       "    <tr style=\"text-align: right;\">\n",
       "      <th></th>\n",
       "      <th>0</th>\n",
       "      <th>1</th>\n",
       "      <th>2</th>\n",
       "      <th>3</th>\n",
       "      <th>4</th>\n",
       "    </tr>\n",
       "  </thead>\n",
       "  <tbody>\n",
       "    <tr>\n",
       "      <th>summary</th>\n",
       "      <td>count</td>\n",
       "      <td>mean</td>\n",
       "      <td>stddev</td>\n",
       "      <td>min</td>\n",
       "      <td>max</td>\n",
       "    </tr>\n",
       "    <tr>\n",
       "      <th>age</th>\n",
       "      <td>30162</td>\n",
       "      <td>38.437901995888865</td>\n",
       "      <td>13.134664776856031</td>\n",
       "      <td>17</td>\n",
       "      <td>90</td>\n",
       "    </tr>\n",
       "    <tr>\n",
       "      <th>workclass</th>\n",
       "      <td>30162</td>\n",
       "      <td>None</td>\n",
       "      <td>None</td>\n",
       "      <td>Federal-gov</td>\n",
       "      <td>Without-pay</td>\n",
       "    </tr>\n",
       "    <tr>\n",
       "      <th>fnlwgt</th>\n",
       "      <td>30162</td>\n",
       "      <td>189793.83393011073</td>\n",
       "      <td>105652.9715285195</td>\n",
       "      <td>13769</td>\n",
       "      <td>1484705</td>\n",
       "    </tr>\n",
       "    <tr>\n",
       "      <th>education</th>\n",
       "      <td>30162</td>\n",
       "      <td>None</td>\n",
       "      <td>None</td>\n",
       "      <td>10th</td>\n",
       "      <td>Some-college</td>\n",
       "    </tr>\n",
       "    <tr>\n",
       "      <th>educationnum</th>\n",
       "      <td>30162</td>\n",
       "      <td>10.12131158411246</td>\n",
       "      <td>2.5499949188567363</td>\n",
       "      <td>1</td>\n",
       "      <td>16</td>\n",
       "    </tr>\n",
       "    <tr>\n",
       "      <th>maritalstatus</th>\n",
       "      <td>30162</td>\n",
       "      <td>None</td>\n",
       "      <td>None</td>\n",
       "      <td>Divorced</td>\n",
       "      <td>Widowed</td>\n",
       "    </tr>\n",
       "    <tr>\n",
       "      <th>occupation</th>\n",
       "      <td>30162</td>\n",
       "      <td>None</td>\n",
       "      <td>None</td>\n",
       "      <td>Adm-clerical</td>\n",
       "      <td>Transport-moving</td>\n",
       "    </tr>\n",
       "    <tr>\n",
       "      <th>relationship</th>\n",
       "      <td>30162</td>\n",
       "      <td>None</td>\n",
       "      <td>None</td>\n",
       "      <td>Husband</td>\n",
       "      <td>Wife</td>\n",
       "    </tr>\n",
       "    <tr>\n",
       "      <th>race</th>\n",
       "      <td>30162</td>\n",
       "      <td>None</td>\n",
       "      <td>None</td>\n",
       "      <td>Amer-Indian-Eskimo</td>\n",
       "      <td>White</td>\n",
       "    </tr>\n",
       "    <tr>\n",
       "      <th>sex</th>\n",
       "      <td>30162</td>\n",
       "      <td>None</td>\n",
       "      <td>None</td>\n",
       "      <td>Female</td>\n",
       "      <td>Male</td>\n",
       "    </tr>\n",
       "    <tr>\n",
       "      <th>capitalgain</th>\n",
       "      <td>30162</td>\n",
       "      <td>1092.0078575691268</td>\n",
       "      <td>7406.346496683517</td>\n",
       "      <td>0</td>\n",
       "      <td>99999</td>\n",
       "    </tr>\n",
       "    <tr>\n",
       "      <th>capitalloss</th>\n",
       "      <td>30162</td>\n",
       "      <td>88.37248856176646</td>\n",
       "      <td>404.2983704863763</td>\n",
       "      <td>0</td>\n",
       "      <td>4356</td>\n",
       "    </tr>\n",
       "    <tr>\n",
       "      <th>hoursperweek</th>\n",
       "      <td>30162</td>\n",
       "      <td>40.93123798156621</td>\n",
       "      <td>11.97998422927492</td>\n",
       "      <td>1</td>\n",
       "      <td>99</td>\n",
       "    </tr>\n",
       "    <tr>\n",
       "      <th>nativecountry</th>\n",
       "      <td>30162</td>\n",
       "      <td>None</td>\n",
       "      <td>None</td>\n",
       "      <td>Cambodia</td>\n",
       "      <td>Yugoslavia</td>\n",
       "    </tr>\n",
       "    <tr>\n",
       "      <th>income</th>\n",
       "      <td>30162</td>\n",
       "      <td>None</td>\n",
       "      <td>None</td>\n",
       "      <td>&lt;=50K</td>\n",
       "      <td>&gt;50K</td>\n",
       "    </tr>\n",
       "  </tbody>\n",
       "</table>\n",
       "</div>"
      ],
      "text/plain": [
       "                   0                   1                   2  \\\n",
       "summary        count                mean              stddev   \n",
       "age            30162  38.437901995888865  13.134664776856031   \n",
       "workclass      30162                None                None   \n",
       "fnlwgt         30162  189793.83393011073   105652.9715285195   \n",
       "education      30162                None                None   \n",
       "educationnum   30162   10.12131158411246  2.5499949188567363   \n",
       "maritalstatus  30162                None                None   \n",
       "occupation     30162                None                None   \n",
       "relationship   30162                None                None   \n",
       "race           30162                None                None   \n",
       "sex            30162                None                None   \n",
       "capitalgain    30162  1092.0078575691268   7406.346496683517   \n",
       "capitalloss    30162   88.37248856176646   404.2983704863763   \n",
       "hoursperweek   30162   40.93123798156621   11.97998422927492   \n",
       "nativecountry  30162                None                None   \n",
       "income         30162                None                None   \n",
       "\n",
       "                                3                 4  \n",
       "summary                       min               max  \n",
       "age                            17                90  \n",
       "workclass             Federal-gov       Without-pay  \n",
       "fnlwgt                      13769           1484705  \n",
       "education                    10th      Some-college  \n",
       "educationnum                    1                16  \n",
       "maritalstatus            Divorced           Widowed  \n",
       "occupation           Adm-clerical  Transport-moving  \n",
       "relationship              Husband              Wife  \n",
       "race           Amer-Indian-Eskimo             White  \n",
       "sex                        Female              Male  \n",
       "capitalgain                     0             99999  \n",
       "capitalloss                     0              4356  \n",
       "hoursperweek                    1                99  \n",
       "nativecountry            Cambodia        Yugoslavia  \n",
       "income                      <=50K              >50K  "
      ]
     },
     "execution_count": 155,
     "metadata": {},
     "output_type": "execute_result"
    }
   ],
   "source": [
    "import pandas as pd\n",
    "df.describe().toPandas().transpose()"
   ]
  },
  {
   "cell_type": "code",
   "execution_count": 5,
   "metadata": {},
   "outputs": [
    {
     "name": "stdout",
     "output_type": "stream",
     "text": [
      "[Row(age=90, workclass='Private', fnlwgt=77053, education='HS-grad', educationnum=9, maritalstatus='Widowed', occupation=None, relationship='Not-in-family', race='White', sex='Female', capitalgain=0, capitalloss=4356, hoursperweek=40, nativecountry='United-States', income='<=50K')]\n"
     ]
    }
   ],
   "source": [
    "print(df.head(1))"
   ]
  },
  {
   "cell_type": "code",
   "execution_count": 6,
   "metadata": {},
   "outputs": [
    {
     "name": "stdout",
     "output_type": "stream",
     "text": [
      "+-------+------------------+------------------+\n",
      "|summary|            fnlwgt|               age|\n",
      "+-------+------------------+------------------+\n",
      "|  count|             32561|             32561|\n",
      "|   mean|189778.36651208502| 38.58164675532078|\n",
      "| stddev|105549.97769702264|13.640432553581295|\n",
      "|    min|             12285|                17|\n",
      "|    max|           1484705|                90|\n",
      "+-------+------------------+------------------+\n",
      "\n"
     ]
    }
   ],
   "source": [
    "df.select('fnlwgt','age').describe().show()"
   ]
  },
  {
   "cell_type": "code",
   "execution_count": 7,
   "metadata": {},
   "outputs": [
    {
     "name": "stdout",
     "output_type": "stream",
     "text": [
      "+------------+---+\n",
      "|   education|age|\n",
      "+------------+---+\n",
      "|     HS-grad| 90|\n",
      "|     HS-grad| 82|\n",
      "|Some-college| 66|\n",
      "|     7th-8th| 54|\n",
      "|Some-college| 41|\n",
      "|     HS-grad| 34|\n",
      "|        10th| 38|\n",
      "|   Doctorate| 74|\n",
      "|     HS-grad| 68|\n",
      "|Some-college| 41|\n",
      "|   Doctorate| 45|\n",
      "| Prof-school| 38|\n",
      "|   Bachelors| 52|\n",
      "|     Masters| 32|\n",
      "|   Doctorate| 51|\n",
      "| Prof-school| 46|\n",
      "|        11th| 45|\n",
      "|     Masters| 57|\n",
      "|  Assoc-acdm| 22|\n",
      "|   Bachelors| 34|\n",
      "+------------+---+\n",
      "only showing top 20 rows\n",
      "\n"
     ]
    }
   ],
   "source": [
    "bal_col = df.select('education','age',)\n",
    "bal_col.show()"
   ]
  },
  {
   "cell_type": "code",
   "execution_count": 8,
   "metadata": {},
   "outputs": [
    {
     "name": "stdout",
     "output_type": "stream",
     "text": [
      "+------+---+\n",
      "|income|age|\n",
      "+------+---+\n",
      "| <=50K| 90|\n",
      "| <=50K| 82|\n",
      "| <=50K| 66|\n",
      "| <=50K| 54|\n",
      "| <=50K| 41|\n",
      "| <=50K| 34|\n",
      "| <=50K| 38|\n",
      "|  >50K| 74|\n",
      "| <=50K| 68|\n",
      "|  >50K| 41|\n",
      "|  >50K| 45|\n",
      "|  >50K| 38|\n",
      "|  >50K| 52|\n",
      "|  >50K| 32|\n",
      "|  >50K| 51|\n",
      "|  >50K| 46|\n",
      "|  >50K| 45|\n",
      "|  >50K| 57|\n",
      "|  >50K| 34|\n",
      "|  >50K| 37|\n",
      "+------+---+\n",
      "only showing top 20 rows\n",
      "\n"
     ]
    }
   ],
   "source": [
    "df.filter(\"age > 25\").select('income','age').show()"
   ]
  },
  {
   "cell_type": "code",
   "execution_count": 9,
   "metadata": {},
   "outputs": [],
   "source": [
    "from  pyspark.sql.functions import format_number, col"
   ]
  },
  {
   "cell_type": "code",
   "execution_count": 10,
   "metadata": {},
   "outputs": [
    {
     "name": "stdout",
     "output_type": "stream",
     "text": [
      "+------------+------+\n",
      "|   education|income|\n",
      "+------------+------+\n",
      "|     HS-grad| <=50K|\n",
      "|     HS-grad| <=50K|\n",
      "|Some-college| <=50K|\n",
      "|     7th-8th| <=50K|\n",
      "|Some-college| <=50K|\n",
      "|     HS-grad| <=50K|\n",
      "|        10th| <=50K|\n",
      "|   Doctorate|  >50K|\n",
      "|     HS-grad| <=50K|\n",
      "|Some-college|  >50K|\n",
      "|   Doctorate|  >50K|\n",
      "| Prof-school|  >50K|\n",
      "|   Bachelors|  >50K|\n",
      "|     Masters|  >50K|\n",
      "|   Doctorate|  >50K|\n",
      "| Prof-school|  >50K|\n",
      "|        11th|  >50K|\n",
      "|     Masters|  >50K|\n",
      "|  Assoc-acdm|  >50K|\n",
      "|   Bachelors|  >50K|\n",
      "+------------+------+\n",
      "only showing top 20 rows\n",
      "\n"
     ]
    }
   ],
   "source": [
    "cols1 = ['education', 'income']\n",
    "df.select(cols1).show()"
   ]
  },
  {
   "cell_type": "code",
   "execution_count": 11,
   "metadata": {},
   "outputs": [
    {
     "name": "stdout",
     "output_type": "stream",
     "text": [
      "+---+----------------+------+------------+------------+-------------+-----------------+--------------+-----+------+-----------+-----------+------------+-------------+------+\n",
      "|age|       workclass|fnlwgt|   education|educationnum|maritalstatus|       occupation|  relationship| race|   sex|capitalgain|capitalloss|hoursperweek|nativecountry|income|\n",
      "+---+----------------+------+------------+------------+-------------+-----------------+--------------+-----+------+-----------+-----------+------------+-------------+------+\n",
      "| 90|         Private| 77053|     HS-grad|           9|      Widowed|             null| Not-in-family|White|Female|          0|       4356|          40|United-States| <=50K|\n",
      "| 82|         Private|132870|     HS-grad|           9|      Widowed|  Exec-managerial| Not-in-family|White|Female|          0|       4356|          18|United-States| <=50K|\n",
      "| 66|         Private|186061|Some-college|          10|      Widowed|             null|     Unmarried|Black|Female|          0|       4356|          40|United-States| <=50K|\n",
      "| 54|         Private|140359|     7th-8th|           4|     Divorced|Machine-op-inspct|     Unmarried|White|Female|          0|       3900|          40|United-States| <=50K|\n",
      "| 41|         Private|264663|Some-college|          10|    Separated|   Prof-specialty|     Own-child|White|Female|          0|       3900|          40|United-States| <=50K|\n",
      "| 34|         Private|216864|     HS-grad|           9|     Divorced|    Other-service|     Unmarried|White|Female|          0|       3770|          45|United-States| <=50K|\n",
      "| 74|       State-gov| 88638|   Doctorate|          16|Never-married|   Prof-specialty|Other-relative|White|Female|          0|       3683|          20|United-States|  >50K|\n",
      "| 68|     Federal-gov|422013|     HS-grad|           9|     Divorced|   Prof-specialty| Not-in-family|White|Female|          0|       3683|          40|United-States| <=50K|\n",
      "| 45|         Private|172274|   Doctorate|          16|     Divorced|   Prof-specialty|     Unmarried|Black|Female|          0|       3004|          35|United-States|  >50K|\n",
      "| 52|         Private|129177|   Bachelors|          13|      Widowed|    Other-service| Not-in-family|White|Female|          0|       2824|          20|United-States|  >50K|\n",
      "| 29|         Private| 77009|        11th|           7|    Separated|            Sales| Not-in-family|White|Female|          0|       2754|          42|United-States| <=50K|\n",
      "| 61|         Private| 29059|     HS-grad|           9|     Divorced|            Sales|     Unmarried|White|Female|          0|       2754|          25|United-States| <=50K|\n",
      "| 59|    Self-emp-inc|107287|        10th|           6|      Widowed|  Exec-managerial|     Unmarried|White|Female|          0|       2559|          50|United-States|  >50K|\n",
      "| 63|     Federal-gov| 39181|   Doctorate|          16|     Divorced|  Exec-managerial| Not-in-family|White|Female|          0|       2559|          60|United-States|  >50K|\n",
      "| 51|         Private|197163| Prof-school|          15|Never-married|   Prof-specialty| Not-in-family|White|Female|          0|       2559|          50|United-States|  >50K|\n",
      "| 37|Self-emp-not-inc|137527|   Doctorate|          16|Never-married|   Prof-specialty| Not-in-family|White|Female|          0|       2559|          60|United-States|  >50K|\n",
      "| 54|         Private|161691|     Masters|          14|     Divorced|   Prof-specialty| Not-in-family|White|Female|          0|       2559|          40|United-States|  >50K|\n",
      "| 43|         Private|115806|     Masters|          14|     Divorced|  Exec-managerial|     Unmarried|White|Female|          0|       2547|          40|United-States|  >50K|\n",
      "| 51|         Private|115066|Some-college|          10|     Divorced|     Adm-clerical|     Unmarried|White|Female|          0|       2547|          40|United-States|  >50K|\n",
      "| 43|         Private|289669|     Masters|          14|     Divorced|   Prof-specialty|     Unmarried|White|Female|          0|       2547|          40|United-States|  >50K|\n",
      "+---+----------------+------+------------+------------+-------------+-----------------+--------------+-----+------+-----------+-----------+------------+-------------+------+\n",
      "only showing top 20 rows\n",
      "\n"
     ]
    }
   ],
   "source": [
    "df.filter(df.sex == 'Female').show()"
   ]
  },
  {
   "cell_type": "code",
   "execution_count": 12,
   "metadata": {},
   "outputs": [
    {
     "name": "stdout",
     "output_type": "stream",
     "text": [
      "== Physical Plan ==\n",
      "*FileScan csv [age#0,workclass#1,fnlwgt#2,education#3,educationnum#4,maritalstatus#5,occupation#6,relationship#7,race#8,sex#9,capitalgain#10,capitalloss#11,hoursperweek#12,nativecountry#13,income#14] Batched: false, Format: CSV, Location: InMemoryFileIndex[file:/home/ubuntu/Adult-income-level/adult income.csv], PartitionFilters: [], PushedFilters: [], ReadSchema: struct<age:int,workclass:string,fnlwgt:int,education:string,educationnum:int,maritalstatus:string...\n"
     ]
    }
   ],
   "source": [
    "df.explain()"
   ]
  },
  {
   "cell_type": "code",
   "execution_count": 13,
   "metadata": {},
   "outputs": [
    {
     "name": "stdout",
     "output_type": "stream",
     "text": [
      "Total data points: 32561\n"
     ]
    }
   ],
   "source": [
    "print(\"Total data points:\", df.count())"
   ]
  },
  {
   "cell_type": "code",
   "execution_count": 14,
   "metadata": {},
   "outputs": [
    {
     "name": "stdout",
     "output_type": "stream",
     "text": [
      "+---+----------------+------+------------+------------+-------------+-----------------+--------------+-----+------+-----------+-----------+------------+-------------+------+\n",
      "|age|       workclass|fnlwgt|   education|educationnum|maritalstatus|       occupation|  relationship| race|   sex|capitalgain|capitalloss|hoursperweek|nativecountry|income|\n",
      "+---+----------------+------+------------+------------+-------------+-----------------+--------------+-----+------+-----------+-----------+------------+-------------+------+\n",
      "| 90|         Private| 77053|     HS-grad|           9|      Widowed|             null| Not-in-family|White|Female|          0|       4356|          40|United-States| <=50K|\n",
      "| 82|         Private|132870|     HS-grad|           9|      Widowed|  Exec-managerial| Not-in-family|White|Female|          0|       4356|          18|United-States| <=50K|\n",
      "| 66|         Private|186061|Some-college|          10|      Widowed|             null|     Unmarried|Black|Female|          0|       4356|          40|United-States| <=50K|\n",
      "| 54|         Private|140359|     7th-8th|           4|     Divorced|Machine-op-inspct|     Unmarried|White|Female|          0|       3900|          40|United-States| <=50K|\n",
      "| 41|         Private|264663|Some-college|          10|    Separated|   Prof-specialty|     Own-child|White|Female|          0|       3900|          40|United-States| <=50K|\n",
      "| 34|         Private|216864|     HS-grad|           9|     Divorced|    Other-service|     Unmarried|White|Female|          0|       3770|          45|United-States| <=50K|\n",
      "| 38|         Private|150601|        10th|           6|    Separated|     Adm-clerical|     Unmarried|White|  Male|          0|       3770|          40|United-States| <=50K|\n",
      "| 74|       State-gov| 88638|   Doctorate|          16|Never-married|   Prof-specialty|Other-relative|White|Female|          0|       3683|          20|United-States|  >50K|\n",
      "| 68|     Federal-gov|422013|     HS-grad|           9|     Divorced|   Prof-specialty| Not-in-family|White|Female|          0|       3683|          40|United-States| <=50K|\n",
      "| 45|         Private|172274|   Doctorate|          16|     Divorced|   Prof-specialty|     Unmarried|Black|Female|          0|       3004|          35|United-States|  >50K|\n",
      "| 38|Self-emp-not-inc|164526| Prof-school|          15|Never-married|   Prof-specialty| Not-in-family|White|  Male|          0|       2824|          45|United-States|  >50K|\n",
      "| 52|         Private|129177|   Bachelors|          13|      Widowed|    Other-service| Not-in-family|White|Female|          0|       2824|          20|United-States|  >50K|\n",
      "| 32|         Private|136204|     Masters|          14|    Separated|  Exec-managerial| Not-in-family|White|  Male|          0|       2824|          55|United-States|  >50K|\n",
      "| 51|            null|172175|   Doctorate|          16|Never-married|             null| Not-in-family|White|  Male|          0|       2824|          40|United-States|  >50K|\n",
      "| 46|         Private| 45363| Prof-school|          15|     Divorced|   Prof-specialty| Not-in-family|White|  Male|          0|       2824|          40|United-States|  >50K|\n",
      "| 45|         Private|172822|        11th|           7|     Divorced| Transport-moving| Not-in-family|White|  Male|          0|       2824|          76|United-States|  >50K|\n",
      "| 57|         Private|317847|     Masters|          14|     Divorced|  Exec-managerial| Not-in-family|White|  Male|          0|       2824|          50|United-States|  >50K|\n",
      "| 34|         Private|203034|   Bachelors|          13|    Separated|            Sales| Not-in-family|White|  Male|          0|       2824|          50|United-States|  >50K|\n",
      "| 37|         Private|188774|   Bachelors|          13|Never-married|  Exec-managerial| Not-in-family|White|  Male|          0|       2824|          40|United-States|  >50K|\n",
      "| 29|         Private| 77009|        11th|           7|    Separated|            Sales| Not-in-family|White|Female|          0|       2754|          42|United-States| <=50K|\n",
      "+---+----------------+------+------------+------------+-------------+-----------------+--------------+-----+------+-----------+-----------+------------+-------------+------+\n",
      "only showing top 20 rows\n",
      "\n",
      "Total data points: 31978\n"
     ]
    }
   ],
   "source": [
    "missing_field_df = df.na.drop(subset=\"nativecountry\")\n",
    "missing_field_df.show()\n",
    "print(\"Total data points:\", missing_field_df.count())"
   ]
  },
  {
   "cell_type": "code",
   "execution_count": 15,
   "metadata": {},
   "outputs": [
    {
     "name": "stdout",
     "output_type": "stream",
     "text": [
      "+---+----------------+------+------------+------------+-------------+-----------------+--------------+-----+------+-----------+-----------+------------+-------------+------+\n",
      "|age|       workclass|fnlwgt|   education|educationnum|maritalstatus|       occupation|  relationship| race|   sex|capitalgain|capitalloss|hoursperweek|nativecountry|income|\n",
      "+---+----------------+------+------------+------------+-------------+-----------------+--------------+-----+------+-----------+-----------+------------+-------------+------+\n",
      "| 90|         Private| 77053|     HS-grad|           9|      Widowed|             null| Not-in-family|White|Female|          0|       4356|          40|United-States| <=50K|\n",
      "| 82|         Private|132870|     HS-grad|           9|      Widowed|  Exec-managerial| Not-in-family|White|Female|          0|       4356|          18|United-States| <=50K|\n",
      "| 66|         Private|186061|Some-college|          10|      Widowed|             null|     Unmarried|Black|Female|          0|       4356|          40|United-States| <=50K|\n",
      "| 54|         Private|140359|     7th-8th|           4|     Divorced|Machine-op-inspct|     Unmarried|White|Female|          0|       3900|          40|United-States| <=50K|\n",
      "| 41|         Private|264663|Some-college|          10|    Separated|   Prof-specialty|     Own-child|White|Female|          0|       3900|          40|United-States| <=50K|\n",
      "| 34|         Private|216864|     HS-grad|           9|     Divorced|    Other-service|     Unmarried|White|Female|          0|       3770|          45|United-States| <=50K|\n",
      "| 38|         Private|150601|        10th|           6|    Separated|     Adm-clerical|     Unmarried|White|  Male|          0|       3770|          40|United-States| <=50K|\n",
      "| 74|       State-gov| 88638|   Doctorate|          16|Never-married|   Prof-specialty|Other-relative|White|Female|          0|       3683|          20|United-States|  >50K|\n",
      "| 68|     Federal-gov|422013|     HS-grad|           9|     Divorced|   Prof-specialty| Not-in-family|White|Female|          0|       3683|          40|United-States| <=50K|\n",
      "| 45|         Private|172274|   Doctorate|          16|     Divorced|   Prof-specialty|     Unmarried|Black|Female|          0|       3004|          35|United-States|  >50K|\n",
      "| 38|Self-emp-not-inc|164526| Prof-school|          15|Never-married|   Prof-specialty| Not-in-family|White|  Male|          0|       2824|          45|United-States|  >50K|\n",
      "| 52|         Private|129177|   Bachelors|          13|      Widowed|    Other-service| Not-in-family|White|Female|          0|       2824|          20|United-States|  >50K|\n",
      "| 32|         Private|136204|     Masters|          14|    Separated|  Exec-managerial| Not-in-family|White|  Male|          0|       2824|          55|United-States|  >50K|\n",
      "| 46|         Private| 45363| Prof-school|          15|     Divorced|   Prof-specialty| Not-in-family|White|  Male|          0|       2824|          40|United-States|  >50K|\n",
      "| 45|         Private|172822|        11th|           7|     Divorced| Transport-moving| Not-in-family|White|  Male|          0|       2824|          76|United-States|  >50K|\n",
      "| 57|         Private|317847|     Masters|          14|     Divorced|  Exec-managerial| Not-in-family|White|  Male|          0|       2824|          50|United-States|  >50K|\n",
      "| 34|         Private|203034|   Bachelors|          13|    Separated|            Sales| Not-in-family|White|  Male|          0|       2824|          50|United-States|  >50K|\n",
      "| 37|         Private|188774|   Bachelors|          13|Never-married|  Exec-managerial| Not-in-family|White|  Male|          0|       2824|          40|United-States|  >50K|\n",
      "| 29|         Private| 77009|        11th|           7|    Separated|            Sales| Not-in-family|White|Female|          0|       2754|          42|United-States| <=50K|\n",
      "| 61|         Private| 29059|     HS-grad|           9|     Divorced|            Sales|     Unmarried|White|Female|          0|       2754|          25|United-States| <=50K|\n",
      "+---+----------------+------+------------+------------+-------------+-----------------+--------------+-----+------+-----------+-----------+------------+-------------+------+\n",
      "only showing top 20 rows\n",
      "\n",
      "Total data points: 30171\n"
     ]
    }
   ],
   "source": [
    "clean_df = missing_field_df.na.drop(subset=\"workclass\")\n",
    "clean_df.show()\n",
    "print(\"Total data points:\", clean_df.count())"
   ]
  },
  {
   "cell_type": "code",
   "execution_count": 16,
   "metadata": {},
   "outputs": [
    {
     "name": "stdout",
     "output_type": "stream",
     "text": [
      "+---+----------------+------+------------+------------+------------------+-----------------+--------------+-----+------+-----------+-----------+------------+-------------+------+\n",
      "|age|       workclass|fnlwgt|   education|educationnum|     maritalstatus|       occupation|  relationship| race|   sex|capitalgain|capitalloss|hoursperweek|nativecountry|income|\n",
      "+---+----------------+------+------------+------------+------------------+-----------------+--------------+-----+------+-----------+-----------+------------+-------------+------+\n",
      "| 82|         Private|132870|     HS-grad|           9|           Widowed|  Exec-managerial| Not-in-family|White|Female|          0|       4356|          18|United-States| <=50K|\n",
      "| 54|         Private|140359|     7th-8th|           4|          Divorced|Machine-op-inspct|     Unmarried|White|Female|          0|       3900|          40|United-States| <=50K|\n",
      "| 41|         Private|264663|Some-college|          10|         Separated|   Prof-specialty|     Own-child|White|Female|          0|       3900|          40|United-States| <=50K|\n",
      "| 34|         Private|216864|     HS-grad|           9|          Divorced|    Other-service|     Unmarried|White|Female|          0|       3770|          45|United-States| <=50K|\n",
      "| 38|         Private|150601|        10th|           6|         Separated|     Adm-clerical|     Unmarried|White|  Male|          0|       3770|          40|United-States| <=50K|\n",
      "| 74|       State-gov| 88638|   Doctorate|          16|     Never-married|   Prof-specialty|Other-relative|White|Female|          0|       3683|          20|United-States|  >50K|\n",
      "| 68|     Federal-gov|422013|     HS-grad|           9|          Divorced|   Prof-specialty| Not-in-family|White|Female|          0|       3683|          40|United-States| <=50K|\n",
      "| 45|         Private|172274|   Doctorate|          16|          Divorced|   Prof-specialty|     Unmarried|Black|Female|          0|       3004|          35|United-States|  >50K|\n",
      "| 38|Self-emp-not-inc|164526| Prof-school|          15|     Never-married|   Prof-specialty| Not-in-family|White|  Male|          0|       2824|          45|United-States|  >50K|\n",
      "| 52|         Private|129177|   Bachelors|          13|           Widowed|    Other-service| Not-in-family|White|Female|          0|       2824|          20|United-States|  >50K|\n",
      "| 32|         Private|136204|     Masters|          14|         Separated|  Exec-managerial| Not-in-family|White|  Male|          0|       2824|          55|United-States|  >50K|\n",
      "| 46|         Private| 45363| Prof-school|          15|          Divorced|   Prof-specialty| Not-in-family|White|  Male|          0|       2824|          40|United-States|  >50K|\n",
      "| 45|         Private|172822|        11th|           7|          Divorced| Transport-moving| Not-in-family|White|  Male|          0|       2824|          76|United-States|  >50K|\n",
      "| 57|         Private|317847|     Masters|          14|          Divorced|  Exec-managerial| Not-in-family|White|  Male|          0|       2824|          50|United-States|  >50K|\n",
      "| 34|         Private|203034|   Bachelors|          13|         Separated|            Sales| Not-in-family|White|  Male|          0|       2824|          50|United-States|  >50K|\n",
      "| 37|         Private|188774|   Bachelors|          13|     Never-married|  Exec-managerial| Not-in-family|White|  Male|          0|       2824|          40|United-States|  >50K|\n",
      "| 29|         Private| 77009|        11th|           7|         Separated|            Sales| Not-in-family|White|Female|          0|       2754|          42|United-States| <=50K|\n",
      "| 61|         Private| 29059|     HS-grad|           9|          Divorced|            Sales|     Unmarried|White|Female|          0|       2754|          25|United-States| <=50K|\n",
      "| 51|         Private|153870|Some-college|          10|Married-civ-spouse| Transport-moving|       Husband|White|  Male|          0|       2603|          40|United-States| <=50K|\n",
      "| 21|         Private| 34310|   Assoc-voc|          11|Married-civ-spouse|     Craft-repair|       Husband|White|  Male|          0|       2603|          40|United-States| <=50K|\n",
      "+---+----------------+------+------------+------------+------------------+-----------------+--------------+-----+------+-----------+-----------+------------+-------------+------+\n",
      "only showing top 20 rows\n",
      "\n",
      "Total data points: 30162\n"
     ]
    }
   ],
   "source": [
    "df = clean_df.na.drop(subset=\"occupation\")\n",
    "df.show()\n",
    "print(\"Total data points:\", df.count())"
   ]
  },
  {
   "cell_type": "code",
   "execution_count": 17,
   "metadata": {},
   "outputs": [
    {
     "name": "stdout",
     "output_type": "stream",
     "text": [
      "Total data points: 30162\n"
     ]
    }
   ],
   "source": [
    "print(\"Total data points:\", df.count())"
   ]
  },
  {
   "cell_type": "code",
   "execution_count": 22,
   "metadata": {},
   "outputs": [
    {
     "data": {
      "text/plain": [
       "([<matplotlib.axis.XTick at 0x7f99bdc59ac8>,\n",
       "  <matplotlib.axis.XTick at 0x7f99edcff588>],\n",
       " <a list of 2 Text xticklabel objects>)"
      ]
     },
     "execution_count": 22,
     "metadata": {},
     "output_type": "execute_result"
    },
    {
     "data": {
      "image/png": "[encoded data removed]",
      "text/plain": [
       "<Figure size 432x288 with 1 Axes>"
      ]
     },
     "metadata": {},
     "output_type": "display_data"
    }
   ],
   "source": [
    "from matplotlib import pyplot as plt\n",
    "import numpy as np\n",
    "\n",
    "%matplotlib inline\n",
    " \n",
    "responses = df.groupBy('income').count().collect()\n",
    "categories = [i[0] for i in responses]\n",
    "counts = [i[1] for i in responses]\n",
    " \n",
    "ind = np.array(range(len(categories)))\n",
    "width = 0.35\n",
    "plt.bar(ind, counts, width=width, color='r')\n",
    " \n",
    "plt.ylabel('counts')\n",
    "plt.title('Response distribution')\n",
    "plt.xticks(ind + width/2., categories)"
   ]
  },
  {
   "cell_type": "code",
   "execution_count": 23,
   "metadata": {},
   "outputs": [
    {
     "data": {
      "text/plain": [
       "([<matplotlib.axis.XTick at 0x7f99bbbd05c0>,\n",
       "  <matplotlib.axis.XTick at 0x7f99bbbceeb8>],\n",
       " <a list of 2 Text xticklabel objects>)"
      ]
     },
     "execution_count": 23,
     "metadata": {},
     "output_type": "execute_result"
    },
    {
     "data": {
      "image/png": "[encoded data removed]",
      "text/plain": [
       "<Figure size 432x288 with 1 Axes>"
      ]
     },
     "metadata": {},
     "output_type": "display_data"
    }
   ],
   "source": [
    "from matplotlib import pyplot as plt\n",
    "import numpy as np\n",
    "\n",
    "%matplotlib inline\n",
    " \n",
    "responses = df.groupBy('sex').count().collect()\n",
    "categories = [i[0] for i in responses]\n",
    "counts = [i[1] for i in responses]\n",
    " \n",
    "ind = np.array(range(len(categories)))\n",
    "width = 0.35\n",
    "plt.bar(ind, counts, width=width, color='r')\n",
    " \n",
    "plt.ylabel('counts')\n",
    "plt.title('Response distribution')\n",
    "plt.xticks(ind + width/2., categories)"
   ]
  },
  {
   "cell_type": "code",
   "execution_count": 100,
   "metadata": {},
   "outputs": [
    {
     "name": "stderr",
     "output_type": "stream",
     "text": [
      "/home/ubuntu/.local/lib/python3.5/site-packages/ipykernel_launcher.py:2: FutureWarning: pandas.scatter_matrix is deprecated, use pandas.plotting.scatter_matrix instead\n",
      "  \n"
     ]
    },
    {
     "data": {
      "image/png": "[encoded data removed]",
      "text/plain": [
       "<Figure size 576x576 with 36 Axes>"
      ]
     },
     "metadata": {},
     "output_type": "display_data"
    }
   ],
   "source": [
    "numeric_data = df.select(numeric_features).toPandas()\n",
    "axs = pd.scatter_matrix(numeric_data, figsize=(8, 8));\n",
    "n = len(numeric_data.columns)\n",
    "for i in range(n):\n",
    "    v = axs[i, 0]\n",
    "    v.yaxis.label.set_rotation(0)\n",
    "    v.yaxis.label.set_ha('right')\n",
    "    v.set_yticks(())\n",
    "    h = axs[n-1, i]\n",
    "    h.xaxis.label.set_rotation(90)\n",
    "    h.set_xticks(())"
   ]
  },
  {
   "cell_type": "code",
   "execution_count": 24,
   "metadata": {},
   "outputs": [
    {
     "name": "stdout",
     "output_type": "stream",
     "text": [
      "+-------+------------------+------------------+-----------------+\n",
      "|summary|               age|      educationnum|     hoursperweek|\n",
      "+-------+------------------+------------------+-----------------+\n",
      "|  count|             30162|             30162|            30162|\n",
      "|   mean|38.437901995888865| 10.12131158411246|40.93123798156621|\n",
      "| stddev|13.134664776856031|2.5499949188567363|11.97998422927492|\n",
      "|    min|                17|                 1|                1|\n",
      "|    max|                90|                16|               99|\n",
      "+-------+------------------+------------------+-----------------+\n",
      "\n"
     ]
    }
   ],
   "source": [
    "df.select('age', 'educationnum', 'hoursperweek').describe().show()"
   ]
  },
  {
   "cell_type": "code",
   "execution_count": 25,
   "metadata": {},
   "outputs": [
    {
     "name": "stdout",
     "output_type": "stream",
     "text": [
      "+------+---+\n",
      "|income|age|\n",
      "+------+---+\n",
      "| <=50K| 54|\n",
      "| <=50K| 41|\n",
      "| <=50K| 34|\n",
      "| <=50K| 38|\n",
      "| <=50K| 68|\n",
      "|  >50K| 45|\n",
      "|  >50K| 38|\n",
      "|  >50K| 32|\n",
      "|  >50K| 46|\n",
      "|  >50K| 45|\n",
      "|  >50K| 57|\n",
      "|  >50K| 34|\n",
      "|  >50K| 37|\n",
      "| <=50K| 29|\n",
      "| <=50K| 51|\n",
      "| <=50K| 21|\n",
      "| <=50K| 33|\n",
      "| <=50K| 49|\n",
      "|  >50K| 37|\n",
      "|  >50K| 38|\n",
      "+------+---+\n",
      "only showing top 20 rows\n",
      "\n"
     ]
    }
   ],
   "source": [
    "\n",
    "df.filter(\"hoursperweek > 25\").select('income','age').show()"
   ]
  },
  {
   "cell_type": "code",
   "execution_count": 26,
   "metadata": {},
   "outputs": [
    {
     "name": "stdout",
     "output_type": "stream",
     "text": [
      "+------+-----------------+------------------+------------------+------------------+------------------+-----------------+\n",
      "|income|         avg(age)|       avg(fnlwgt)| avg(educationnum)|  avg(capitalgain)|  avg(capitalloss)|avg(hoursperweek)|\n",
      "+------+-----------------+------------------+------------------+------------------+------------------+-----------------+\n",
      "| <=50K|36.60806038668668|190338.64672905448| 9.629116270857244| 148.8938377328507| 53.44800035313852|39.34859186015715|\n",
      "|  >50K|43.95911028236548|188149.96217368142|11.606419818859882|3937.6798082045816|193.75066595631327|45.70657964837507|\n",
      "+------+-----------------+------------------+------------------+------------------+------------------+-----------------+\n",
      "\n"
     ]
    }
   ],
   "source": [
    "df.groupBy('income').mean().show()"
   ]
  },
  {
   "cell_type": "code",
   "execution_count": 27,
   "metadata": {},
   "outputs": [
    {
     "name": "stdout",
     "output_type": "stream",
     "text": [
      "Sorted by Age\n",
      "+------+-----------------+------------------+------------------+------------------+------------------+-----------------+\n",
      "|income|         avg(age)|       avg(fnlwgt)| avg(educationnum)|  avg(capitalgain)|  avg(capitalloss)|avg(hoursperweek)|\n",
      "+------+-----------------+------------------+------------------+------------------+------------------+-----------------+\n",
      "| <=50K|36.60806038668668|190338.64672905448| 9.629116270857244| 148.8938377328507| 53.44800035313852|39.34859186015715|\n",
      "|  >50K|43.95911028236548|188149.96217368142|11.606419818859882|3937.6798082045816|193.75066595631327|45.70657964837507|\n",
      "+------+-----------------+------------------+------------------+------------------+------------------+-----------------+\n",
      "\n",
      "Sorted by educationnum\n",
      "+------+-----------------+------------------+------------------+------------------+------------------+-----------------+\n",
      "|income|         avg(age)|       avg(fnlwgt)| avg(educationnum)|  avg(capitalgain)|  avg(capitalloss)|avg(hoursperweek)|\n",
      "+------+-----------------+------------------+------------------+------------------+------------------+-----------------+\n",
      "| <=50K|36.60806038668668|190338.64672905448| 9.629116270857244| 148.8938377328507| 53.44800035313852|39.34859186015715|\n",
      "|  >50K|43.95911028236548|188149.96217368142|11.606419818859882|3937.6798082045816|193.75066595631327|45.70657964837507|\n",
      "+------+-----------------+------------------+------------------+------------------+------------------+-----------------+\n",
      "\n"
     ]
    }
   ],
   "source": [
    "\n",
    "group_income_df = df.groupBy('income').mean()\n",
    "print(\"Sorted by Age\")\n",
    "group_income_df.orderBy('avg(age)').show()\n",
    "\n",
    "# Let's see what this looks like in one line.\n",
    "print(\"Sorted by educationnum\")\n",
    "df.groupBy('income').mean().orderBy('avg(educationnum)').show()"
   ]
  },
  {
   "cell_type": "code",
   "execution_count": 28,
   "metadata": {},
   "outputs": [
    {
     "name": "stdout",
     "output_type": "stream",
     "text": [
      "+------+--------------------------+-----------------------------------+-----------------------------------+\n",
      "|income|format_number(avg(age), 2)|format_number(avg(educationnum), 2)|format_number(avg(hoursperweek), 2)|\n",
      "+------+--------------------------+-----------------------------------+-----------------------------------+\n",
      "| <=50K|                     36.61|                               9.63|                              39.35|\n",
      "|  >50K|                     43.96|                              11.61|                              45.71|\n",
      "+------+--------------------------+-----------------------------------+-----------------------------------+\n",
      "\n",
      "+------------+-----------+-----------------+----------------------+\n",
      "|income level|Average Age|Average education|Average hours-per-week|\n",
      "+------------+-----------+-----------------+----------------------+\n",
      "|       <=50K|      36.61|             9.63|                 39.35|\n",
      "|        >50K|      43.96|            11.61|                 45.71|\n",
      "+------------+-----------+-----------------+----------------------+\n",
      "\n"
     ]
    }
   ],
   "source": [
    "from pyspark.sql.functions import format_number, col\n",
    "\n",
    "group_income_df = df.groupBy('income').mean()\n",
    "\n",
    "group_income_df = group_income_df.select('income',\n",
    "                                   format_number('avg(age)',2),\n",
    "                                   format_number('avg(educationnum)',2),\n",
    "                                   format_number('avg(hoursperweek)',2))\n",
    "group_income_df.show()\n",
    "\n",
    "# But now the column names look quite unprofessional. We can assign an alias to rename each of them.\n",
    "group_income_df = group_income_df.select(col('income').alias('income level'),\n",
    "                                   col('format_number(avg(age), 2)').alias('Average Age'),\n",
    "                                   col('format_number(avg(educationnum), 2)').alias('Average education'),\n",
    "                                   col('format_number(avg(hoursperweek), 2)').alias('Average hours-per-week'))\n",
    "group_income_df.show()\n",
    "\n"
   ]
  },
  {
   "cell_type": "code",
   "execution_count": 29,
   "metadata": {},
   "outputs": [
    {
     "data": {
      "text/html": [
       "<div>\n",
       "<style scoped>\n",
       "    .dataframe tbody tr th:only-of-type {\n",
       "        vertical-align: middle;\n",
       "    }\n",
       "\n",
       "    .dataframe tbody tr th {\n",
       "        vertical-align: top;\n",
       "    }\n",
       "\n",
       "    .dataframe thead th {\n",
       "        text-align: right;\n",
       "    }\n",
       "</style>\n",
       "<table border=\"1\" class=\"dataframe\">\n",
       "  <thead>\n",
       "    <tr style=\"text-align: right;\">\n",
       "      <th></th>\n",
       "      <th>0</th>\n",
       "      <th>1</th>\n",
       "      <th>2</th>\n",
       "      <th>3</th>\n",
       "      <th>4</th>\n",
       "    </tr>\n",
       "  </thead>\n",
       "  <tbody>\n",
       "    <tr>\n",
       "      <th>age</th>\n",
       "      <td>82</td>\n",
       "      <td>54</td>\n",
       "      <td>41</td>\n",
       "      <td>34</td>\n",
       "      <td>38</td>\n",
       "    </tr>\n",
       "    <tr>\n",
       "      <th>workclass</th>\n",
       "      <td>Private</td>\n",
       "      <td>Private</td>\n",
       "      <td>Private</td>\n",
       "      <td>Private</td>\n",
       "      <td>Private</td>\n",
       "    </tr>\n",
       "    <tr>\n",
       "      <th>fnlwgt</th>\n",
       "      <td>132870</td>\n",
       "      <td>140359</td>\n",
       "      <td>264663</td>\n",
       "      <td>216864</td>\n",
       "      <td>150601</td>\n",
       "    </tr>\n",
       "    <tr>\n",
       "      <th>education</th>\n",
       "      <td>HS-grad</td>\n",
       "      <td>7th-8th</td>\n",
       "      <td>Some-college</td>\n",
       "      <td>HS-grad</td>\n",
       "      <td>10th</td>\n",
       "    </tr>\n",
       "    <tr>\n",
       "      <th>educationnum</th>\n",
       "      <td>9</td>\n",
       "      <td>4</td>\n",
       "      <td>10</td>\n",
       "      <td>9</td>\n",
       "      <td>6</td>\n",
       "    </tr>\n",
       "    <tr>\n",
       "      <th>maritalstatus</th>\n",
       "      <td>Widowed</td>\n",
       "      <td>Divorced</td>\n",
       "      <td>Separated</td>\n",
       "      <td>Divorced</td>\n",
       "      <td>Separated</td>\n",
       "    </tr>\n",
       "    <tr>\n",
       "      <th>occupation</th>\n",
       "      <td>Exec-managerial</td>\n",
       "      <td>Machine-op-inspct</td>\n",
       "      <td>Prof-specialty</td>\n",
       "      <td>Other-service</td>\n",
       "      <td>Adm-clerical</td>\n",
       "    </tr>\n",
       "    <tr>\n",
       "      <th>relationship</th>\n",
       "      <td>Not-in-family</td>\n",
       "      <td>Unmarried</td>\n",
       "      <td>Own-child</td>\n",
       "      <td>Unmarried</td>\n",
       "      <td>Unmarried</td>\n",
       "    </tr>\n",
       "    <tr>\n",
       "      <th>race</th>\n",
       "      <td>White</td>\n",
       "      <td>White</td>\n",
       "      <td>White</td>\n",
       "      <td>White</td>\n",
       "      <td>White</td>\n",
       "    </tr>\n",
       "    <tr>\n",
       "      <th>sex</th>\n",
       "      <td>Female</td>\n",
       "      <td>Female</td>\n",
       "      <td>Female</td>\n",
       "      <td>Female</td>\n",
       "      <td>Male</td>\n",
       "    </tr>\n",
       "    <tr>\n",
       "      <th>capitalgain</th>\n",
       "      <td>0</td>\n",
       "      <td>0</td>\n",
       "      <td>0</td>\n",
       "      <td>0</td>\n",
       "      <td>0</td>\n",
       "    </tr>\n",
       "    <tr>\n",
       "      <th>capitalloss</th>\n",
       "      <td>4356</td>\n",
       "      <td>3900</td>\n",
       "      <td>3900</td>\n",
       "      <td>3770</td>\n",
       "      <td>3770</td>\n",
       "    </tr>\n",
       "    <tr>\n",
       "      <th>hoursperweek</th>\n",
       "      <td>18</td>\n",
       "      <td>40</td>\n",
       "      <td>40</td>\n",
       "      <td>45</td>\n",
       "      <td>40</td>\n",
       "    </tr>\n",
       "    <tr>\n",
       "      <th>nativecountry</th>\n",
       "      <td>United-States</td>\n",
       "      <td>United-States</td>\n",
       "      <td>United-States</td>\n",
       "      <td>United-States</td>\n",
       "      <td>United-States</td>\n",
       "    </tr>\n",
       "    <tr>\n",
       "      <th>income</th>\n",
       "      <td>&lt;=50K</td>\n",
       "      <td>&lt;=50K</td>\n",
       "      <td>&lt;=50K</td>\n",
       "      <td>&lt;=50K</td>\n",
       "      <td>&lt;=50K</td>\n",
       "    </tr>\n",
       "  </tbody>\n",
       "</table>\n",
       "</div>"
      ],
      "text/plain": [
       "                             0                  1               2  \\\n",
       "age                         82                 54              41   \n",
       "workclass              Private            Private         Private   \n",
       "fnlwgt                  132870             140359          264663   \n",
       "education              HS-grad            7th-8th    Some-college   \n",
       "educationnum                 9                  4              10   \n",
       "maritalstatus          Widowed           Divorced       Separated   \n",
       "occupation     Exec-managerial  Machine-op-inspct  Prof-specialty   \n",
       "relationship     Not-in-family          Unmarried       Own-child   \n",
       "race                     White              White           White   \n",
       "sex                     Female             Female          Female   \n",
       "capitalgain                  0                  0               0   \n",
       "capitalloss               4356               3900            3900   \n",
       "hoursperweek                18                 40              40   \n",
       "nativecountry    United-States      United-States   United-States   \n",
       "income                   <=50K              <=50K           <=50K   \n",
       "\n",
       "                           3              4  \n",
       "age                       34             38  \n",
       "workclass            Private        Private  \n",
       "fnlwgt                216864         150601  \n",
       "education            HS-grad           10th  \n",
       "educationnum               9              6  \n",
       "maritalstatus       Divorced      Separated  \n",
       "occupation     Other-service   Adm-clerical  \n",
       "relationship       Unmarried      Unmarried  \n",
       "race                   White          White  \n",
       "sex                   Female           Male  \n",
       "capitalgain                0              0  \n",
       "capitalloss             3770           3770  \n",
       "hoursperweek              45             40  \n",
       "nativecountry  United-States  United-States  \n",
       "income                 <=50K          <=50K  "
      ]
     },
     "execution_count": 29,
     "metadata": {},
     "output_type": "execute_result"
    }
   ],
   "source": [
    "# To visualise the first five columns, simply add transpose. \n",
    "pd.DataFrame(df.take(5), columns=df.columns).transpose()"
   ]
  },
  {
   "cell_type": "code",
   "execution_count": 30,
   "metadata": {},
   "outputs": [
    {
     "data": {
      "text/html": [
       "<div>\n",
       "<style scoped>\n",
       "    .dataframe tbody tr th:only-of-type {\n",
       "        vertical-align: middle;\n",
       "    }\n",
       "\n",
       "    .dataframe tbody tr th {\n",
       "        vertical-align: top;\n",
       "    }\n",
       "\n",
       "    .dataframe thead th {\n",
       "        text-align: right;\n",
       "    }\n",
       "</style>\n",
       "<table border=\"1\" class=\"dataframe\">\n",
       "  <thead>\n",
       "    <tr style=\"text-align: right;\">\n",
       "      <th></th>\n",
       "      <th>income</th>\n",
       "      <th>count</th>\n",
       "    </tr>\n",
       "  </thead>\n",
       "  <tbody>\n",
       "    <tr>\n",
       "      <th>0</th>\n",
       "      <td>&lt;=50K</td>\n",
       "      <td>22654</td>\n",
       "    </tr>\n",
       "    <tr>\n",
       "      <th>1</th>\n",
       "      <td>&gt;50K</td>\n",
       "      <td>7508</td>\n",
       "    </tr>\n",
       "  </tbody>\n",
       "</table>\n",
       "</div>"
      ],
      "text/plain": [
       "  income  count\n",
       "0  <=50K  22654\n",
       "1   >50K   7508"
      ]
     },
     "execution_count": 30,
     "metadata": {},
     "output_type": "execute_result"
    }
   ],
   "source": [
    "df.groupby('income').count().toPandas()"
   ]
  },
  {
   "cell_type": "code",
   "execution_count": 31,
   "metadata": {},
   "outputs": [],
   "source": [
    "numeric_features = [t[0] for t in df.dtypes if t[1] == 'int']"
   ]
  },
  {
   "cell_type": "code",
   "execution_count": 32,
   "metadata": {},
   "outputs": [
    {
     "data": {
      "text/html": [
       "<div>\n",
       "<style scoped>\n",
       "    .dataframe tbody tr th:only-of-type {\n",
       "        vertical-align: middle;\n",
       "    }\n",
       "\n",
       "    .dataframe tbody tr th {\n",
       "        vertical-align: top;\n",
       "    }\n",
       "\n",
       "    .dataframe thead th {\n",
       "        text-align: right;\n",
       "    }\n",
       "</style>\n",
       "<table border=\"1\" class=\"dataframe\">\n",
       "  <thead>\n",
       "    <tr style=\"text-align: right;\">\n",
       "      <th></th>\n",
       "      <th>0</th>\n",
       "      <th>1</th>\n",
       "      <th>2</th>\n",
       "      <th>3</th>\n",
       "      <th>4</th>\n",
       "    </tr>\n",
       "  </thead>\n",
       "  <tbody>\n",
       "    <tr>\n",
       "      <th>summary</th>\n",
       "      <td>count</td>\n",
       "      <td>mean</td>\n",
       "      <td>stddev</td>\n",
       "      <td>min</td>\n",
       "      <td>max</td>\n",
       "    </tr>\n",
       "    <tr>\n",
       "      <th>age</th>\n",
       "      <td>30162</td>\n",
       "      <td>38.437901995888865</td>\n",
       "      <td>13.134664776856031</td>\n",
       "      <td>17</td>\n",
       "      <td>90</td>\n",
       "    </tr>\n",
       "    <tr>\n",
       "      <th>fnlwgt</th>\n",
       "      <td>30162</td>\n",
       "      <td>189793.83393011073</td>\n",
       "      <td>105652.9715285195</td>\n",
       "      <td>13769</td>\n",
       "      <td>1484705</td>\n",
       "    </tr>\n",
       "    <tr>\n",
       "      <th>educationnum</th>\n",
       "      <td>30162</td>\n",
       "      <td>10.12131158411246</td>\n",
       "      <td>2.5499949188567363</td>\n",
       "      <td>1</td>\n",
       "      <td>16</td>\n",
       "    </tr>\n",
       "    <tr>\n",
       "      <th>capitalgain</th>\n",
       "      <td>30162</td>\n",
       "      <td>1092.0078575691268</td>\n",
       "      <td>7406.346496683517</td>\n",
       "      <td>0</td>\n",
       "      <td>99999</td>\n",
       "    </tr>\n",
       "    <tr>\n",
       "      <th>capitalloss</th>\n",
       "      <td>30162</td>\n",
       "      <td>88.37248856176646</td>\n",
       "      <td>404.2983704863763</td>\n",
       "      <td>0</td>\n",
       "      <td>4356</td>\n",
       "    </tr>\n",
       "    <tr>\n",
       "      <th>hoursperweek</th>\n",
       "      <td>30162</td>\n",
       "      <td>40.93123798156621</td>\n",
       "      <td>11.97998422927492</td>\n",
       "      <td>1</td>\n",
       "      <td>99</td>\n",
       "    </tr>\n",
       "  </tbody>\n",
       "</table>\n",
       "</div>"
      ],
      "text/plain": [
       "                  0                   1                   2      3        4\n",
       "summary       count                mean              stddev    min      max\n",
       "age           30162  38.437901995888865  13.134664776856031     17       90\n",
       "fnlwgt        30162  189793.83393011073   105652.9715285195  13769  1484705\n",
       "educationnum  30162   10.12131158411246  2.5499949188567363      1       16\n",
       "capitalgain   30162  1092.0078575691268   7406.346496683517      0    99999\n",
       "capitalloss   30162   88.37248856176646   404.2983704863763      0     4356\n",
       "hoursperweek  30162   40.93123798156621   11.97998422927492      1       99"
      ]
     },
     "execution_count": 32,
     "metadata": {},
     "output_type": "execute_result"
    }
   ],
   "source": [
    "df.select(numeric_features).describe().toPandas().transpose()"
   ]
  },
  {
   "cell_type": "code",
   "execution_count": 33,
   "metadata": {
    "scrolled": true
   },
   "outputs": [
    {
     "data": {
      "text/html": [
       "<div>\n",
       "<style scoped>\n",
       "    .dataframe tbody tr th:only-of-type {\n",
       "        vertical-align: middle;\n",
       "    }\n",
       "\n",
       "    .dataframe tbody tr th {\n",
       "        vertical-align: top;\n",
       "    }\n",
       "\n",
       "    .dataframe thead th {\n",
       "        text-align: right;\n",
       "    }\n",
       "</style>\n",
       "<table border=\"1\" class=\"dataframe\">\n",
       "  <thead>\n",
       "    <tr style=\"text-align: right;\">\n",
       "      <th></th>\n",
       "      <th>age</th>\n",
       "      <th>workclass</th>\n",
       "      <th>fnlwgt</th>\n",
       "      <th>education</th>\n",
       "      <th>educationnum</th>\n",
       "      <th>maritalstatus</th>\n",
       "      <th>occupation</th>\n",
       "      <th>relationship</th>\n",
       "      <th>race</th>\n",
       "      <th>sex</th>\n",
       "      <th>capitalgain</th>\n",
       "      <th>capitalloss</th>\n",
       "      <th>hoursperweek</th>\n",
       "      <th>nativecountry</th>\n",
       "      <th>income</th>\n",
       "    </tr>\n",
       "  </thead>\n",
       "  <tbody>\n",
       "    <tr>\n",
       "      <th>0</th>\n",
       "      <td>82</td>\n",
       "      <td>Private</td>\n",
       "      <td>132870</td>\n",
       "      <td>HS-grad</td>\n",
       "      <td>9</td>\n",
       "      <td>Widowed</td>\n",
       "      <td>Exec-managerial</td>\n",
       "      <td>Not-in-family</td>\n",
       "      <td>White</td>\n",
       "      <td>Female</td>\n",
       "      <td>0</td>\n",
       "      <td>4356</td>\n",
       "      <td>18</td>\n",
       "      <td>United-States</td>\n",
       "      <td>&lt;=50K</td>\n",
       "    </tr>\n",
       "    <tr>\n",
       "      <th>1</th>\n",
       "      <td>54</td>\n",
       "      <td>Private</td>\n",
       "      <td>140359</td>\n",
       "      <td>7th-8th</td>\n",
       "      <td>4</td>\n",
       "      <td>Divorced</td>\n",
       "      <td>Machine-op-inspct</td>\n",
       "      <td>Unmarried</td>\n",
       "      <td>White</td>\n",
       "      <td>Female</td>\n",
       "      <td>0</td>\n",
       "      <td>3900</td>\n",
       "      <td>40</td>\n",
       "      <td>United-States</td>\n",
       "      <td>&lt;=50K</td>\n",
       "    </tr>\n",
       "    <tr>\n",
       "      <th>2</th>\n",
       "      <td>41</td>\n",
       "      <td>Private</td>\n",
       "      <td>264663</td>\n",
       "      <td>Some-college</td>\n",
       "      <td>10</td>\n",
       "      <td>Separated</td>\n",
       "      <td>Prof-specialty</td>\n",
       "      <td>Own-child</td>\n",
       "      <td>White</td>\n",
       "      <td>Female</td>\n",
       "      <td>0</td>\n",
       "      <td>3900</td>\n",
       "      <td>40</td>\n",
       "      <td>United-States</td>\n",
       "      <td>&lt;=50K</td>\n",
       "    </tr>\n",
       "    <tr>\n",
       "      <th>3</th>\n",
       "      <td>34</td>\n",
       "      <td>Private</td>\n",
       "      <td>216864</td>\n",
       "      <td>HS-grad</td>\n",
       "      <td>9</td>\n",
       "      <td>Divorced</td>\n",
       "      <td>Other-service</td>\n",
       "      <td>Unmarried</td>\n",
       "      <td>White</td>\n",
       "      <td>Female</td>\n",
       "      <td>0</td>\n",
       "      <td>3770</td>\n",
       "      <td>45</td>\n",
       "      <td>United-States</td>\n",
       "      <td>&lt;=50K</td>\n",
       "    </tr>\n",
       "    <tr>\n",
       "      <th>4</th>\n",
       "      <td>38</td>\n",
       "      <td>Private</td>\n",
       "      <td>150601</td>\n",
       "      <td>10th</td>\n",
       "      <td>6</td>\n",
       "      <td>Separated</td>\n",
       "      <td>Adm-clerical</td>\n",
       "      <td>Unmarried</td>\n",
       "      <td>White</td>\n",
       "      <td>Male</td>\n",
       "      <td>0</td>\n",
       "      <td>3770</td>\n",
       "      <td>40</td>\n",
       "      <td>United-States</td>\n",
       "      <td>&lt;=50K</td>\n",
       "    </tr>\n",
       "    <tr>\n",
       "      <th>5</th>\n",
       "      <td>74</td>\n",
       "      <td>State-gov</td>\n",
       "      <td>88638</td>\n",
       "      <td>Doctorate</td>\n",
       "      <td>16</td>\n",
       "      <td>Never-married</td>\n",
       "      <td>Prof-specialty</td>\n",
       "      <td>Other-relative</td>\n",
       "      <td>White</td>\n",
       "      <td>Female</td>\n",
       "      <td>0</td>\n",
       "      <td>3683</td>\n",
       "      <td>20</td>\n",
       "      <td>United-States</td>\n",
       "      <td>&gt;50K</td>\n",
       "    </tr>\n",
       "    <tr>\n",
       "      <th>6</th>\n",
       "      <td>68</td>\n",
       "      <td>Federal-gov</td>\n",
       "      <td>422013</td>\n",
       "      <td>HS-grad</td>\n",
       "      <td>9</td>\n",
       "      <td>Divorced</td>\n",
       "      <td>Prof-specialty</td>\n",
       "      <td>Not-in-family</td>\n",
       "      <td>White</td>\n",
       "      <td>Female</td>\n",
       "      <td>0</td>\n",
       "      <td>3683</td>\n",
       "      <td>40</td>\n",
       "      <td>United-States</td>\n",
       "      <td>&lt;=50K</td>\n",
       "    </tr>\n",
       "    <tr>\n",
       "      <th>7</th>\n",
       "      <td>45</td>\n",
       "      <td>Private</td>\n",
       "      <td>172274</td>\n",
       "      <td>Doctorate</td>\n",
       "      <td>16</td>\n",
       "      <td>Divorced</td>\n",
       "      <td>Prof-specialty</td>\n",
       "      <td>Unmarried</td>\n",
       "      <td>Black</td>\n",
       "      <td>Female</td>\n",
       "      <td>0</td>\n",
       "      <td>3004</td>\n",
       "      <td>35</td>\n",
       "      <td>United-States</td>\n",
       "      <td>&gt;50K</td>\n",
       "    </tr>\n",
       "    <tr>\n",
       "      <th>8</th>\n",
       "      <td>38</td>\n",
       "      <td>Self-emp-not-inc</td>\n",
       "      <td>164526</td>\n",
       "      <td>Prof-school</td>\n",
       "      <td>15</td>\n",
       "      <td>Never-married</td>\n",
       "      <td>Prof-specialty</td>\n",
       "      <td>Not-in-family</td>\n",
       "      <td>White</td>\n",
       "      <td>Male</td>\n",
       "      <td>0</td>\n",
       "      <td>2824</td>\n",
       "      <td>45</td>\n",
       "      <td>United-States</td>\n",
       "      <td>&gt;50K</td>\n",
       "    </tr>\n",
       "  </tbody>\n",
       "</table>\n",
       "</div>"
      ],
      "text/plain": [
       "   age         workclass  fnlwgt     education  educationnum  maritalstatus  \\\n",
       "0   82           Private  132870       HS-grad             9        Widowed   \n",
       "1   54           Private  140359       7th-8th             4       Divorced   \n",
       "2   41           Private  264663  Some-college            10      Separated   \n",
       "3   34           Private  216864       HS-grad             9       Divorced   \n",
       "4   38           Private  150601          10th             6      Separated   \n",
       "5   74         State-gov   88638     Doctorate            16  Never-married   \n",
       "6   68       Federal-gov  422013       HS-grad             9       Divorced   \n",
       "7   45           Private  172274     Doctorate            16       Divorced   \n",
       "8   38  Self-emp-not-inc  164526   Prof-school            15  Never-married   \n",
       "\n",
       "          occupation    relationship   race     sex  capitalgain  capitalloss  \\\n",
       "0    Exec-managerial   Not-in-family  White  Female            0         4356   \n",
       "1  Machine-op-inspct       Unmarried  White  Female            0         3900   \n",
       "2     Prof-specialty       Own-child  White  Female            0         3900   \n",
       "3      Other-service       Unmarried  White  Female            0         3770   \n",
       "4       Adm-clerical       Unmarried  White    Male            0         3770   \n",
       "5     Prof-specialty  Other-relative  White  Female            0         3683   \n",
       "6     Prof-specialty   Not-in-family  White  Female            0         3683   \n",
       "7     Prof-specialty       Unmarried  Black  Female            0         3004   \n",
       "8     Prof-specialty   Not-in-family  White    Male            0         2824   \n",
       "\n",
       "   hoursperweek  nativecountry income  \n",
       "0            18  United-States  <=50K  \n",
       "1            40  United-States  <=50K  \n",
       "2            40  United-States  <=50K  \n",
       "3            45  United-States  <=50K  \n",
       "4            40  United-States  <=50K  \n",
       "5            20  United-States   >50K  \n",
       "6            40  United-States  <=50K  \n",
       "7            35  United-States   >50K  \n",
       "8            45  United-States   >50K  "
      ]
     },
     "execution_count": 33,
     "metadata": {},
     "output_type": "execute_result"
    }
   ],
   "source": [
    "from pyspark.ml.feature import (VectorAssembler,VectorIndexer,OneHotEncoder,StringIndexer)\n",
    "pd.DataFrame(df.take(9), columns=df.columns)"
   ]
  },
  {
   "cell_type": "code",
   "execution_count": 34,
   "metadata": {},
   "outputs": [],
   "source": [
    "sex_indexer = StringIndexer(inputCol='sex',outputCol='sexIndex')\n",
    "education_indexer = StringIndexer(inputCol='education',outputCol='educationIndex')\n",
    "workclass_indexer = StringIndexer(inputCol='workclass',outputCol='workclassIndex')\n",
    "occupation_indexer = StringIndexer(inputCol='occupation',outputCol='occupationIndex')\n",
    "maritalstatus_indexer = StringIndexer(inputCol='maritalstatus',outputCol='maritalstatusIndex')\n",
    "relationship_indexer = StringIndexer(inputCol='relationship',outputCol='relationshipIndex')\n",
    "race_indexer = StringIndexer(inputCol='race',outputCol='raceIndex')\n",
    "nativecountry_indexer = StringIndexer(inputCol='nativecountry',outputCol='nativecountryIndex')\n",
    "income_indexer = StringIndexer(inputCol='income',outputCol='label')"
   ]
  },
  {
   "cell_type": "code",
   "execution_count": 35,
   "metadata": {},
   "outputs": [
    {
     "data": {
      "text/plain": [
       "DataFrame[age: int, workclass: string, fnlwgt: int, education: string, educationnum: int, maritalstatus: string, occupation: string, relationship: string, race: string, sex: string, capitalgain: int, capitalloss: int, hoursperweek: int, nativecountry: string, income: string, occupationIndex: double]"
      ]
     },
     "execution_count": 35,
     "metadata": {},
     "output_type": "execute_result"
    }
   ],
   "source": [
    "occupation_indexer .fit(df).transform(df)"
   ]
  },
  {
   "cell_type": "code",
   "execution_count": 42,
   "metadata": {},
   "outputs": [],
   "source": [
    "maritalstatus_encoder = OneHotEncoder(inputCol='maritalstatusIndex',outputCol='maritalstatusVec')\n",
    "education_encoder = OneHotEncoder(inputCol='educationIndex',outputCol='educationVec')\n",
    "relationship_encoder = OneHotEncoder(inputCol='relationshipIndex',outputCol='relationshipVec')\n",
    "race_encoder = OneHotEncoder(inputCol='raceIndex',outputCol='raceVec')\n",
    "workclass_encoder = OneHotEncoder(inputCol='workclassIndex',outputCol='workclassVec')\n",
    "occupation_encoder = OneHotEncoder(inputCol='occupationIndex',outputCol='occupationVec')\n",
    "nativecountry_encoder = OneHotEncoder(inputCol='nativecountryIndex',outputCol='nativecountryVec')\n"
   ]
  },
  {
   "cell_type": "code",
   "execution_count": 43,
   "metadata": {},
   "outputs": [],
   "source": [
    "assembler = VectorAssembler(inputCols=['maritalstatusVec','educationVec',\n",
    "                                      'relationshipVec','raceVec','occupationVec','workclassVec','nativecountryVec',\n",
    "                                       'age'], outputCol=\"features\")"
   ]
  },
  {
   "cell_type": "code",
   "execution_count": 44,
   "metadata": {},
   "outputs": [],
   "source": [
    "from pyspark.ml import Pipeline\n",
    "\n",
    "# Then go through our steps. It's essentially sequential to the above.\n",
    "pipeline = Pipeline(stages=[sex_indexer, occupation_indexer,workclass_indexer,nativecountry_indexer,maritalstatus_indexer, education_indexer, \n",
    "                             relationship_indexer, race_indexer,\n",
    "                            income_indexer, occupation_encoder,workclass_encoder,nativecountry_encoder,maritalstatus_encoder, education_encoder,\n",
    "                             relationship_encoder,race_encoder,\n",
    "                            assembler])\n",
    "\n"
   ]
  },
  {
   "cell_type": "code",
   "execution_count": 45,
   "metadata": {},
   "outputs": [],
   "source": [
    "# Now that we've got a number of steps, let's apply it to the DataFrame.\n",
    "pipeline_model = pipeline.fit(df)\n",
    "\n",
    "\n"
   ]
  },
  {
   "cell_type": "code",
   "execution_count": 46,
   "metadata": {},
   "outputs": [],
   "source": [
    "pipe_df = pipeline_model.transform(df)\n",
    "\n",
    "# Remove all variables other than features and label. \n",
    "pipe_df = pipe_df.select('label', 'features')"
   ]
  },
  {
   "cell_type": "code",
   "execution_count": 47,
   "metadata": {},
   "outputs": [
    {
     "name": "stdout",
     "output_type": "stream",
     "text": [
      "Training Dataset Count: 21052\n",
      "Test Dataset Count: 9110\n"
     ]
    }
   ],
   "source": [
    "from pyspark.ml.classification import LogisticRegression\n",
    "\n",
    "# Split our data. Note that the new DataFrame is being used.\n",
    "train_data, test_data = pipe_df.randomSplit([0.7,0.3])\n",
    "print(\"Training Dataset Count: \" + str(train_data.count()))\n",
    "print(\"Test Dataset Count: \" + str(test_data.count()))\n",
    "\n",
    "# Instantiate the model.\n",
    "lr_model = LogisticRegression(featuresCol='features',labelCol='label')\n",
    "\n",
    "# Fit the model.\n",
    "lr_model = lr_model.fit(train_data)\n",
    "\n",
    "# And evaluate the model using the test data.\n",
    "results = lr_model.transform(test_data)"
   ]
  },
  {
   "cell_type": "code",
   "execution_count": 122,
   "metadata": {},
   "outputs": [
    {
     "name": "stdout",
     "output_type": "stream",
     "text": [
      "+--------------------+-----+-------------+----------+--------------------+\n",
      "|            features|label|rawPrediction|prediction|         probability|\n",
      "+--------------------+-----+-------------+----------+--------------------+\n",
      "|(90,[0,6,21,26,30...|  0.0|[406.0,838.0]|       1.0|[0.32636655948553...|\n",
      "|(90,[0,6,21,26,30...|  0.0|[406.0,838.0]|       1.0|[0.32636655948553...|\n",
      "|(90,[0,6,21,26,30...|  0.0|[406.0,838.0]|       1.0|[0.32636655948553...|\n",
      "|(90,[0,6,21,26,30...|  0.0|[406.0,838.0]|       1.0|[0.32636655948553...|\n",
      "|(90,[0,6,21,26,30...|  0.0|[406.0,838.0]|       1.0|[0.32636655948553...|\n",
      "|(90,[0,6,21,26,30...|  0.0|[406.0,838.0]|       1.0|[0.32636655948553...|\n",
      "|(90,[0,6,21,26,30...|  0.0|[406.0,838.0]|       1.0|[0.32636655948553...|\n",
      "|(90,[0,6,21,26,30...|  0.0|[406.0,838.0]|       1.0|[0.32636655948553...|\n",
      "|(90,[0,6,21,26,30...|  0.0|[406.0,838.0]|       1.0|[0.32636655948553...|\n",
      "|(90,[0,6,21,26,30...|  0.0|[406.0,838.0]|       1.0|[0.32636655948553...|\n",
      "+--------------------+-----+-------------+----------+--------------------+\n",
      "only showing top 10 rows\n",
      "\n"
     ]
    }
   ],
   "source": [
    "from pyspark.ml.classification import DecisionTreeClassifier\n",
    "dt = DecisionTreeClassifier(featuresCol = 'features', labelCol = 'label', maxDepth = 3)\n",
    "dtModel = dt.fit(train_data)\n",
    "predictions = dtModel.transform(test_data)\n",
    "predictions.select('features', 'label', 'rawPrediction', 'prediction', 'probability').show(10)"
   ]
  },
  {
   "cell_type": "code",
   "execution_count": 48,
   "metadata": {},
   "outputs": [
    {
     "data": {
      "image/png": "[encoded data removed]",
      "text/plain": [
       "<Figure size 432x288 with 1 Axes>"
      ]
     },
     "metadata": {},
     "output_type": "display_data"
    }
   ],
   "source": [
    "import matplotlib.pyplot as plt\n",
    "import numpy as np\n",
    "\n",
    "# Visualising the coefficients. Sort from lowest to highest.\n",
    "beta = np.sort(lr_model.coefficients)\n",
    "\n",
    "# Plot the data.\n",
    "plt.plot(beta)\n",
    "\n",
    "# Add a label to the data.\n",
    "plt.ylabel('Beta Coefficients')\n",
    "\n",
    "# Show the graph. \n",
    "plt.show()\n"
   ]
  },
  {
   "cell_type": "code",
   "execution_count": 49,
   "metadata": {},
   "outputs": [
    {
     "data": {
      "image/png": "[encoded data removed]",
      "text/plain": [
       "<Figure size 432x288 with 1 Axes>"
      ]
     },
     "metadata": {},
     "output_type": "display_data"
    },
    {
     "name": "stdout",
     "output_type": "stream",
     "text": [
      "Area Under the Curve: 0.8814838048434834\n"
     ]
    }
   ],
   "source": [
    "# Let's get a summary of the data.\n",
    "training_summary = lr_model.summary\n",
    "\n",
    "# Convert the DataFrame to a Pandas DataFrame.\n",
    "ROC = training_summary.roc.toPandas()\n",
    "\n",
    "# Plot the true positive and false positive rates.\n",
    "plt.plot(ROC['FPR'],ROC['TPR'])\n",
    "\n",
    "# Define the labels.\n",
    "plt.ylabel('True Positive Rate')\n",
    "plt.xlabel('False Positive Rate')\n",
    "plt.title('ROC Curve')\n",
    "plt.show()\n",
    "\n",
    "# Print the AUC statistic. \n",
    "print('Area Under the Curve: ' + str(training_summary.areaUnderROC))"
   ]
  },
  {
   "cell_type": "code",
   "execution_count": 50,
   "metadata": {},
   "outputs": [
    {
     "data": {
      "image/png": "[encoded data removed]",
      "text/plain": [
       "<Figure size 432x288 with 1 Axes>"
      ]
     },
     "metadata": {},
     "output_type": "display_data"
    }
   ],
   "source": [
    "# Convert DataFrame to Pandas DataFrame.\n",
    "pr = training_summary.pr.toPandas()\n",
    "\n",
    "# Plot model recall and precision.\n",
    "plt.plot(pr['recall'],pr['precision'])\n",
    "\n",
    "# Define the labels and show the graph. \n",
    "plt.ylabel('Precision')\n",
    "plt.xlabel('Recall')\n",
    "plt.show()"
   ]
  },
  {
   "cell_type": "code",
   "execution_count": 51,
   "metadata": {},
   "outputs": [
    {
     "name": "stdout",
     "output_type": "stream",
     "text": [
      "+--------------------+-----+--------------------+\n",
      "|          prediction|label|            features|\n",
      "+--------------------+-----+--------------------+\n",
      "|0.006786102062975...|  0.0|(90,[1,13,23,26,3...|\n",
      "|0.006786102062975...|  0.0|(90,[1,13,23,26,4...|\n",
      "|0.006786102062975...|  0.0|(90,[1,12,23,27,3...|\n",
      "|0.006786102062975...|  0.0|(90,[1,12,23,26,3...|\n",
      "|0.006786102062975...|  0.0|(90,[1,16,23,26,3...|\n",
      "+--------------------+-----+--------------------+\n",
      "only showing top 5 rows\n",
      "\n"
     ]
    }
   ],
   "source": [
    "from pyspark.ml import Pipeline\n",
    "from pyspark.ml.classification import DecisionTreeClassifier\n",
    "from pyspark.ml.feature import StringIndexer, VectorIndexer\n",
    "from pyspark.ml.evaluation import MulticlassClassificationEvaluator\n",
    "\n",
    "(trainingData, testData) = df.randomSplit([0.7, 0.3])\n",
    "\n",
    "dt = DecisionTreeRegressor(featuresCol=\"features\")\n",
    "\n",
    "pipeline = Pipeline(stages=[sex_indexer, occupation_indexer,workclass_indexer,nativecountry_indexer,maritalstatus_indexer, education_indexer, \n",
    "                             relationship_indexer, race_indexer,\n",
    "                            income_indexer, occupation_encoder,workclass_encoder,nativecountry_encoder,maritalstatus_encoder, education_encoder,\n",
    "                             relationship_encoder,race_encoder,\n",
    "                            assembler,dt])\n",
    "pipe_df = pipe_df.select('label', 'features')\n",
    "pipeline_model = pipeline.fit(trainingData)\n",
    "# Make predictions.\n",
    "predictions = pipeline_model.transform(testData)\n",
    "# Select example rows to display.\n",
    "predictions.select('prediction', 'label', 'features').show(5)"
   ]
  },
  {
   "cell_type": "code",
   "execution_count": 52,
   "metadata": {},
   "outputs": [
    {
     "name": "stdout",
     "output_type": "stream",
     "text": [
      "Root Mean Squared Error (RMSE) on test data = 0.353545\n"
     ]
    }
   ],
   "source": [
    "# Select (prediction, true label) and compute test error\n",
    "evaluator = RegressionEvaluator(\n",
    "    labelCol=\"label\", predictionCol=\"prediction\", metricName=\"rmse\")\n",
    "rmse = evaluator.evaluate(predictions)\n",
    "print(\"Root Mean Squared Error (RMSE) on test data = %g\" % rmse)\n"
   ]
  },
  {
   "cell_type": "code",
   "execution_count": 53,
   "metadata": {},
   "outputs": [
    {
     "name": "stdout",
     "output_type": "stream",
     "text": [
      "+--------------+-----+--------------------+\n",
      "|predictedLabel|label|            features|\n",
      "+--------------+-----+--------------------+\n",
      "|         <=50K|  0.0|(90,[1,13,23,26,3...|\n",
      "|         <=50K|  0.0|(90,[1,13,23,26,4...|\n",
      "|         <=50K|  0.0|(90,[1,12,23,27,3...|\n",
      "|         <=50K|  0.0|(90,[1,12,23,26,3...|\n",
      "|         <=50K|  0.0|(90,[1,16,23,26,3...|\n",
      "+--------------+-----+--------------------+\n",
      "only showing top 5 rows\n",
      "\n"
     ]
    }
   ],
   "source": [
    "from pyspark.ml.linalg import Vector,Vectors\n",
    "from pyspark.sql import Row\n",
    "from pyspark.ml import Pipeline\n",
    "from pyspark.ml.feature import IndexToString,StringIndexer,VectorIndexer\n",
    "from pyspark.ml.classification import DecisionTreeClassificationModel,DecisionTreeClassifier\n",
    "from pyspark.ml.evaluation import MulticlassClassificationEvaluator\n",
    "labelIndexer = StringIndexer().setInputCol(\"income\").setOutputCol(\"indexedLabel\").fit(df)\n",
    "labelConverter = IndexToString().setInputCol(\"prediction\").setOutputCol(\"predictedLabel\").setLabels(labelIndexer.labels)\n",
    "dtClassifier = DecisionTreeClassifier().setLabelCol(\"label\").setFeaturesCol(\"features\")\n",
    "pipeline = Pipeline(stages=[sex_indexer, occupation_indexer,workclass_indexer,nativecountry_indexer,maritalstatus_indexer, education_indexer, \n",
    "                             relationship_indexer, race_indexer,\n",
    "                            income_indexer, occupation_encoder,workclass_encoder,nativecountry_encoder,maritalstatus_encoder, education_encoder,\n",
    "                             relationship_encoder,race_encoder,\n",
    "                            assembler,dtClassifier,labelConverter])\n",
    "pipeline_model = pipeline.fit(df)\n",
    "\n",
    "\n",
    "dtClassifiermodel = pipeline.fit(trainingData)\n",
    "\n",
    "predictionsClassifier = dtClassifiermodel.transform(testData)\n",
    "\n",
    "predictionsClassifier.select(\"predictedLabel\", \"label\", \"features\").show(5)\n",
    "\n",
    "\n"
   ]
  },
  {
   "cell_type": "code",
   "execution_count": 54,
   "metadata": {},
   "outputs": [
    {
     "name": "stdout",
     "output_type": "stream",
     "text": [
      "accuracy = 0.8232532751091703\n"
     ]
    }
   ],
   "source": [
    "evaluatorClassifier = MulticlassClassificationEvaluator().setLabelCol(\"label\").setPredictionCol(\"prediction\").setMetricName(\"accuracy\")\n",
    " \n",
    "accuracy = evaluatorClassifier.evaluate(predictionsClassifier)\n",
    " \n",
    "print(\"accuracy = \" + str(accuracy))\n"
   ]
  },
  {
   "cell_type": "code",
   "execution_count": 112,
   "metadata": {},
   "outputs": [
    {
     "name": "stdout",
     "output_type": "stream",
     "text": [
      "+--------------+-----+--------------------+\n",
      "|predictedLabel|label|            features|\n",
      "+--------------+-----+--------------------+\n",
      "|         <=50K|  0.0|(90,[1,13,23,26,3...|\n",
      "|         <=50K|  0.0|(90,[1,13,23,26,4...|\n",
      "|         <=50K|  0.0|(90,[1,12,23,27,3...|\n",
      "|         <=50K|  0.0|(90,[1,12,23,26,3...|\n",
      "|         <=50K|  0.0|(90,[1,16,23,26,3...|\n",
      "+--------------+-----+--------------------+\n",
      "only showing top 5 rows\n",
      "\n"
     ]
    }
   ],
   "source": [
    "from pyspark.ml.regression import DecisionTreeRegressionModel,DecisionTreeRegressor\n",
    "from pyspark.ml.evaluation import RegressionEvaluator\n",
    "dtRegressor = DecisionTreeRegressor().setLabelCol(\"label\").setFeaturesCol(\"features\")\n",
    "pipeline= Pipeline(stages=[sex_indexer, occupation_indexer,workclass_indexer,nativecountry_indexer,maritalstatus_indexer, education_indexer, \n",
    "                             relationship_indexer, race_indexer,\n",
    "                            income_indexer, occupation_encoder,workclass_encoder,nativecountry_encoder,maritalstatus_encoder, education_encoder,\n",
    "                             relationship_encoder,race_encoder,\n",
    "                            assembler,dtRegressor,labelConverter])\n",
    "\n",
    "modelRegressor = pipeline.fit(trainingData)\n",
    "predictionsRegressor = modelRegressor.transform(testData)\n",
    "predictionsRegressor.select(\"predictedLabel\", \"label\", \"features\").show(5)"
   ]
  },
  {
   "cell_type": "code",
   "execution_count": 71,
   "metadata": {},
   "outputs": [
    {
     "name": "stdout",
     "output_type": "stream",
     "text": [
      "Root Mean Squared Error (RMSE) on test data = 0.3535446609477227\n"
     ]
    }
   ],
   "source": [
    "evaluatorRegressor = RegressionEvaluator().setLabelCol(\"label\").setPredictionCol(\"prediction\").setMetricName(\"rmse\")\n",
    " \n",
    "rmse = evaluatorRegressor.evaluate(predictionsRegressor)\n",
    " \n",
    "print(\"Root Mean Squared Error (RMSE) on test data = \" +str(rmse))\n"
   ]
  },
  {
   "cell_type": "code",
   "execution_count": 133,
   "metadata": {},
   "outputs": [
    {
     "name": "stdout",
     "output_type": "stream",
     "text": [
      "+--------------------+-----+-------------+----------+--------------------+\n",
      "|            features|label|rawPrediction|prediction|         probability|\n",
      "+--------------------+-----+-------------+----------+--------------------+\n",
      "|(90,[0,6,21,26,30...|  0.0|[406.0,838.0]|       1.0|[0.32636655948553...|\n",
      "|(90,[0,6,21,26,30...|  0.0|[406.0,838.0]|       1.0|[0.32636655948553...|\n",
      "|(90,[0,6,21,26,30...|  0.0|[406.0,838.0]|       1.0|[0.32636655948553...|\n",
      "|(90,[0,6,21,26,30...|  0.0|[406.0,838.0]|       1.0|[0.32636655948553...|\n",
      "|(90,[0,6,21,26,30...|  0.0|[406.0,838.0]|       1.0|[0.32636655948553...|\n",
      "|(90,[0,6,21,26,30...|  0.0|[406.0,838.0]|       1.0|[0.32636655948553...|\n",
      "|(90,[0,6,21,26,30...|  0.0|[406.0,838.0]|       1.0|[0.32636655948553...|\n",
      "|(90,[0,6,21,26,30...|  0.0|[406.0,838.0]|       1.0|[0.32636655948553...|\n",
      "|(90,[0,6,21,26,30...|  0.0|[406.0,838.0]|       1.0|[0.32636655948553...|\n",
      "|(90,[0,6,21,26,30...|  0.0|[406.0,838.0]|       1.0|[0.32636655948553...|\n",
      "+--------------------+-----+-------------+----------+--------------------+\n",
      "only showing top 10 rows\n",
      "\n"
     ]
    }
   ],
   "source": [
    "from pyspark.ml.classification import DecisionTreeClassifier\n",
    "dt = DecisionTreeClassifier(featuresCol = 'features', labelCol = 'label', maxDepth = 3)\n",
    "dtModel = dt.fit(train_data)\n",
    "predictions = dtModel.transform(test_data)\n",
    "predictions.select('features', 'label', 'rawPrediction', 'prediction', 'probability').show(10)"
   ]
  },
  {
   "cell_type": "code",
   "execution_count": 134,
   "metadata": {},
   "outputs": [
    {
     "name": "stdout",
     "output_type": "stream",
     "text": [
      "Test Area Under ROC: 0.7171283800213989\n"
     ]
    },
    {
     "data": {
      "image/png": "[encoded data removed]",
      "text/plain": [
       "<Figure size 432x288 with 1 Axes>"
      ]
     },
     "metadata": {},
     "output_type": "display_data"
    },
    {
     "name": "stdout",
     "output_type": "stream",
     "text": [
      "Area Under the Curve: 0.7171283800213989\n"
     ]
    }
   ],
   "source": [
    "\n",
    "from pyspark.ml.evaluation import BinaryClassificationEvaluator\n",
    "evaluator = BinaryClassificationEvaluator()\n",
    "print(\"Test Area Under ROC: \" + str(evaluator.evaluate(predictions, {evaluator.metricName: \"areaUnderROC\"})))\n",
    "\n",
    "\n",
    "# Plot the true positive and false positive rates.\n",
    "plt.plot(ROC['FPR'],ROC['TPR'])\n",
    "\n",
    "# Define the labels.\n",
    "plt.ylabel('True Positive Rate')\n",
    "plt.xlabel('False Positive Rate')\n",
    "plt.title('ROC Curve')\n",
    "plt.show()\n",
    "\n",
    "# Print the AUC statistic. \n",
    "print('Area Under the Curve: ' + str(evaluator.evaluate(predictions, {evaluator.metricName: \"areaUnderROC\"})))"
   ]
  },
  {
   "cell_type": "code",
   "execution_count": 135,
   "metadata": {},
   "outputs": [
    {
     "name": "stdout",
     "output_type": "stream",
     "text": [
      "+--------------------+-----+--------------------+----------+--------------------+\n",
      "|            features|label|       rawPrediction|prediction|         probability|\n",
      "+--------------------+-----+--------------------+----------+--------------------+\n",
      "|(90,[0,6,21,26,30...|  0.0|[12.4228296099700...|       0.0|[0.62114148049850...|\n",
      "|(90,[0,6,21,26,30...|  0.0|[12.4228296099700...|       0.0|[0.62114148049850...|\n",
      "|(90,[0,6,21,26,30...|  0.0|[12.2812629339400...|       0.0|[0.61406314669700...|\n",
      "|(90,[0,6,21,26,30...|  0.0|[12.2812629339400...|       0.0|[0.61406314669700...|\n",
      "|(90,[0,6,21,26,30...|  0.0|[12.2812629339400...|       0.0|[0.61406314669700...|\n",
      "|(90,[0,6,21,26,30...|  0.0|[12.2812629339400...|       0.0|[0.61406314669700...|\n",
      "|(90,[0,6,21,26,30...|  0.0|[12.2812629339400...|       0.0|[0.61406314669700...|\n",
      "|(90,[0,6,21,26,30...|  0.0|[12.2812629339400...|       0.0|[0.61406314669700...|\n",
      "|(90,[0,6,21,26,30...|  0.0|[11.7042961062280...|       0.0|[0.58521480531140...|\n",
      "|(90,[0,6,21,26,30...|  0.0|[12.2660597119194...|       0.0|[0.61330298559597...|\n",
      "+--------------------+-----+--------------------+----------+--------------------+\n",
      "only showing top 10 rows\n",
      "\n"
     ]
    }
   ],
   "source": [
    "from pyspark.ml.classification import RandomForestClassifier\n",
    "rf = RandomForestClassifier(featuresCol = 'features', labelCol = 'label')\n",
    "rfModel = rf.fit(train_data)\n",
    "predictions = rfModel.transform(test_data)\n",
    "predictions.select('features', 'label', 'rawPrediction', 'prediction', 'probability').show(10)"
   ]
  },
  {
   "cell_type": "code",
   "execution_count": 136,
   "metadata": {},
   "outputs": [
    {
     "name": "stdout",
     "output_type": "stream",
     "text": [
      "Test Area Under ROC: 0.8597546250882127\n"
     ]
    },
    {
     "data": {
      "image/png": "[encoded data removed]",
      "text/plain": [
       "<Figure size 432x288 with 1 Axes>"
      ]
     },
     "metadata": {},
     "output_type": "display_data"
    },
    {
     "name": "stdout",
     "output_type": "stream",
     "text": [
      "Area Under the Curve: 0.8597546250882127\n"
     ]
    }
   ],
   "source": [
    "evaluator = BinaryClassificationEvaluator()\n",
    "print(\"Test Area Under ROC: \" + str(evaluator.evaluate(predictions, {evaluator.metricName: \"areaUnderROC\"})))\n",
    "\n",
    "# Plot the true positive and false positive rates.\n",
    "plt.plot(ROC['FPR'],ROC['TPR'])\n",
    "\n",
    "# Define the labels.\n",
    "plt.ylabel('True Positive Rate')\n",
    "plt.xlabel('False Positive Rate')\n",
    "plt.title('ROC Curve')\n",
    "plt.show()\n",
    "\n",
    "# Print the AUC statistic. \n",
    "print('Area Under the Curve: ' + str(evaluator.evaluate(predictions, {evaluator.metricName: \"areaUnderROC\"})))"
   ]
  },
  {
   "cell_type": "code",
   "execution_count": 157,
   "metadata": {},
   "outputs": [
    {
     "name": "stdout",
     "output_type": "stream",
     "text": [
      "Coefficients: [-0.07739839372935713,-0.2303237584742556,-0.22250477922157402,-0.19630213570813704,-0.22979950263212787,-0.2043321070252082,0.07227552627004466,0.11909036883677672,0.2490983642984723,0.3448868075384356,0.1348388522810844,0.0463167677829084,0.14393515867110054,0.02415291421221593,-0.059874532474385365,0.49894622319858756,0.002830441108477207,0.08890424750900232,0.4839267301131005,-0.025063047469114533,-0.04034965151771753,0.16131450035751344,-0.014712031852076266,-0.01056456770486625,-0.02612675302145998,0.2043142355935802,0.04094484449221857,0.01759017352951696,0.036452153490505144,-0.010791861647271963,0.1707262622867152,0.09485575318859156,0.2490589047363399,0.08987491775849023,0.14838459514611285,0.07056063788803377,0.05961873362532009,0.08035064067841435,0.059977846720623215,0.025757247349347496,0.170354014505715,0.19720537284914885,0.08923469911859136,0.19757924436821214,0.13355613660397525,0.16448319726312136,0.13425758707547755,0.2898194942225357,0.26776991045901205,0.01463092642089411,-0.015227927886852625,-0.004052039787135298,0.04478880638064807,-0.008349091886290322,0.04996555290468885,-0.015583673405189673,-0.009171235592353335,-0.020719893518006235,0.033667513485664866,-0.015883262846497197,-0.11490233819700825,-0.08917868987915022,0.060350338996609555,-0.0211739729115622,-0.08559187846882475,0.04247854100718453,0.046610249902735254,-0.04429754720682247,-0.09706838802839264,-0.015199605454138137,-0.21729768226684226,-0.015702566332468915,-0.0553810547027075,-0.06908124514815125,-0.06879265192652265,-0.09747082437992192,-0.10795041460625716,0.11005082278155745,0.09030511962078021,-0.1164317185004344,-0.0974920692897442,0.18696385659291642,-0.10717706110953505,-0.13883660694506098,0.08301256050510374,-0.16732359911210865,-0.01910512382122496,-0.019172965787307823,-0.23366301172292223,0.002849439300895158]\n",
      "Intercept: -0.2780914904761896\n",
      "\n",
      "RMSE: 0.351591788007448\n",
      "R2: 0.33978959579034695\n"
     ]
    }
   ],
   "source": [
    "# Importing the LR package.\n",
    "from pyspark.ml.regression import LinearRegression\n",
    "\n",
    "# Instantiate the instance.\n",
    "lr = LinearRegression(featuresCol='features', labelCol='label')\n",
    "\n",
    "# Fit the training data.\n",
    "lr_model = lr.fit(train_data)\n",
    "\n",
    "# Print the coefficients.\n",
    "print(\"Coefficients: \" + str(lr_model.coefficients))\n",
    "\n",
    "# Print the intercept.\n",
    "print(\"Intercept: \" + str(lr_model.intercept) + \"\\n\")\n",
    "\n",
    "# Summarise the model and print out some evaluation metrics.\n",
    "training_summary = lr_model.summary\n",
    "\n",
    "# Print RMSE. \n",
    "print(\"RMSE: \" + str(training_summary.rootMeanSquaredError))\n",
    "\n",
    "# Print R2.\n",
    "print(\"R2: \" + str(training_summary.r2))"
   ]
  },
  {
   "cell_type": "code",
   "execution_count": 158,
   "metadata": {},
   "outputs": [
    {
     "name": "stdout",
     "output_type": "stream",
     "text": [
      "+-------+-------------------+\n",
      "|summary|              label|\n",
      "+-------+-------------------+\n",
      "|  count|              21052|\n",
      "|   mean|0.24947748432452974|\n",
      "| stddev| 0.4327208842386081|\n",
      "|    min|                0.0|\n",
      "|    max|                1.0|\n",
      "+-------+-------------------+\n",
      "\n"
     ]
    }
   ],
   "source": [
    "train_data.describe().show()"
   ]
  },
  {
   "cell_type": "code",
   "execution_count": 159,
   "metadata": {},
   "outputs": [
    {
     "name": "stdout",
     "output_type": "stream",
     "text": [
      "RMSE on test data: 0.35284843899271806\n",
      "R2 on test data: 0.33176386047403605\n"
     ]
    }
   ],
   "source": [
    "# Let's evaluate the model against the test data.\n",
    "test_results = lr_model.evaluate(test_data)\n",
    "\n",
    "# And print the RMSE/R2. As expected, our RMSE and R2 are slightly worse when applying the testing set.\n",
    "print(\"RMSE on test data: \" + str(test_results.rootMeanSquaredError))\n",
    "print(\"R2 on test data: \" + str(test_results.r2))"
   ]
  },
  {
   "cell_type": "code",
   "execution_count": null,
   "metadata": {},
   "outputs": [],
   "source": []
  }
 ],
 "metadata": {
  "kernelspec": {
   "display_name": "Python 3",
   "language": "python",
   "name": "python3"
  },
  "language_info": {
   "codemirror_mode": {
    "name": "ipython",
    "version": 3
   },
   "file_extension": ".py",
   "mimetype": "text/x-python",
   "name": "python",
   "nbconvert_exporter": "python",
   "pygments_lexer": "ipython3",
   "version": "3.5.2"
  }
 },
 "nbformat": 4,
 "nbformat_minor": 2
}
