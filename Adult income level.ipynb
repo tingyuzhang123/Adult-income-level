{
 "cells": [
  {
   "cell_type": "code",
   "execution_count": 1,
   "metadata": {},
   "outputs": [],
   "source": [
    "import findspark\n",
    "findspark.init('/home/ubuntu/spark-2.1.1-bin-hadoop2.7')\n",
    "import pyspark\n",
    "from pyspark.sql import SparkSession\n",
    "spark = SparkSession.builder.appName('basics').getOrCreate()"
   ]
  },
  {
   "cell_type": "code",
   "execution_count": 23,
   "metadata": {},
   "outputs": [],
   "source": [
    "df = spark.read.csv('adult income.csv',header=True,inferSchema=True)"
   ]
  },
  {
   "cell_type": "code",
   "execution_count": 3,
   "metadata": {},
   "outputs": [
    {
     "name": "stdout",
     "output_type": "stream",
     "text": [
      "+---+----------------+------+------------+-------------+--------------+-----------------+--------------+-----+------+------------+------------+--------------+--------------+------+\n",
      "|age|       workclass|fnlwgt|   education|education.num|marital.status|       occupation|  relationship| race|   sex|capital.gain|capital.loss|hours.per.week|native.country|income|\n",
      "+---+----------------+------+------------+-------------+--------------+-----------------+--------------+-----+------+------------+------------+--------------+--------------+------+\n",
      "| 90|         Private| 77053|     HS-grad|            9|       Widowed|             null| Not-in-family|White|Female|           0|        4356|            40| United-States| <=50K|\n",
      "| 82|         Private|132870|     HS-grad|            9|       Widowed|  Exec-managerial| Not-in-family|White|Female|           0|        4356|            18| United-States| <=50K|\n",
      "| 66|         Private|186061|Some-college|           10|       Widowed|             null|     Unmarried|Black|Female|           0|        4356|            40| United-States| <=50K|\n",
      "| 54|         Private|140359|     7th-8th|            4|      Divorced|Machine-op-inspct|     Unmarried|White|Female|           0|        3900|            40| United-States| <=50K|\n",
      "| 41|         Private|264663|Some-college|           10|     Separated|   Prof-specialty|     Own-child|White|Female|           0|        3900|            40| United-States| <=50K|\n",
      "| 34|         Private|216864|     HS-grad|            9|      Divorced|    Other-service|     Unmarried|White|Female|           0|        3770|            45| United-States| <=50K|\n",
      "| 38|         Private|150601|        10th|            6|     Separated|     Adm-clerical|     Unmarried|White|  Male|           0|        3770|            40| United-States| <=50K|\n",
      "| 74|       State-gov| 88638|   Doctorate|           16| Never-married|   Prof-specialty|Other-relative|White|Female|           0|        3683|            20| United-States|  >50K|\n",
      "| 68|     Federal-gov|422013|     HS-grad|            9|      Divorced|   Prof-specialty| Not-in-family|White|Female|           0|        3683|            40| United-States| <=50K|\n",
      "| 41|         Private| 70037|Some-college|           10| Never-married|     Craft-repair|     Unmarried|White|  Male|           0|        3004|            60|          null|  >50K|\n",
      "| 45|         Private|172274|   Doctorate|           16|      Divorced|   Prof-specialty|     Unmarried|Black|Female|           0|        3004|            35| United-States|  >50K|\n",
      "| 38|Self-emp-not-inc|164526| Prof-school|           15| Never-married|   Prof-specialty| Not-in-family|White|  Male|           0|        2824|            45| United-States|  >50K|\n",
      "| 52|         Private|129177|   Bachelors|           13|       Widowed|    Other-service| Not-in-family|White|Female|           0|        2824|            20| United-States|  >50K|\n",
      "| 32|         Private|136204|     Masters|           14|     Separated|  Exec-managerial| Not-in-family|White|  Male|           0|        2824|            55| United-States|  >50K|\n",
      "| 51|            null|172175|   Doctorate|           16| Never-married|             null| Not-in-family|White|  Male|           0|        2824|            40| United-States|  >50K|\n",
      "| 46|         Private| 45363| Prof-school|           15|      Divorced|   Prof-specialty| Not-in-family|White|  Male|           0|        2824|            40| United-States|  >50K|\n",
      "| 45|         Private|172822|        11th|            7|      Divorced| Transport-moving| Not-in-family|White|  Male|           0|        2824|            76| United-States|  >50K|\n",
      "| 57|         Private|317847|     Masters|           14|      Divorced|  Exec-managerial| Not-in-family|White|  Male|           0|        2824|            50| United-States|  >50K|\n",
      "| 22|         Private|119592|  Assoc-acdm|           12| Never-married|Handlers-cleaners| Not-in-family|Black|  Male|           0|        2824|            40|          null|  >50K|\n",
      "| 34|         Private|203034|   Bachelors|           13|     Separated|            Sales| Not-in-family|White|  Male|           0|        2824|            50| United-States|  >50K|\n",
      "+---+----------------+------+------------+-------------+--------------+-----------------+--------------+-----+------+------------+------------+--------------+--------------+------+\n",
      "only showing top 20 rows\n",
      "\n"
     ]
    }
   ],
   "source": [
    "df.show()"
   ]
  },
  {
   "cell_type": "code",
   "execution_count": 4,
   "metadata": {},
   "outputs": [
    {
     "name": "stdout",
     "output_type": "stream",
     "text": [
      "root\n",
      " |-- age: integer (nullable = true)\n",
      " |-- workclass: string (nullable = true)\n",
      " |-- fnlwgt: integer (nullable = true)\n",
      " |-- education: string (nullable = true)\n",
      " |-- education.num: integer (nullable = true)\n",
      " |-- marital.status: string (nullable = true)\n",
      " |-- occupation: string (nullable = true)\n",
      " |-- relationship: string (nullable = true)\n",
      " |-- race: string (nullable = true)\n",
      " |-- sex: string (nullable = true)\n",
      " |-- capital.gain: integer (nullable = true)\n",
      " |-- capital.loss: integer (nullable = true)\n",
      " |-- hours.per.week: integer (nullable = true)\n",
      " |-- native.country: string (nullable = true)\n",
      " |-- income: string (nullable = true)\n",
      "\n"
     ]
    }
   ],
   "source": [
    "df.printSchema()"
   ]
  },
  {
   "cell_type": "code",
   "execution_count": 5,
   "metadata": {},
   "outputs": [
    {
     "name": "stdout",
     "output_type": "stream",
     "text": [
      "[Row(age=90, workclass='Private', fnlwgt=77053, education='HS-grad', education.num=9, marital.status='Widowed', occupation=None, relationship='Not-in-family', race='White', sex='Female', capital.gain=0, capital.loss=4356, hours.per.week=40, native.country='United-States', income='<=50K')]\n"
     ]
    }
   ],
   "source": [
    "print(df.head(1))"
   ]
  },
  {
   "cell_type": "code",
   "execution_count": 6,
   "metadata": {},
   "outputs": [
    {
     "name": "stdout",
     "output_type": "stream",
     "text": [
      "+-------+------------------+------------------+\n",
      "|summary|            fnlwgt|               age|\n",
      "+-------+------------------+------------------+\n",
      "|  count|             32561|             32561|\n",
      "|   mean|189778.36651208502| 38.58164675532078|\n",
      "| stddev|105549.97769702264|13.640432553581295|\n",
      "|    min|             12285|                17|\n",
      "|    max|           1484705|                90|\n",
      "+-------+------------------+------------------+\n",
      "\n"
     ]
    }
   ],
   "source": [
    "df.select('fnlwgt','age').describe().show()"
   ]
  },
  {
   "cell_type": "code",
   "execution_count": 7,
   "metadata": {},
   "outputs": [
    {
     "name": "stdout",
     "output_type": "stream",
     "text": [
      "+------------+---+\n",
      "|   education|age|\n",
      "+------------+---+\n",
      "|     HS-grad| 90|\n",
      "|     HS-grad| 82|\n",
      "|Some-college| 66|\n",
      "|     7th-8th| 54|\n",
      "|Some-college| 41|\n",
      "|     HS-grad| 34|\n",
      "|        10th| 38|\n",
      "|   Doctorate| 74|\n",
      "|     HS-grad| 68|\n",
      "|Some-college| 41|\n",
      "|   Doctorate| 45|\n",
      "| Prof-school| 38|\n",
      "|   Bachelors| 52|\n",
      "|     Masters| 32|\n",
      "|   Doctorate| 51|\n",
      "| Prof-school| 46|\n",
      "|        11th| 45|\n",
      "|     Masters| 57|\n",
      "|  Assoc-acdm| 22|\n",
      "|   Bachelors| 34|\n",
      "+------------+---+\n",
      "only showing top 20 rows\n",
      "\n"
     ]
    }
   ],
   "source": [
    "bal_col = df.select('education','age',)\n",
    "bal_col.show()"
   ]
  },
  {
   "cell_type": "code",
   "execution_count": 8,
   "metadata": {},
   "outputs": [
    {
     "name": "stdout",
     "output_type": "stream",
     "text": [
      "+------+---+\n",
      "|income|age|\n",
      "+------+---+\n",
      "| <=50K| 90|\n",
      "| <=50K| 82|\n",
      "| <=50K| 66|\n",
      "| <=50K| 54|\n",
      "| <=50K| 41|\n",
      "| <=50K| 34|\n",
      "| <=50K| 38|\n",
      "|  >50K| 74|\n",
      "| <=50K| 68|\n",
      "|  >50K| 41|\n",
      "|  >50K| 45|\n",
      "|  >50K| 38|\n",
      "|  >50K| 52|\n",
      "|  >50K| 32|\n",
      "|  >50K| 51|\n",
      "|  >50K| 46|\n",
      "|  >50K| 45|\n",
      "|  >50K| 57|\n",
      "|  >50K| 34|\n",
      "|  >50K| 37|\n",
      "+------+---+\n",
      "only showing top 20 rows\n",
      "\n"
     ]
    }
   ],
   "source": [
    "df.filter(\"age > 25\").select('income','age').show()"
   ]
  },
  {
   "cell_type": "code",
   "execution_count": 9,
   "metadata": {},
   "outputs": [],
   "source": [
    "from  pyspark.sql.functions import format_number, col"
   ]
  },
  {
   "cell_type": "code",
   "execution_count": 10,
   "metadata": {},
   "outputs": [
    {
     "name": "stdout",
     "output_type": "stream",
     "text": [
      "+------------+------+\n",
      "|   education|income|\n",
      "+------------+------+\n",
      "|     HS-grad| <=50K|\n",
      "|     HS-grad| <=50K|\n",
      "|Some-college| <=50K|\n",
      "|     7th-8th| <=50K|\n",
      "|Some-college| <=50K|\n",
      "|     HS-grad| <=50K|\n",
      "|        10th| <=50K|\n",
      "|   Doctorate|  >50K|\n",
      "|     HS-grad| <=50K|\n",
      "|Some-college|  >50K|\n",
      "|   Doctorate|  >50K|\n",
      "| Prof-school|  >50K|\n",
      "|   Bachelors|  >50K|\n",
      "|     Masters|  >50K|\n",
      "|   Doctorate|  >50K|\n",
      "| Prof-school|  >50K|\n",
      "|        11th|  >50K|\n",
      "|     Masters|  >50K|\n",
      "|  Assoc-acdm|  >50K|\n",
      "|   Bachelors|  >50K|\n",
      "+------------+------+\n",
      "only showing top 20 rows\n",
      "\n"
     ]
    }
   ],
   "source": [
    "cols1 = ['education', 'income']\n",
    "df.select(cols1).show()"
   ]
  },
  {
   "cell_type": "code",
   "execution_count": 11,
   "metadata": {},
   "outputs": [
    {
     "name": "stdout",
     "output_type": "stream",
     "text": [
      "+---+----------------+------+------------+-------------+--------------+-----------------+--------------+-----+------+------------+------------+--------------+--------------+------+\n",
      "|age|       workclass|fnlwgt|   education|education.num|marital.status|       occupation|  relationship| race|   sex|capital.gain|capital.loss|hours.per.week|native.country|income|\n",
      "+---+----------------+------+------------+-------------+--------------+-----------------+--------------+-----+------+------------+------------+--------------+--------------+------+\n",
      "| 90|         Private| 77053|     HS-grad|            9|       Widowed|             null| Not-in-family|White|Female|           0|        4356|            40| United-States| <=50K|\n",
      "| 82|         Private|132870|     HS-grad|            9|       Widowed|  Exec-managerial| Not-in-family|White|Female|           0|        4356|            18| United-States| <=50K|\n",
      "| 66|         Private|186061|Some-college|           10|       Widowed|             null|     Unmarried|Black|Female|           0|        4356|            40| United-States| <=50K|\n",
      "| 54|         Private|140359|     7th-8th|            4|      Divorced|Machine-op-inspct|     Unmarried|White|Female|           0|        3900|            40| United-States| <=50K|\n",
      "| 41|         Private|264663|Some-college|           10|     Separated|   Prof-specialty|     Own-child|White|Female|           0|        3900|            40| United-States| <=50K|\n",
      "| 34|         Private|216864|     HS-grad|            9|      Divorced|    Other-service|     Unmarried|White|Female|           0|        3770|            45| United-States| <=50K|\n",
      "| 74|       State-gov| 88638|   Doctorate|           16| Never-married|   Prof-specialty|Other-relative|White|Female|           0|        3683|            20| United-States|  >50K|\n",
      "| 68|     Federal-gov|422013|     HS-grad|            9|      Divorced|   Prof-specialty| Not-in-family|White|Female|           0|        3683|            40| United-States| <=50K|\n",
      "| 45|         Private|172274|   Doctorate|           16|      Divorced|   Prof-specialty|     Unmarried|Black|Female|           0|        3004|            35| United-States|  >50K|\n",
      "| 52|         Private|129177|   Bachelors|           13|       Widowed|    Other-service| Not-in-family|White|Female|           0|        2824|            20| United-States|  >50K|\n",
      "| 29|         Private| 77009|        11th|            7|     Separated|            Sales| Not-in-family|White|Female|           0|        2754|            42| United-States| <=50K|\n",
      "| 61|         Private| 29059|     HS-grad|            9|      Divorced|            Sales|     Unmarried|White|Female|           0|        2754|            25| United-States| <=50K|\n",
      "| 59|    Self-emp-inc|107287|        10th|            6|       Widowed|  Exec-managerial|     Unmarried|White|Female|           0|        2559|            50| United-States|  >50K|\n",
      "| 63|     Federal-gov| 39181|   Doctorate|           16|      Divorced|  Exec-managerial| Not-in-family|White|Female|           0|        2559|            60| United-States|  >50K|\n",
      "| 51|         Private|197163| Prof-school|           15| Never-married|   Prof-specialty| Not-in-family|White|Female|           0|        2559|            50| United-States|  >50K|\n",
      "| 37|Self-emp-not-inc|137527|   Doctorate|           16| Never-married|   Prof-specialty| Not-in-family|White|Female|           0|        2559|            60| United-States|  >50K|\n",
      "| 54|         Private|161691|     Masters|           14|      Divorced|   Prof-specialty| Not-in-family|White|Female|           0|        2559|            40| United-States|  >50K|\n",
      "| 43|         Private|115806|     Masters|           14|      Divorced|  Exec-managerial|     Unmarried|White|Female|           0|        2547|            40| United-States|  >50K|\n",
      "| 51|         Private|115066|Some-college|           10|      Divorced|     Adm-clerical|     Unmarried|White|Female|           0|        2547|            40| United-States|  >50K|\n",
      "| 43|         Private|289669|     Masters|           14|      Divorced|   Prof-specialty|     Unmarried|White|Female|           0|        2547|            40| United-States|  >50K|\n",
      "+---+----------------+------+------------+-------------+--------------+-----------------+--------------+-----+------+------------+------------+--------------+--------------+------+\n",
      "only showing top 20 rows\n",
      "\n"
     ]
    }
   ],
   "source": [
    "df.filter(df.sex == 'Female').show()"
   ]
  },
  {
   "cell_type": "code",
   "execution_count": 12,
   "metadata": {},
   "outputs": [
    {
     "name": "stdout",
     "output_type": "stream",
     "text": [
      "== Physical Plan ==\n",
      "*FileScan csv [age#0,workclass#1,fnlwgt#2,education#3,education.num#4,marital.status#5,occupation#6,relationship#7,race#8,sex#9,capital.gain#10,capital.loss#11,hours.per.week#12,native.country#13,income#14] Batched: false, Format: CSV, Location: InMemoryFileIndex[file:/home/ubuntu/adult income.csv], PartitionFilters: [], PushedFilters: [], ReadSchema: struct<age:int,workclass:string,fnlwgt:int,education:string,education.num:int,marital.status:stri...\n"
     ]
    }
   ],
   "source": [
    "df.explain()"
   ]
  },
  {
   "cell_type": "code",
   "execution_count": 13,
   "metadata": {},
   "outputs": [
    {
     "name": "stdout",
     "output_type": "stream",
     "text": [
      "Total data points: 32561\n"
     ]
    }
   ],
   "source": [
    "print(\"Total data points:\", df.count())"
   ]
  },
  {
   "cell_type": "code",
   "execution_count": 15,
   "metadata": {},
   "outputs": [
    {
     "name": "stdout",
     "output_type": "stream",
     "text": [
      "+---+----------------+------+------------+-------------+--------------+-----------------+--------------+-----+------+------------+------------+--------------+--------------+------+\n",
      "|age|       workclass|fnlwgt|   education|education.num|marital.status|       occupation|  relationship| race|   sex|capital.gain|capital.loss|hours.per.week|native.country|income|\n",
      "+---+----------------+------+------------+-------------+--------------+-----------------+--------------+-----+------+------------+------------+--------------+--------------+------+\n",
      "| 90|         Private| 77053|     HS-grad|            9|       Widowed|             null| Not-in-family|White|Female|           0|        4356|            40| United-States| <=50K|\n",
      "| 82|         Private|132870|     HS-grad|            9|       Widowed|  Exec-managerial| Not-in-family|White|Female|           0|        4356|            18| United-States| <=50K|\n",
      "| 66|         Private|186061|Some-college|           10|       Widowed|             null|     Unmarried|Black|Female|           0|        4356|            40| United-States| <=50K|\n",
      "| 54|         Private|140359|     7th-8th|            4|      Divorced|Machine-op-inspct|     Unmarried|White|Female|           0|        3900|            40| United-States| <=50K|\n",
      "| 41|         Private|264663|Some-college|           10|     Separated|   Prof-specialty|     Own-child|White|Female|           0|        3900|            40| United-States| <=50K|\n",
      "| 34|         Private|216864|     HS-grad|            9|      Divorced|    Other-service|     Unmarried|White|Female|           0|        3770|            45| United-States| <=50K|\n",
      "| 38|         Private|150601|        10th|            6|     Separated|     Adm-clerical|     Unmarried|White|  Male|           0|        3770|            40| United-States| <=50K|\n",
      "| 74|       State-gov| 88638|   Doctorate|           16| Never-married|   Prof-specialty|Other-relative|White|Female|           0|        3683|            20| United-States|  >50K|\n",
      "| 68|     Federal-gov|422013|     HS-grad|            9|      Divorced|   Prof-specialty| Not-in-family|White|Female|           0|        3683|            40| United-States| <=50K|\n",
      "| 41|         Private| 70037|Some-college|           10| Never-married|     Craft-repair|     Unmarried|White|  Male|           0|        3004|            60|          null|  >50K|\n",
      "| 45|         Private|172274|   Doctorate|           16|      Divorced|   Prof-specialty|     Unmarried|Black|Female|           0|        3004|            35| United-States|  >50K|\n",
      "| 38|Self-emp-not-inc|164526| Prof-school|           15| Never-married|   Prof-specialty| Not-in-family|White|  Male|           0|        2824|            45| United-States|  >50K|\n",
      "| 52|         Private|129177|   Bachelors|           13|       Widowed|    Other-service| Not-in-family|White|Female|           0|        2824|            20| United-States|  >50K|\n",
      "| 32|         Private|136204|     Masters|           14|     Separated|  Exec-managerial| Not-in-family|White|  Male|           0|        2824|            55| United-States|  >50K|\n",
      "| 46|         Private| 45363| Prof-school|           15|      Divorced|   Prof-specialty| Not-in-family|White|  Male|           0|        2824|            40| United-States|  >50K|\n",
      "| 45|         Private|172822|        11th|            7|      Divorced| Transport-moving| Not-in-family|White|  Male|           0|        2824|            76| United-States|  >50K|\n",
      "| 57|         Private|317847|     Masters|           14|      Divorced|  Exec-managerial| Not-in-family|White|  Male|           0|        2824|            50| United-States|  >50K|\n",
      "| 22|         Private|119592|  Assoc-acdm|           12| Never-married|Handlers-cleaners| Not-in-family|Black|  Male|           0|        2824|            40|          null|  >50K|\n",
      "| 34|         Private|203034|   Bachelors|           13|     Separated|            Sales| Not-in-family|White|  Male|           0|        2824|            50| United-States|  >50K|\n",
      "| 37|         Private|188774|   Bachelors|           13| Never-married|  Exec-managerial| Not-in-family|White|  Male|           0|        2824|            40| United-States|  >50K|\n",
      "+---+----------------+------+------------+-------------+--------------+-----------------+--------------+-----+------+------------+------------+--------------+--------------+------+\n",
      "only showing top 20 rows\n",
      "\n",
      "Total data points: 30727\n"
     ]
    }
   ],
   "source": [
    "missing_field_df = df.na.drop(subset=\"workclass\")\n",
    "missing_field_df.show()\n",
    "print(\"Total data points:\", missing_field_df.count())"
   ]
  },
  {
   "cell_type": "code",
   "execution_count": 16,
   "metadata": {},
   "outputs": [
    {
     "name": "stdout",
     "output_type": "stream",
     "text": [
      "+---+----------------+------+------------+-------------+--------------+-----------------+--------------+-----+------+------------+------------+--------------+--------------+------+\n",
      "|age|       workclass|fnlwgt|   education|education.num|marital.status|       occupation|  relationship| race|   sex|capital.gain|capital.loss|hours.per.week|native.country|income|\n",
      "+---+----------------+------+------------+-------------+--------------+-----------------+--------------+-----+------+------------+------------+--------------+--------------+------+\n",
      "| 82|         Private|132870|     HS-grad|            9|       Widowed|  Exec-managerial| Not-in-family|White|Female|           0|        4356|            18| United-States| <=50K|\n",
      "| 54|         Private|140359|     7th-8th|            4|      Divorced|Machine-op-inspct|     Unmarried|White|Female|           0|        3900|            40| United-States| <=50K|\n",
      "| 41|         Private|264663|Some-college|           10|     Separated|   Prof-specialty|     Own-child|White|Female|           0|        3900|            40| United-States| <=50K|\n",
      "| 34|         Private|216864|     HS-grad|            9|      Divorced|    Other-service|     Unmarried|White|Female|           0|        3770|            45| United-States| <=50K|\n",
      "| 38|         Private|150601|        10th|            6|     Separated|     Adm-clerical|     Unmarried|White|  Male|           0|        3770|            40| United-States| <=50K|\n",
      "| 74|       State-gov| 88638|   Doctorate|           16| Never-married|   Prof-specialty|Other-relative|White|Female|           0|        3683|            20| United-States|  >50K|\n",
      "| 68|     Federal-gov|422013|     HS-grad|            9|      Divorced|   Prof-specialty| Not-in-family|White|Female|           0|        3683|            40| United-States| <=50K|\n",
      "| 41|         Private| 70037|Some-college|           10| Never-married|     Craft-repair|     Unmarried|White|  Male|           0|        3004|            60|          null|  >50K|\n",
      "| 45|         Private|172274|   Doctorate|           16|      Divorced|   Prof-specialty|     Unmarried|Black|Female|           0|        3004|            35| United-States|  >50K|\n",
      "| 38|Self-emp-not-inc|164526| Prof-school|           15| Never-married|   Prof-specialty| Not-in-family|White|  Male|           0|        2824|            45| United-States|  >50K|\n",
      "| 52|         Private|129177|   Bachelors|           13|       Widowed|    Other-service| Not-in-family|White|Female|           0|        2824|            20| United-States|  >50K|\n",
      "| 32|         Private|136204|     Masters|           14|     Separated|  Exec-managerial| Not-in-family|White|  Male|           0|        2824|            55| United-States|  >50K|\n",
      "| 46|         Private| 45363| Prof-school|           15|      Divorced|   Prof-specialty| Not-in-family|White|  Male|           0|        2824|            40| United-States|  >50K|\n",
      "| 45|         Private|172822|        11th|            7|      Divorced| Transport-moving| Not-in-family|White|  Male|           0|        2824|            76| United-States|  >50K|\n",
      "| 57|         Private|317847|     Masters|           14|      Divorced|  Exec-managerial| Not-in-family|White|  Male|           0|        2824|            50| United-States|  >50K|\n",
      "| 22|         Private|119592|  Assoc-acdm|           12| Never-married|Handlers-cleaners| Not-in-family|Black|  Male|           0|        2824|            40|          null|  >50K|\n",
      "| 34|         Private|203034|   Bachelors|           13|     Separated|            Sales| Not-in-family|White|  Male|           0|        2824|            50| United-States|  >50K|\n",
      "| 37|         Private|188774|   Bachelors|           13| Never-married|  Exec-managerial| Not-in-family|White|  Male|           0|        2824|            40| United-States|  >50K|\n",
      "| 29|         Private| 77009|        11th|            7|     Separated|            Sales| Not-in-family|White|Female|           0|        2754|            42| United-States| <=50K|\n",
      "| 61|         Private| 29059|     HS-grad|            9|      Divorced|            Sales|     Unmarried|White|Female|           0|        2754|            25| United-States| <=50K|\n",
      "+---+----------------+------+------------+-------------+--------------+-----------------+--------------+-----+------+------------+------------+--------------+--------------+------+\n",
      "only showing top 20 rows\n",
      "\n",
      "Total data points: 30718\n"
     ]
    }
   ],
   "source": [
    "missing_field_df = df.na.drop(subset=\"occupation\")\n",
    "missing_field_df.show()\n",
    "print(\"Total data points:\", missing_field_df.count())"
   ]
  },
  {
   "cell_type": "code",
   "execution_count": 24,
   "metadata": {},
   "outputs": [
    {
     "name": "stdout",
     "output_type": "stream",
     "text": [
      "+---+----------------+------+------------+------------+--------------+-----------------+--------------+-----+------+-----------+-----------+------------+-------------+------+\n",
      "|age|       workclass|fnlwgt|   education|educationnum|marital.status|       occupation|  relationship| race|   sex|capitalgain|capitalloss|hoursperweek|nativecountry|income|\n",
      "+---+----------------+------+------------+------------+--------------+-----------------+--------------+-----+------+-----------+-----------+------------+-------------+------+\n",
      "| 90|         Private| 77053|     HS-grad|           9|       Widowed|             null| Not-in-family|White|Female|          0|       4356|          40|United-States| <=50K|\n",
      "| 82|         Private|132870|     HS-grad|           9|       Widowed|  Exec-managerial| Not-in-family|White|Female|          0|       4356|          18|United-States| <=50K|\n",
      "| 66|         Private|186061|Some-college|          10|       Widowed|             null|     Unmarried|Black|Female|          0|       4356|          40|United-States| <=50K|\n",
      "| 54|         Private|140359|     7th-8th|           4|      Divorced|Machine-op-inspct|     Unmarried|White|Female|          0|       3900|          40|United-States| <=50K|\n",
      "| 41|         Private|264663|Some-college|          10|     Separated|   Prof-specialty|     Own-child|White|Female|          0|       3900|          40|United-States| <=50K|\n",
      "| 34|         Private|216864|     HS-grad|           9|      Divorced|    Other-service|     Unmarried|White|Female|          0|       3770|          45|United-States| <=50K|\n",
      "| 38|         Private|150601|        10th|           6|     Separated|     Adm-clerical|     Unmarried|White|  Male|          0|       3770|          40|United-States| <=50K|\n",
      "| 74|       State-gov| 88638|   Doctorate|          16| Never-married|   Prof-specialty|Other-relative|White|Female|          0|       3683|          20|United-States|  >50K|\n",
      "| 68|     Federal-gov|422013|     HS-grad|           9|      Divorced|   Prof-specialty| Not-in-family|White|Female|          0|       3683|          40|United-States| <=50K|\n",
      "| 45|         Private|172274|   Doctorate|          16|      Divorced|   Prof-specialty|     Unmarried|Black|Female|          0|       3004|          35|United-States|  >50K|\n",
      "| 38|Self-emp-not-inc|164526| Prof-school|          15| Never-married|   Prof-specialty| Not-in-family|White|  Male|          0|       2824|          45|United-States|  >50K|\n",
      "| 52|         Private|129177|   Bachelors|          13|       Widowed|    Other-service| Not-in-family|White|Female|          0|       2824|          20|United-States|  >50K|\n",
      "| 32|         Private|136204|     Masters|          14|     Separated|  Exec-managerial| Not-in-family|White|  Male|          0|       2824|          55|United-States|  >50K|\n",
      "| 51|            null|172175|   Doctorate|          16| Never-married|             null| Not-in-family|White|  Male|          0|       2824|          40|United-States|  >50K|\n",
      "| 46|         Private| 45363| Prof-school|          15|      Divorced|   Prof-specialty| Not-in-family|White|  Male|          0|       2824|          40|United-States|  >50K|\n",
      "| 45|         Private|172822|        11th|           7|      Divorced| Transport-moving| Not-in-family|White|  Male|          0|       2824|          76|United-States|  >50K|\n",
      "| 57|         Private|317847|     Masters|          14|      Divorced|  Exec-managerial| Not-in-family|White|  Male|          0|       2824|          50|United-States|  >50K|\n",
      "| 34|         Private|203034|   Bachelors|          13|     Separated|            Sales| Not-in-family|White|  Male|          0|       2824|          50|United-States|  >50K|\n",
      "| 37|         Private|188774|   Bachelors|          13| Never-married|  Exec-managerial| Not-in-family|White|  Male|          0|       2824|          40|United-States|  >50K|\n",
      "| 29|         Private| 77009|        11th|           7|     Separated|            Sales| Not-in-family|White|Female|          0|       2754|          42|United-States| <=50K|\n",
      "+---+----------------+------+------------+------------+--------------+-----------------+--------------+-----+------+-----------+-----------+------------+-------------+------+\n",
      "only showing top 20 rows\n",
      "\n",
      "Total data points: 31978\n"
     ]
    }
   ],
   "source": [
    "missing_field_df = df.na.drop(subset=\"nativecountry\")\n",
    "missing_field_df.show()\n",
    "print(\"Total data points:\", missing_field_df.count())"
   ]
  },
  {
   "cell_type": "code",
   "execution_count": null,
   "metadata": {},
   "outputs": [],
   "source": []
  }
 ],
 "metadata": {
  "kernelspec": {
   "display_name": "Python 3",
   "language": "python",
   "name": "python3"
  },
  "language_info": {
   "codemirror_mode": {
    "name": "ipython",
    "version": 3
   },
   "file_extension": ".py",
   "mimetype": "text/x-python",
   "name": "python",
   "nbconvert_exporter": "python",
   "pygments_lexer": "ipython3",
   "version": "3.5.2"
  }
 },
 "nbformat": 4,
 "nbformat_minor": 2
}
